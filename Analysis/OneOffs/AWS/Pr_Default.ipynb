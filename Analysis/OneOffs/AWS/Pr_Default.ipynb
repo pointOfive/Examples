{
 "cells": [
  {
   "cell_type": "markdown",
   "metadata": {},
   "source": [
    "## Analysis\n",
    "\n",
    "See 2020_03_12_schwartz_klarna.pdf for a condensed summary of results.\n",
    "\n",
    "1. Data\n",
    "2. Test/Train Split\n",
    "3. Pipeline\n",
    "    1. Subset.OneHot.FlagMissingness.ImputeMissingness\n",
    "    2. RF\n",
    "4. Anomoly Detection (QC)\n",
    "    1. Isolation Forest\n",
    "    2. Productionalize\n",
    "5. Grid Search\n",
    "    1. Generalizability\n",
    "    2. Out of Sample Performance\n",
    "    3. Cost-Benefit Matrix\n",
    "    4. Productionalize\n",
    "6. Batch Predict\n",
    "7. Extrapolation (QC)\n",
    "    1. Muilticollinearity\n",
    "    2. Propensity Scores\n",
    "    3. Covariate Balance\n",
    "8. Scratch Work\n",
    "    1. Propensity Scores V2\n",
    "    2. Propensity Scores V3   \n"
   ]
  },
  {
   "cell_type": "code",
   "execution_count": 1,
   "metadata": {},
   "outputs": [
    {
     "name": "stderr",
     "output_type": "stream",
     "text": [
      "/anaconda3/lib/python3.6/site-packages/statsmodels/compat/pandas.py:56: FutureWarning: The pandas.core.datetools module is deprecated and will be removed in a future version. Please use the pandas.tseries module instead.\n",
      "  from pandas.core import datetools\n"
     ]
    }
   ],
   "source": [
    "# Misc.\n",
    "from datetime import date\n",
    "import matplotlib.pyplot as plt\n",
    "import pickle \n",
    "#import importlib\n",
    "#importlib.reload(custom_pipeline)\n",
    "\n",
    "# Pipelining/Extrapolation\n",
    "from custom_pipeline import subsetDataFrame,\\\n",
    "                            oneHotEncoder,\\\n",
    "                            addMissingnessIndicators,\\\n",
    "                            makeMissingnessMedian,\\\n",
    "                            thresholdedRF\n",
    "import pandas as pd\n",
    "pd.set_option(\"display.max_columns\", 101)\n",
    "pd.set_option(\"display.max_rows\", 201)\n",
    "import numpy as np\n",
    "from sklearn.base import BaseEstimator, TransformerMixin\n",
    "from sklearn.pipeline import Pipeline\n",
    "from sklearn.ensemble import RandomForestClassifier, IsolationForest \n",
    "\n",
    "# Tuning\n",
    "from sklearn.model_selection import StratifiedKFold, GridSearchCV\n",
    "from sklearn.metrics import confusion_matrix, make_scorer,\\\n",
    "                            recall_score, precision_score, accuracy_score\n",
    "\n",
    "# Balance\n",
    "from statsmodels.stats.outliers_influence import variance_inflation_factor\n",
    "from pymatch.Matcher import Matcher\n",
    "from scipy.stats import kstest\n",
    "\n",
    "# Scratch\n",
    "from causalinference import CausalModel\n",
    "from statsmodels.discrete.discrete_model import Logit\n",
    "import statsmodels.api as sm\n",
    "from scipy import stats\n",
    "stats.chisqprob = lambda chisq, df: stats.chi2.sf(chisq, df)\n"
   ]
  },
  {
   "cell_type": "code",
   "execution_count": 2,
   "metadata": {},
   "outputs": [],
   "source": [
    "DATE = date.today()"
   ]
  },
  {
   "cell_type": "markdown",
   "metadata": {},
   "source": [
    "# 1. Data"
   ]
  },
  {
   "cell_type": "code",
   "execution_count": 3,
   "metadata": {},
   "outputs": [
    {
     "data": {
      "text/plain": [
       "(99976, 43)"
      ]
     },
     "execution_count": 3,
     "metadata": {},
     "output_type": "execute_result"
    }
   ],
   "source": [
    "PATH = '/Users/schwarls37/Downloads/ML Case Study/'\n",
    "FILE = 'dataset.csv'\n",
    "DATA = pd.read_csv(PATH+FILE, sep=';')\n",
    "DATA.shape"
   ]
  },
  {
   "cell_type": "code",
   "execution_count": 4,
   "metadata": {},
   "outputs": [],
   "source": [
    "FEATURES = DATA.columns.tolist()[2:]\n",
    "CATEGORICALS = [\n",
    "    'account_status',\n",
    "    'account_worst_status_0_3m',\n",
    "    'account_worst_status_12_24m',\n",
    "    'account_worst_status_3_6m',\n",
    "    'account_worst_status_6_12m',\n",
    "    'merchant_category', \n",
    "    'merchant_group',\n",
    "    'name_in_email',\n",
    "    'status_last_archived_0_24m',\n",
    "    'status_2nd_last_archived_0_24m',\n",
    "    'status_3rd_last_archived_0_24m',\n",
    "    'status_max_archived_0_6_months',\n",
    "    'status_max_archived_0_12_months',\n",
    "    'status_max_archived_0_24_months',\n",
    "    'worst_status_active_inv'\n",
    "]\n",
    "NON_CATEGORICALS = [f for f in FEATURES if f not in CATEGORICALS]"
   ]
  },
  {
   "cell_type": "markdown",
   "metadata": {},
   "source": [
    "# 2. Test/Train Split"
   ]
  },
  {
   "cell_type": "code",
   "execution_count": 7,
   "metadata": {},
   "outputs": [
    {
     "data": {
      "text/plain": [
       "((75000, 43), (14976, 43))"
      ]
     },
     "execution_count": 7,
     "metadata": {},
     "output_type": "execute_result"
    }
   ],
   "source": [
    "kp_labeled = ~DATA.default.isna()\n",
    "DATA_LABELED = DATA[kp_labeled]\n",
    "kp_test = DATA_LABELED.sample(n=39976).index\n",
    "kp_test = DATA_LABELED.sample(n=14976).index\n",
    "kp_test = DATA_LABELED.index.isin(kp_test)\n",
    "DATA_TEST = DATA_LABELED[kp_test]\n",
    "DATA_TRAIN = DATA_LABELED[~kp_test]\n",
    "DATA_TRAIN.shape,DATA_TEST.shape"
   ]
  },
  {
   "cell_type": "markdown",
   "metadata": {},
   "source": [
    "# 3. Pipeline"
   ]
  },
  {
   "cell_type": "code",
   "execution_count": 9,
   "metadata": {},
   "outputs": [
    {
     "data": {
      "text/plain": [
       "array([[67486,  6430],\n",
       "       [    0,  1084]])"
      ]
     },
     "execution_count": 9,
     "metadata": {},
     "output_type": "execute_result"
    }
   ],
   "source": [
    "SDF = subsetDataFrame(FEATURES)\n",
    "SDF.fit(DATA)\n",
    "DATA_SDF = SDF.transform(DATA)\n",
    "\n",
    "OHE = oneHotEncoder(CATEGORICALS)\n",
    "OHE.fit(DATA_SDF)\n",
    "DATA_SDF_OHE = OHE.transform(DATA_SDF)\n",
    "\n",
    "AMI = addMissingnessIndicators(NON_CATEGORICALS)\n",
    "AMI.fit(DATA_SDF_OHE)\n",
    "DATA_SDF_OHE_AMI = AMI.transform(DATA_SDF_OHE)\n",
    "\n",
    "MMM = makeMissingnessMedian()    \n",
    "MMM.fit(DATA_SDF_OHE_AMI)\n",
    "DATA_SDF_OHE_AMI_MMM = MMM.transform(DATA_SDF_OHE_AMI)\n",
    "\n",
    "SDF = subsetDataFrame(FEATURES)\n",
    "OHE = oneHotEncoder(CATEGORICALS)\n",
    "AMI = addMissingnessIndicators(NON_CATEGORICALS)\n",
    "MMM = makeMissingnessMedian()\n",
    "TRF = thresholdedRF(positive_class_rate=DATA_TRAIN.default.sum()/DATA_TRAIN.shape[0],\n",
    "                    min_samples_leaf = 1, n_estimators=100, max_features='auto')\n",
    "\n",
    "rf_pipeline = Pipeline([('subsetDataFrame',SDF), \n",
    "                        ('oneHotEncoder',OHE), \n",
    "                        ('addMissingnessIndicators',AMI), \n",
    "                        ('makeMissingnessMedian',MMM), \n",
    "                        ('thresholdedRF',TRF)])\n",
    "\n",
    "rf_pipeline.fit(DATA_TRAIN, DATA_TRAIN.default)\n",
    "confusion_matrix(DATA_TRAIN.default, rf_pipeline.predict(DATA_TRAIN))"
   ]
  },
  {
   "cell_type": "markdown",
   "metadata": {},
   "source": [
    "# 4. Anomoly Detection (QC)"
   ]
  },
  {
   "cell_type": "code",
   "execution_count": 10,
   "metadata": {},
   "outputs": [
    {
     "data": {
      "text/plain": [
       "(array([   38.,   271.,   983.,  2610.,  5485.,  9687., 16026., 22448.,\n",
       "        12621.,  4831.]),\n",
       " array([-0.08126426, -0.05849929, -0.03573433, -0.01296937,  0.0097956 ,\n",
       "         0.03256056,  0.05532553,  0.07809049,  0.10085546,  0.12362042,\n",
       "         0.14638538]),\n",
       " <a list of 10 Patch objects>)"
      ]
     },
     "execution_count": 10,
     "metadata": {},
     "output_type": "execute_result"
    },
    {
     "data": {
      "image/png": "[encoded data removed]",
      "text/plain": [
       "<Figure size 432x288 with 1 Axes>"
      ]
     },
     "metadata": {},
     "output_type": "display_data"
    }
   ],
   "source": [
    "DATA_TRAIN_ISOF = rf_pipeline.transform(DATA_TRAIN)\n",
    "isoF = IsolationForest(max_samples=100)\n",
    "isoF.fit(DATA_TRAIN_ISOF)\n",
    "anomoly_score = isoF.decision_function(DATA_TRAIN_ISOF)\n",
    "\n",
    "plt.hist(anomoly_score)"
   ]
  },
  {
   "cell_type": "markdown",
   "metadata": {},
   "source": [
    "# 4. Anomoly Detection (QC): Productionalize"
   ]
  },
  {
   "cell_type": "code",
   "execution_count": 1106,
   "metadata": {},
   "outputs": [],
   "source": [
    "pickle.dump(rf_pipeline.transform(DATA_TRAIN)[:0], open('/Users/schwarls37/TAKEHOMES/fraud/webserver/isoF_X.pkl', 'wb'))\n",
    "pickle.dump(isoF, open('/Users/schwarls37/TAKEHOMES/fraud/webserver/isoF.pkl', 'wb'))\n",
    "pickle.dump(anomoly_score, open('/Users/schwarls37/TAKEHOMES/fraud/webserver/isoF_pop.pkl', 'wb'))"
   ]
  },
  {
   "cell_type": "markdown",
   "metadata": {},
   "source": [
    "# 5. Grid Search"
   ]
  },
  {
   "cell_type": "code",
   "execution_count": 14,
   "metadata": {
    "scrolled": true
   },
   "outputs": [
    {
     "name": "stdout",
     "output_type": "stream",
     "text": [
      "Fitting 5 folds for each of 30 candidates, totalling 150 fits\n",
      "[CV] thresholdedRF__max_features=4, thresholdedRF__min_samples_leaf=100, thresholdedRF__positive_class_rate=0.014453333333333334 \n",
      "[CV] thresholdedRF__max_features=4, thresholdedRF__min_samples_leaf=100, thresholdedRF__positive_class_rate=0.014453333333333334 \n",
      "[CV] thresholdedRF__max_features=4, thresholdedRF__min_samples_leaf=100, thresholdedRF__positive_class_rate=0.014453333333333334 \n",
      "[CV] thresholdedRF__max_features=4, thresholdedRF__min_samples_leaf=100, thresholdedRF__positive_class_rate=0.014453333333333334 \n",
      "[CV]  thresholdedRF__max_features=4, thresholdedRF__min_samples_leaf=100, thresholdedRF__positive_class_rate=0.014453333333333334, precision_score=0.03515346181299072, recall_score=0.9078341013824884, accuracy_score=0.6382, total=  24.6s\n",
      "[CV] thresholdedRF__max_features=4, thresholdedRF__min_samples_leaf=100, thresholdedRF__positive_class_rate=0.014453333333333334 \n",
      "[CV]  thresholdedRF__max_features=4, thresholdedRF__min_samples_leaf=100, thresholdedRF__positive_class_rate=0.014453333333333334, precision_score=0.03706988293721178, recall_score=0.9631336405529954, accuracy_score=0.6375333333333333, total=  24.8s\n",
      "[CV] thresholdedRF__max_features=4, thresholdedRF__min_samples_leaf=120, thresholdedRF__positive_class_rate=0.014453333333333334 \n",
      "[CV]  thresholdedRF__max_features=4, thresholdedRF__min_samples_leaf=100, thresholdedRF__positive_class_rate=0.014453333333333334, precision_score=0.03644158628081458, recall_score=0.9400921658986175, accuracy_score=0.6395333333333333, total=  24.5s\n",
      "[CV] thresholdedRF__max_features=4, thresholdedRF__min_samples_leaf=120, thresholdedRF__positive_class_rate=0.014453333333333334 \n",
      "[CV]  thresholdedRF__max_features=4, thresholdedRF__min_samples_leaf=100, thresholdedRF__positive_class_rate=0.014453333333333334, precision_score=0.035402953211172386, recall_score=0.9170506912442397, accuracy_score=0.6373575094993668, total=  25.1s\n",
      "[CV] thresholdedRF__max_features=4, thresholdedRF__min_samples_leaf=120, thresholdedRF__positive_class_rate=0.014453333333333334 \n",
      "[CV]  thresholdedRF__max_features=4, thresholdedRF__min_samples_leaf=100, thresholdedRF__positive_class_rate=0.014453333333333334, precision_score=0.036741214057507986, recall_score=0.9583333333333334, accuracy_score=0.6375758383892259, total=  22.1s\n",
      "[CV] thresholdedRF__max_features=4, thresholdedRF__min_samples_leaf=120, thresholdedRF__positive_class_rate=0.014453333333333334 \n"
     ]
    },
    {
     "name": "stderr",
     "output_type": "stream",
     "text": [
      "[Parallel(n_jobs=-1)]: Done   5 tasks      | elapsed:  1.7min\n"
     ]
    },
    {
     "name": "stdout",
     "output_type": "stream",
     "text": [
      "[CV]  thresholdedRF__max_features=4, thresholdedRF__min_samples_leaf=120, thresholdedRF__positive_class_rate=0.014453333333333334, precision_score=0.036751523843671564, recall_score=0.9447004608294931, accuracy_score=0.641, total=  22.3s\n",
      "[CV] thresholdedRF__max_features=4, thresholdedRF__min_samples_leaf=120, thresholdedRF__positive_class_rate=0.014453333333333334 \n",
      "[CV]  thresholdedRF__max_features=4, thresholdedRF__min_samples_leaf=120, thresholdedRF__positive_class_rate=0.014453333333333334, precision_score=0.03587206220180244, recall_score=0.9354838709677419, accuracy_score=0.6353576428238118, total=  22.6s\n",
      "[CV]  thresholdedRF__max_features=4, thresholdedRF__min_samples_leaf=120, thresholdedRF__positive_class_rate=0.014453333333333334, precision_score=0.03488372093023256, recall_score=0.8986175115207373, accuracy_score=0.6388666666666667, total=  21.7s\n",
      "[CV] thresholdedRF__max_features=4, thresholdedRF__min_samples_leaf=140, thresholdedRF__positive_class_rate=0.014453333333333334 \n",
      "[CV] thresholdedRF__max_features=4, thresholdedRF__min_samples_leaf=140, thresholdedRF__positive_class_rate=0.014453333333333334 \n",
      "[CV]  thresholdedRF__max_features=4, thresholdedRF__min_samples_leaf=120, thresholdedRF__positive_class_rate=0.014453333333333334, precision_score=0.03643796658371845, recall_score=0.9447004608294931, accuracy_score=0.6378, total=  21.6s\n",
      "[CV] thresholdedRF__max_features=4, thresholdedRF__min_samples_leaf=140, thresholdedRF__positive_class_rate=0.014453333333333334 \n",
      "[CV]  thresholdedRF__max_features=4, thresholdedRF__min_samples_leaf=140, thresholdedRF__positive_class_rate=0.014453333333333334, precision_score=0.03682618751111902, recall_score=0.9539170506912442, accuracy_score=0.6384, total=  21.2s\n",
      "[CV] thresholdedRF__max_features=4, thresholdedRF__min_samples_leaf=140, thresholdedRF__positive_class_rate=0.014453333333333334 \n"
     ]
    },
    {
     "name": "stderr",
     "output_type": "stream",
     "text": [
      "[Parallel(n_jobs=-1)]: Done  10 tasks      | elapsed:  2.5min\n"
     ]
    },
    {
     "name": "stdout",
     "output_type": "stream",
     "text": [
      "[CV]  thresholdedRF__max_features=4, thresholdedRF__min_samples_leaf=120, thresholdedRF__positive_class_rate=0.014453333333333334, precision_score=0.036418015482054894, recall_score=0.9583333333333334, accuracy_score=0.6342422828188546, total=  21.7s\n",
      "[CV] thresholdedRF__max_features=4, thresholdedRF__min_samples_leaf=140, thresholdedRF__positive_class_rate=0.014453333333333334 \n",
      "[CV]  thresholdedRF__max_features=4, thresholdedRF__min_samples_leaf=140, thresholdedRF__positive_class_rate=0.014453333333333334, precision_score=0.03550401427297056, recall_score=0.9170506912442397, accuracy_score=0.6384241050596627, total=  21.6s\n",
      "[CV] thresholdedRF__max_features=4, thresholdedRF__min_samples_leaf=160, thresholdedRF__positive_class_rate=0.014453333333333334 \n",
      "[CV]  thresholdedRF__max_features=4, thresholdedRF__min_samples_leaf=140, thresholdedRF__positive_class_rate=0.014453333333333334, precision_score=0.03430592396109638, recall_score=0.8940092165898618, accuracy_score=0.6344, total=  20.5s\n",
      "[CV] thresholdedRF__max_features=4, thresholdedRF__min_samples_leaf=160, thresholdedRF__positive_class_rate=0.014453333333333334 \n",
      "[CV]  thresholdedRF__max_features=4, thresholdedRF__min_samples_leaf=140, thresholdedRF__positive_class_rate=0.014453333333333334, precision_score=0.036170212765957444, recall_score=0.9400921658986175, accuracy_score=0.6367333333333334, total=  20.6s\n",
      "[CV] thresholdedRF__max_features=4, thresholdedRF__min_samples_leaf=160, thresholdedRF__positive_class_rate=0.014453333333333334 \n",
      "[CV]  thresholdedRF__max_features=4, thresholdedRF__min_samples_leaf=160, thresholdedRF__positive_class_rate=0.014453333333333334, precision_score=0.03577120595006198, recall_score=0.9308755760368663, accuracy_score=0.6360242650489968, total=  20.5s\n",
      "[CV] thresholdedRF__max_features=4, thresholdedRF__min_samples_leaf=160, thresholdedRF__positive_class_rate=0.014453333333333334 \n",
      "[CV]  thresholdedRF__max_features=4, thresholdedRF__min_samples_leaf=140, thresholdedRF__positive_class_rate=0.014453333333333334, precision_score=0.035701966195239736, recall_score=0.9583333333333334, accuracy_score=0.6266417761184079, total=  20.9s\n",
      "[CV] thresholdedRF__max_features=4, thresholdedRF__min_samples_leaf=160, thresholdedRF__positive_class_rate=0.014453333333333334 \n",
      "[CV]  thresholdedRF__max_features=4, thresholdedRF__min_samples_leaf=160, thresholdedRF__positive_class_rate=0.014453333333333334, precision_score=0.03558658266643964, recall_score=0.9631336405529954, accuracy_score=0.6218666666666667, total=  19.9s\n",
      "[CV] thresholdedRF__max_features=4, thresholdedRF__min_samples_leaf=180, thresholdedRF__positive_class_rate=0.014453333333333334 \n"
     ]
    },
    {
     "name": "stderr",
     "output_type": "stream",
     "text": [
      "[Parallel(n_jobs=-1)]: Done  17 tasks      | elapsed:  3.9min\n"
     ]
    },
    {
     "name": "stdout",
     "output_type": "stream",
     "text": [
      "[CV]  thresholdedRF__max_features=4, thresholdedRF__min_samples_leaf=160, thresholdedRF__positive_class_rate=0.014453333333333334, precision_score=0.03457911281872162, recall_score=0.9124423963133641, accuracy_score=0.6302, total=  20.5s\n",
      "[CV] thresholdedRF__max_features=4, thresholdedRF__min_samples_leaf=180, thresholdedRF__positive_class_rate=0.014453333333333334 \n",
      "[CV]  thresholdedRF__max_features=4, thresholdedRF__min_samples_leaf=160, thresholdedRF__positive_class_rate=0.014453333333333334, precision_score=0.03517241379310345, recall_score=0.9400921658986175, accuracy_score=0.6260666666666667, total=  20.3s\n",
      "[CV] thresholdedRF__max_features=4, thresholdedRF__min_samples_leaf=180, thresholdedRF__positive_class_rate=0.014453333333333334 \n",
      "[CV]  thresholdedRF__max_features=4, thresholdedRF__min_samples_leaf=160, thresholdedRF__positive_class_rate=0.014453333333333334, precision_score=0.034593861285399354, recall_score=0.9444444444444444, accuracy_score=0.619641309420628, total=  20.4s\n",
      "[CV] thresholdedRF__max_features=4, thresholdedRF__min_samples_leaf=180, thresholdedRF__positive_class_rate=0.014453333333333334 \n",
      "[CV]  thresholdedRF__max_features=4, thresholdedRF__min_samples_leaf=180, thresholdedRF__positive_class_rate=0.014453333333333334, precision_score=0.03575898444484177, recall_score=0.9216589861751152, accuracy_score=0.6393573761749217, total=  20.2s\n",
      "[CV] thresholdedRF__max_features=4, thresholdedRF__min_samples_leaf=180, thresholdedRF__positive_class_rate=0.014453333333333334 \n",
      "[CV]  thresholdedRF__max_features=4, thresholdedRF__min_samples_leaf=180, thresholdedRF__positive_class_rate=0.014453333333333334, precision_score=0.03670863628302891, recall_score=0.9539170506912442, accuracy_score=0.6372, total=  20.3s\n",
      "[CV] thresholdedRF__max_features=4, thresholdedRF__min_samples_leaf=200, thresholdedRF__positive_class_rate=0.014453333333333334 \n",
      "[CV]  thresholdedRF__max_features=4, thresholdedRF__min_samples_leaf=180, thresholdedRF__positive_class_rate=0.014453333333333334, precision_score=0.03433098591549296, recall_score=0.8986175115207373, accuracy_score=0.6328666666666667, total=  20.2s\n",
      "[CV] thresholdedRF__max_features=4, thresholdedRF__min_samples_leaf=200, thresholdedRF__positive_class_rate=0.014453333333333334 \n",
      "[CV]  thresholdedRF__max_features=4, thresholdedRF__min_samples_leaf=180, thresholdedRF__positive_class_rate=0.014453333333333334, precision_score=0.03561253561253561, recall_score=0.9216589861751152, accuracy_score=0.6378, total=  20.2s\n",
      "[CV] thresholdedRF__max_features=4, thresholdedRF__min_samples_leaf=200, thresholdedRF__positive_class_rate=0.014453333333333334 \n"
     ]
    },
    {
     "name": "stderr",
     "output_type": "stream",
     "text": [
      "[Parallel(n_jobs=-1)]: Done  24 tasks      | elapsed:  4.7min\n"
     ]
    },
    {
     "name": "stdout",
     "output_type": "stream",
     "text": [
      "[CV]  thresholdedRF__max_features=4, thresholdedRF__min_samples_leaf=180, thresholdedRF__positive_class_rate=0.014453333333333334, precision_score=0.03519458544839255, recall_score=0.9629629629629629, accuracy_score=0.6193079538635909, total=  22.8s\n",
      "[CV] thresholdedRF__max_features=4, thresholdedRF__min_samples_leaf=200, thresholdedRF__positive_class_rate=0.014453333333333334 \n",
      "[CV]  thresholdedRF__max_features=4, thresholdedRF__min_samples_leaf=200, thresholdedRF__positive_class_rate=0.014453333333333334, precision_score=0.03454231433506045, recall_score=0.9216589861751152, accuracy_score=0.6262249183387775, total=  23.6s\n",
      "[CV] thresholdedRF__max_features=4, thresholdedRF__min_samples_leaf=200, thresholdedRF__positive_class_rate=0.014453333333333334 \n",
      "[CV]  thresholdedRF__max_features=4, thresholdedRF__min_samples_leaf=200, thresholdedRF__positive_class_rate=0.014453333333333334, precision_score=0.03467799009200283, recall_score=0.9032258064516129, accuracy_score=0.6348666666666667, total=  22.9s\n",
      "[CV] thresholdedRF__max_features=7, thresholdedRF__min_samples_leaf=100, thresholdedRF__positive_class_rate=0.014453333333333334 \n",
      "[CV]  thresholdedRF__max_features=4, thresholdedRF__min_samples_leaf=200, thresholdedRF__positive_class_rate=0.014453333333333334, precision_score=0.03602206135815236, recall_score=0.9631336405529954, accuracy_score=0.6266, total=  23.7s\n",
      "[CV] thresholdedRF__max_features=7, thresholdedRF__min_samples_leaf=100, thresholdedRF__positive_class_rate=0.014453333333333334 \n",
      "[CV]  thresholdedRF__max_features=4, thresholdedRF__min_samples_leaf=200, thresholdedRF__positive_class_rate=0.014453333333333334, precision_score=0.035020804438280165, recall_score=0.9308755760368663, accuracy_score=0.6279333333333333, total=  21.1s\n",
      "[CV] thresholdedRF__max_features=7, thresholdedRF__min_samples_leaf=100, thresholdedRF__positive_class_rate=0.014453333333333334 \n",
      "[CV]  thresholdedRF__max_features=4, thresholdedRF__min_samples_leaf=200, thresholdedRF__positive_class_rate=0.014453333333333334, precision_score=0.03461083910180652, recall_score=0.9490740740740741, accuracy_score=0.6180412027468498, total=  21.8s\n",
      "[CV] thresholdedRF__max_features=7, thresholdedRF__min_samples_leaf=100, thresholdedRF__positive_class_rate=0.014453333333333334 \n",
      "[CV]  thresholdedRF__max_features=7, thresholdedRF__min_samples_leaf=100, thresholdedRF__positive_class_rate=0.014453333333333334, precision_score=0.0379423568040861, recall_score=0.9585253456221198, accuracy_score=0.6478, total=  24.9s\n",
      "[CV] thresholdedRF__max_features=7, thresholdedRF__min_samples_leaf=100, thresholdedRF__positive_class_rate=0.014453333333333334 \n",
      "[CV]  thresholdedRF__max_features=7, thresholdedRF__min_samples_leaf=100, thresholdedRF__positive_class_rate=0.014453333333333334, precision_score=0.03642562354207787, recall_score=0.9354838709677419, accuracy_score=0.6410905939604027, total=  25.7s\n",
      "[CV] thresholdedRF__max_features=7, thresholdedRF__min_samples_leaf=120, thresholdedRF__positive_class_rate=0.014453333333333334 \n",
      "[CV]  thresholdedRF__max_features=7, thresholdedRF__min_samples_leaf=100, thresholdedRF__positive_class_rate=0.014453333333333334, precision_score=0.03574020319303338, recall_score=0.9078341013824884, accuracy_score=0.6443333333333333, total=  23.8s\n",
      "[CV] thresholdedRF__max_features=7, thresholdedRF__min_samples_leaf=120, thresholdedRF__positive_class_rate=0.014453333333333334 \n"
     ]
    },
    {
     "name": "stderr",
     "output_type": "stream",
     "text": [
      "[Parallel(n_jobs=-1)]: Done  33 tasks      | elapsed:  7.1min\n"
     ]
    },
    {
     "name": "stdout",
     "output_type": "stream",
     "text": [
      "[CV]  thresholdedRF__max_features=7, thresholdedRF__min_samples_leaf=100, thresholdedRF__positive_class_rate=0.014453333333333334, precision_score=0.03761467889908257, recall_score=0.9447004608294931, accuracy_score=0.6495333333333333, total=  23.1s\n",
      "[CV] thresholdedRF__max_features=7, thresholdedRF__min_samples_leaf=120, thresholdedRF__positive_class_rate=0.014453333333333334 \n",
      "[CV]  thresholdedRF__max_features=7, thresholdedRF__min_samples_leaf=120, thresholdedRF__positive_class_rate=0.014453333333333334, precision_score=0.03641908862576247, recall_score=0.9354838709677419, accuracy_score=0.6410239317378842, total=  24.7s\n",
      "[CV] thresholdedRF__max_features=7, thresholdedRF__min_samples_leaf=120, thresholdedRF__positive_class_rate=0.014453333333333334 \n",
      "[CV]  thresholdedRF__max_features=7, thresholdedRF__min_samples_leaf=100, thresholdedRF__positive_class_rate=0.014453333333333334, precision_score=0.037182695745441544, recall_score=0.9629629629629629, accuracy_score=0.6403760250683379, total=  25.2s\n",
      "[CV] thresholdedRF__max_features=7, thresholdedRF__min_samples_leaf=120, thresholdedRF__positive_class_rate=0.014453333333333334 \n",
      "[CV]  thresholdedRF__max_features=7, thresholdedRF__min_samples_leaf=120, thresholdedRF__positive_class_rate=0.014453333333333334, precision_score=0.03752680486061472, recall_score=0.967741935483871, accuracy_score=0.6404666666666666, total=  25.4s\n",
      "[CV] thresholdedRF__max_features=7, thresholdedRF__min_samples_leaf=140, thresholdedRF__positive_class_rate=0.014453333333333334 \n",
      "[CV]  thresholdedRF__max_features=7, thresholdedRF__min_samples_leaf=120, thresholdedRF__positive_class_rate=0.014453333333333334, precision_score=0.03552844069621389, recall_score=0.9124423963133641, accuracy_score=0.6404, total=  25.0s\n",
      "[CV] thresholdedRF__max_features=7, thresholdedRF__min_samples_leaf=140, thresholdedRF__positive_class_rate=0.014453333333333334 \n",
      "[CV]  thresholdedRF__max_features=7, thresholdedRF__min_samples_leaf=120, thresholdedRF__positive_class_rate=0.014453333333333334, precision_score=0.036871308394487205, recall_score=0.9493087557603687, accuracy_score=0.6405333333333333, total=  24.2s\n",
      "[CV] thresholdedRF__max_features=7, thresholdedRF__min_samples_leaf=140, thresholdedRF__positive_class_rate=0.014453333333333334 \n",
      "[CV]  thresholdedRF__max_features=7, thresholdedRF__min_samples_leaf=120, thresholdedRF__positive_class_rate=0.014453333333333334, precision_score=0.036645525017618044, recall_score=0.9629629629629629, accuracy_score=0.6349089939329289, total=  24.9s\n",
      "[CV] thresholdedRF__max_features=7, thresholdedRF__min_samples_leaf=140, thresholdedRF__positive_class_rate=0.014453333333333334 \n",
      "[CV]  thresholdedRF__max_features=7, thresholdedRF__min_samples_leaf=140, thresholdedRF__positive_class_rate=0.014453333333333334, precision_score=0.03592388404766139, recall_score=0.9308755760368663, accuracy_score=0.6376241583894408, total=  25.7s\n",
      "[CV] thresholdedRF__max_features=7, thresholdedRF__min_samples_leaf=140, thresholdedRF__positive_class_rate=0.014453333333333334 \n",
      "[CV]  thresholdedRF__max_features=7, thresholdedRF__min_samples_leaf=140, thresholdedRF__positive_class_rate=0.014453333333333334, precision_score=0.037162162162162164, recall_score=0.9631336405529954, accuracy_score=0.6384666666666666, total=  26.5s\n",
      "[CV] thresholdedRF__max_features=7, thresholdedRF__min_samples_leaf=160, thresholdedRF__positive_class_rate=0.014453333333333334 \n"
     ]
    },
    {
     "name": "stderr",
     "output_type": "stream",
     "text": [
      "[Parallel(n_jobs=-1)]: Done  42 tasks      | elapsed:  8.9min\n"
     ]
    },
    {
     "name": "stdout",
     "output_type": "stream",
     "text": [
      "[CV]  thresholdedRF__max_features=7, thresholdedRF__min_samples_leaf=140, thresholdedRF__positive_class_rate=0.014453333333333334, precision_score=0.03549438609199566, recall_score=0.9032258064516129, accuracy_score=0.6435333333333333, total=  27.0s\n",
      "[CV] thresholdedRF__max_features=7, thresholdedRF__min_samples_leaf=160, thresholdedRF__positive_class_rate=0.014453333333333334 \n",
      "[CV]  thresholdedRF__max_features=7, thresholdedRF__min_samples_leaf=140, thresholdedRF__positive_class_rate=0.014453333333333334, precision_score=0.037198330611504266, recall_score=0.9447004608294931, accuracy_score=0.6454666666666666, total=  27.4s\n",
      "[CV] thresholdedRF__max_features=7, thresholdedRF__min_samples_leaf=160, thresholdedRF__positive_class_rate=0.014453333333333334 \n",
      "[CV]  thresholdedRF__max_features=7, thresholdedRF__min_samples_leaf=140, thresholdedRF__positive_class_rate=0.014453333333333334, precision_score=0.036527263102170464, recall_score=0.9583333333333334, accuracy_score=0.6353756917127809, total=  27.5s\n",
      "[CV] thresholdedRF__max_features=7, thresholdedRF__min_samples_leaf=160, thresholdedRF__positive_class_rate=0.014453333333333334 \n",
      "[CV]  thresholdedRF__max_features=7, thresholdedRF__min_samples_leaf=160, thresholdedRF__positive_class_rate=0.014453333333333334, precision_score=0.036178934236321514, recall_score=0.9354838709677419, accuracy_score=0.6385574295046997, total=  27.3s\n",
      "[CV] thresholdedRF__max_features=7, thresholdedRF__min_samples_leaf=160, thresholdedRF__positive_class_rate=0.014453333333333334 \n",
      "[CV]  thresholdedRF__max_features=7, thresholdedRF__min_samples_leaf=160, thresholdedRF__positive_class_rate=0.014453333333333334, precision_score=0.037089871611982884, recall_score=0.9585253456221198, accuracy_score=0.6394, total=  26.4s\n",
      "[CV] thresholdedRF__max_features=7, thresholdedRF__min_samples_leaf=180, thresholdedRF__positive_class_rate=0.014453333333333334 \n",
      "[CV]  thresholdedRF__max_features=7, thresholdedRF__min_samples_leaf=160, thresholdedRF__positive_class_rate=0.014453333333333334, precision_score=0.03548153511947864, recall_score=0.9032258064516129, accuracy_score=0.6434, total=  25.5s\n",
      "[CV] thresholdedRF__max_features=7, thresholdedRF__min_samples_leaf=180, thresholdedRF__positive_class_rate=0.014453333333333334 \n",
      "[CV]  thresholdedRF__max_features=7, thresholdedRF__min_samples_leaf=160, thresholdedRF__positive_class_rate=0.014453333333333334, precision_score=0.03655913978494624, recall_score=0.9400921658986175, accuracy_score=0.6407333333333334, total=  24.4s\n",
      "[CV] thresholdedRF__max_features=7, thresholdedRF__min_samples_leaf=180, thresholdedRF__positive_class_rate=0.014453333333333334 \n",
      "[CV]  thresholdedRF__max_features=7, thresholdedRF__min_samples_leaf=160, thresholdedRF__positive_class_rate=0.014453333333333334, precision_score=0.0364656381486676, recall_score=0.9629629629629629, accuracy_score=0.6330422028135209, total=  25.1s\n",
      "[CV] thresholdedRF__max_features=7, thresholdedRF__min_samples_leaf=180, thresholdedRF__positive_class_rate=0.014453333333333334 \n",
      "[CV]  thresholdedRF__max_features=7, thresholdedRF__min_samples_leaf=180, thresholdedRF__positive_class_rate=0.014453333333333334, precision_score=0.035986527211487325, recall_score=0.9354838709677419, accuracy_score=0.6365575628291448, total=  24.3s\n",
      "[CV] thresholdedRF__max_features=7, thresholdedRF__min_samples_leaf=180, thresholdedRF__positive_class_rate=0.014453333333333334 \n",
      "[CV]  thresholdedRF__max_features=7, thresholdedRF__min_samples_leaf=180, thresholdedRF__positive_class_rate=0.014453333333333334, precision_score=0.0367946223244295, recall_score=0.9585253456221198, accuracy_score=0.6364, total=  24.3s\n",
      "[CV] thresholdedRF__max_features=7, thresholdedRF__min_samples_leaf=200, thresholdedRF__positive_class_rate=0.014453333333333334 \n",
      "[CV]  thresholdedRF__max_features=7, thresholdedRF__min_samples_leaf=180, thresholdedRF__positive_class_rate=0.014453333333333334, precision_score=0.03517229066238172, recall_score=0.9078341013824884, accuracy_score=0.6384, total=  23.9s\n",
      "[CV] thresholdedRF__max_features=7, thresholdedRF__min_samples_leaf=200, thresholdedRF__positive_class_rate=0.014453333333333334 \n"
     ]
    },
    {
     "name": "stderr",
     "output_type": "stream",
     "text": [
      "[Parallel(n_jobs=-1)]: Done  53 tasks      | elapsed: 11.4min\n"
     ]
    },
    {
     "name": "stdout",
     "output_type": "stream",
     "text": [
      "[CV]  thresholdedRF__max_features=7, thresholdedRF__min_samples_leaf=180, thresholdedRF__positive_class_rate=0.014453333333333334, precision_score=0.036587542388006426, recall_score=0.9447004608294931, accuracy_score=0.6393333333333333, total=  24.2s\n",
      "[CV] thresholdedRF__max_features=7, thresholdedRF__min_samples_leaf=200, thresholdedRF__positive_class_rate=0.014453333333333334 \n",
      "[CV]  thresholdedRF__max_features=7, thresholdedRF__min_samples_leaf=180, thresholdedRF__positive_class_rate=0.014453333333333334, precision_score=0.03683929524826481, recall_score=0.9583333333333334, accuracy_score=0.6385759050603373, total=  23.8s\n",
      "[CV] thresholdedRF__max_features=7, thresholdedRF__min_samples_leaf=200, thresholdedRF__positive_class_rate=0.014453333333333334 \n",
      "[CV]  thresholdedRF__max_features=7, thresholdedRF__min_samples_leaf=200, thresholdedRF__positive_class_rate=0.014453333333333334, precision_score=0.03592388404766139, recall_score=0.9308755760368663, accuracy_score=0.6376241583894408, total=  23.9s\n",
      "[CV] thresholdedRF__max_features=7, thresholdedRF__min_samples_leaf=200, thresholdedRF__positive_class_rate=0.014453333333333334 \n",
      "[CV]  thresholdedRF__max_features=7, thresholdedRF__min_samples_leaf=200, thresholdedRF__positive_class_rate=0.014453333333333334, precision_score=0.03690036900369004, recall_score=0.967741935483871, accuracy_score=0.6341333333333333, total=  22.3s\n",
      "[CV] thresholdedRF__max_features=10, thresholdedRF__min_samples_leaf=100, thresholdedRF__positive_class_rate=0.014453333333333334 \n",
      "[CV]  thresholdedRF__max_features=7, thresholdedRF__min_samples_leaf=200, thresholdedRF__positive_class_rate=0.014453333333333334, precision_score=0.03501945525291829, recall_score=0.9124423963133641, accuracy_score=0.635, total=  22.0s\n",
      "[CV] thresholdedRF__max_features=10, thresholdedRF__min_samples_leaf=100, thresholdedRF__positive_class_rate=0.014453333333333334 \n",
      "[CV]  thresholdedRF__max_features=7, thresholdedRF__min_samples_leaf=200, thresholdedRF__positive_class_rate=0.014453333333333334, precision_score=0.036635248088209144, recall_score=0.9493087557603687, accuracy_score=0.6381333333333333, total=  22.6s\n",
      "[CV] thresholdedRF__max_features=10, thresholdedRF__min_samples_leaf=100, thresholdedRF__positive_class_rate=0.014453333333333334 \n",
      "[CV]  thresholdedRF__max_features=7, thresholdedRF__min_samples_leaf=200, thresholdedRF__positive_class_rate=0.014453333333333334, precision_score=0.0362495643081213, recall_score=0.9629629629629629, accuracy_score=0.6307753850256683, total=  22.1s\n",
      "[CV] thresholdedRF__max_features=10, thresholdedRF__min_samples_leaf=100, thresholdedRF__positive_class_rate=0.014453333333333334 \n",
      "[CV]  thresholdedRF__max_features=10, thresholdedRF__min_samples_leaf=100, thresholdedRF__positive_class_rate=0.014453333333333334, precision_score=0.03757711721817162, recall_score=0.9262672811059908, accuracy_score=0.6557562829144724, total=  29.5s\n",
      "[CV] thresholdedRF__max_features=10, thresholdedRF__min_samples_leaf=100, thresholdedRF__positive_class_rate=0.014453333333333334 \n",
      "[CV]  thresholdedRF__max_features=10, thresholdedRF__min_samples_leaf=100, thresholdedRF__positive_class_rate=0.014453333333333334, precision_score=0.03837638376383764, recall_score=0.9585253456221198, accuracy_score=0.6519333333333334, total=  30.1s\n",
      "[CV] thresholdedRF__max_features=10, thresholdedRF__min_samples_leaf=120, thresholdedRF__positive_class_rate=0.014453333333333334 \n",
      "[CV]  thresholdedRF__max_features=10, thresholdedRF__min_samples_leaf=100, thresholdedRF__positive_class_rate=0.014453333333333334, precision_score=0.03712871287128713, recall_score=0.8986175115207373, accuracy_score=0.6614, total=  29.3s\n",
      "[CV] thresholdedRF__max_features=10, thresholdedRF__min_samples_leaf=120, thresholdedRF__positive_class_rate=0.014453333333333334 \n",
      "[CV]  thresholdedRF__max_features=10, thresholdedRF__min_samples_leaf=100, thresholdedRF__positive_class_rate=0.014453333333333334, precision_score=0.03916004540295119, recall_score=0.9539170506912442, accuracy_score=0.6607333333333333, total=  29.0s\n"
     ]
    },
    {
     "name": "stderr",
     "output_type": "stream",
     "text": [
      "[Parallel(n_jobs=-1)]: Done  64 tasks      | elapsed: 13.6min\n"
     ]
    },
    {
     "name": "stdout",
     "output_type": "stream",
     "text": [
      "[CV] thresholdedRF__max_features=10, thresholdedRF__min_samples_leaf=120, thresholdedRF__positive_class_rate=0.014453333333333334 \n",
      "[CV]  thresholdedRF__max_features=10, thresholdedRF__min_samples_leaf=100, thresholdedRF__positive_class_rate=0.014453333333333334, precision_score=0.039171374764595104, recall_score=0.9629629629629629, accuracy_score=0.6593106207080472, total=  34.2s\n",
      "[CV] thresholdedRF__max_features=10, thresholdedRF__min_samples_leaf=120, thresholdedRF__positive_class_rate=0.014453333333333334 \n",
      "[CV]  thresholdedRF__max_features=10, thresholdedRF__min_samples_leaf=120, thresholdedRF__positive_class_rate=0.014453333333333334, precision_score=0.037838855421686746, recall_score=0.9262672811059908, accuracy_score=0.6582227851476569, total=  32.6s\n",
      "[CV] thresholdedRF__max_features=10, thresholdedRF__min_samples_leaf=120, thresholdedRF__positive_class_rate=0.014453333333333334 \n",
      "[CV]  thresholdedRF__max_features=10, thresholdedRF__min_samples_leaf=120, thresholdedRF__positive_class_rate=0.014453333333333334, precision_score=0.03878990348923534, recall_score=0.9631336405529954, accuracy_score=0.6542, total=  31.3s\n",
      "[CV] thresholdedRF__max_features=10, thresholdedRF__min_samples_leaf=140, thresholdedRF__positive_class_rate=0.014453333333333334 \n",
      "[CV]  thresholdedRF__max_features=10, thresholdedRF__min_samples_leaf=120, thresholdedRF__positive_class_rate=0.014453333333333334, precision_score=0.03657850309510411, recall_score=0.8986175115207373, accuracy_score=0.6561333333333333, total=  29.4s\n",
      "[CV] thresholdedRF__max_features=10, thresholdedRF__min_samples_leaf=140, thresholdedRF__positive_class_rate=0.014453333333333334 \n",
      "[CV]  thresholdedRF__max_features=10, thresholdedRF__min_samples_leaf=120, thresholdedRF__positive_class_rate=0.014453333333333334, precision_score=0.03828197945845005, recall_score=0.9447004608294931, accuracy_score=0.6558666666666667, total=  28.2s\n",
      "[CV] thresholdedRF__max_features=10, thresholdedRF__min_samples_leaf=140, thresholdedRF__positive_class_rate=0.014453333333333334 \n",
      "[CV]  thresholdedRF__max_features=10, thresholdedRF__min_samples_leaf=120, thresholdedRF__positive_class_rate=0.014453333333333334, precision_score=0.03864734299516908, recall_score=0.9629629629629629, accuracy_score=0.6545103006867125, total=  27.4s\n",
      "[CV] thresholdedRF__max_features=10, thresholdedRF__min_samples_leaf=140, thresholdedRF__positive_class_rate=0.014453333333333334 \n",
      "[CV]  thresholdedRF__max_features=10, thresholdedRF__min_samples_leaf=140, thresholdedRF__positive_class_rate=0.014453333333333334, precision_score=0.03744901742677049, recall_score=0.9308755760368663, accuracy_score=0.652889807346177, total=  26.2s\n",
      "[CV] thresholdedRF__max_features=10, thresholdedRF__min_samples_leaf=140, thresholdedRF__positive_class_rate=0.014453333333333334 \n",
      "[CV]  thresholdedRF__max_features=10, thresholdedRF__min_samples_leaf=140, thresholdedRF__positive_class_rate=0.014453333333333334, precision_score=0.03770848440899202, recall_score=0.9585253456221198, accuracy_score=0.6455333333333333, total=  24.6s\n",
      "[CV] thresholdedRF__max_features=10, thresholdedRF__min_samples_leaf=160, thresholdedRF__positive_class_rate=0.014453333333333334 \n",
      "[CV]  thresholdedRF__max_features=10, thresholdedRF__min_samples_leaf=140, thresholdedRF__positive_class_rate=0.014453333333333334, precision_score=0.03623321684752621, recall_score=0.9078341013824884, accuracy_score=0.6493333333333333, total=  25.3s\n",
      "[CV] thresholdedRF__max_features=10, thresholdedRF__min_samples_leaf=160, thresholdedRF__positive_class_rate=0.014453333333333334 \n",
      "[CV]  thresholdedRF__max_features=10, thresholdedRF__min_samples_leaf=140, thresholdedRF__positive_class_rate=0.014453333333333334, precision_score=0.03772543246227457, recall_score=0.9447004608294931, accuracy_score=0.6506, total=  24.0s\n",
      "[CV] thresholdedRF__max_features=10, thresholdedRF__min_samples_leaf=160, thresholdedRF__positive_class_rate=0.014453333333333334 \n",
      "[CV]  thresholdedRF__max_features=10, thresholdedRF__min_samples_leaf=140, thresholdedRF__positive_class_rate=0.014453333333333334, precision_score=0.037396619920891765, recall_score=0.9629629629629629, accuracy_score=0.6425095006333755, total=  23.9s\n",
      "[CV] thresholdedRF__max_features=10, thresholdedRF__min_samples_leaf=160, thresholdedRF__positive_class_rate=0.014453333333333334 \n",
      "[CV]  thresholdedRF__max_features=10, thresholdedRF__min_samples_leaf=160, thresholdedRF__positive_class_rate=0.014453333333333334, precision_score=0.03719388694531394, recall_score=0.9308755760368663, accuracy_score=0.6504233051129925, total=  23.4s\n",
      "[CV] thresholdedRF__max_features=10, thresholdedRF__min_samples_leaf=160, thresholdedRF__positive_class_rate=0.014453333333333334 \n",
      "[CV]  thresholdedRF__max_features=10, thresholdedRF__min_samples_leaf=160, thresholdedRF__positive_class_rate=0.014453333333333334, precision_score=0.03767802415720209, recall_score=0.9631336405529954, accuracy_score=0.6436, total=  24.3s\n",
      "[CV] thresholdedRF__max_features=10, thresholdedRF__min_samples_leaf=180, thresholdedRF__positive_class_rate=0.014453333333333334 \n"
     ]
    },
    {
     "name": "stderr",
     "output_type": "stream",
     "text": [
      "[Parallel(n_jobs=-1)]: Done  77 tasks      | elapsed: 16.7min\n"
     ]
    },
    {
     "name": "stdout",
     "output_type": "stream",
     "text": [
      "[CV]  thresholdedRF__max_features=10, thresholdedRF__min_samples_leaf=160, thresholdedRF__positive_class_rate=0.014453333333333334, precision_score=0.03568814055636896, recall_score=0.8986175115207373, accuracy_score=0.6472666666666667, total=  23.7s\n",
      "[CV] thresholdedRF__max_features=10, thresholdedRF__min_samples_leaf=180, thresholdedRF__positive_class_rate=0.014453333333333334 \n",
      "[CV]  thresholdedRF__max_features=10, thresholdedRF__min_samples_leaf=160, thresholdedRF__positive_class_rate=0.014453333333333334, precision_score=0.037347422116961196, recall_score=0.9447004608294931, accuracy_score=0.6469333333333334, total=  23.4s\n",
      "[CV] thresholdedRF__max_features=10, thresholdedRF__min_samples_leaf=180, thresholdedRF__positive_class_rate=0.014453333333333334 \n",
      "[CV]  thresholdedRF__max_features=10, thresholdedRF__min_samples_leaf=160, thresholdedRF__positive_class_rate=0.014453333333333334, precision_score=0.03758169934640523, recall_score=0.9583333333333334, accuracy_score=0.6459763984265617, total=  23.8s\n",
      "[CV] thresholdedRF__max_features=10, thresholdedRF__min_samples_leaf=180, thresholdedRF__positive_class_rate=0.014453333333333334 \n",
      "[CV]  thresholdedRF__max_features=10, thresholdedRF__min_samples_leaf=180, thresholdedRF__positive_class_rate=0.014453333333333334, precision_score=0.03668232743043007, recall_score=0.9354838709677419, accuracy_score=0.6436904206386241, total=  27.5s\n",
      "[CV] thresholdedRF__max_features=10, thresholdedRF__min_samples_leaf=180, thresholdedRF__positive_class_rate=0.014453333333333334 \n",
      "[CV]  thresholdedRF__max_features=10, thresholdedRF__min_samples_leaf=180, thresholdedRF__positive_class_rate=0.014453333333333334, precision_score=0.037435070750492565, recall_score=0.9631336405529954, accuracy_score=0.6412, total=  27.5s\n",
      "[CV] thresholdedRF__max_features=10, thresholdedRF__min_samples_leaf=200, thresholdedRF__positive_class_rate=0.014453333333333334 \n",
      "[CV]  thresholdedRF__max_features=10, thresholdedRF__min_samples_leaf=180, thresholdedRF__positive_class_rate=0.014453333333333334, precision_score=0.035585260115606934, recall_score=0.9078341013824884, accuracy_score=0.6427333333333334, total=  24.6s\n",
      "[CV] thresholdedRF__max_features=10, thresholdedRF__min_samples_leaf=200, thresholdedRF__positive_class_rate=0.014453333333333334 \n",
      "[CV]  thresholdedRF__max_features=10, thresholdedRF__min_samples_leaf=180, thresholdedRF__positive_class_rate=0.014453333333333334, precision_score=0.03715846994535519, recall_score=0.9400921658986175, accuracy_score=0.6467333333333334, total=  25.2s\n",
      "[CV] thresholdedRF__max_features=10, thresholdedRF__min_samples_leaf=200, thresholdedRF__positive_class_rate=0.014453333333333334 \n",
      "[CV]  thresholdedRF__max_features=10, thresholdedRF__min_samples_leaf=180, thresholdedRF__positive_class_rate=0.014453333333333334, precision_score=0.037379850480598074, recall_score=0.9722222222222222, accuracy_score=0.6390426028401893, total=  23.0s\n",
      "[CV] thresholdedRF__max_features=10, thresholdedRF__min_samples_leaf=200, thresholdedRF__positive_class_rate=0.014453333333333334 \n",
      "[CV]  thresholdedRF__max_features=10, thresholdedRF__min_samples_leaf=200, thresholdedRF__positive_class_rate=0.014453333333333334, precision_score=0.036616161616161616, recall_score=0.9354838709677419, accuracy_score=0.6430237984134392, total=  23.5s\n",
      "[CV] thresholdedRF__max_features=10, thresholdedRF__min_samples_leaf=200, thresholdedRF__positive_class_rate=0.014453333333333334 \n",
      "[CV]  thresholdedRF__max_features=10, thresholdedRF__min_samples_leaf=200, thresholdedRF__positive_class_rate=0.014453333333333334, precision_score=0.037209302325581395, recall_score=0.9585253456221198, accuracy_score=0.6406, total=  24.0s\n",
      "[CV] thresholdedRF__max_features=15, thresholdedRF__min_samples_leaf=100, thresholdedRF__positive_class_rate=0.014453333333333334 \n",
      "[CV]  thresholdedRF__max_features=10, thresholdedRF__min_samples_leaf=200, thresholdedRF__positive_class_rate=0.014453333333333334, precision_score=0.03574020319303338, recall_score=0.9078341013824884, accuracy_score=0.6443333333333333, total=  24.8s\n",
      "[CV] thresholdedRF__max_features=15, thresholdedRF__min_samples_leaf=100, thresholdedRF__positive_class_rate=0.014453333333333334 \n",
      "[CV]  thresholdedRF__max_features=10, thresholdedRF__min_samples_leaf=200, thresholdedRF__positive_class_rate=0.014453333333333334, precision_score=0.037264833574529664, recall_score=0.9493087557603687, accuracy_score=0.6444666666666666, total=  25.3s\n",
      "[CV] thresholdedRF__max_features=15, thresholdedRF__min_samples_leaf=100, thresholdedRF__positive_class_rate=0.014453333333333334 \n",
      "[CV]  thresholdedRF__max_features=10, thresholdedRF__min_samples_leaf=200, thresholdedRF__positive_class_rate=0.014453333333333334, precision_score=0.03725595557943758, recall_score=0.9629629629629629, accuracy_score=0.6411094072938196, total=  25.3s\n",
      "[CV] thresholdedRF__max_features=15, thresholdedRF__min_samples_leaf=100, thresholdedRF__positive_class_rate=0.014453333333333334 \n"
     ]
    },
    {
     "name": "stderr",
     "output_type": "stream",
     "text": [
      "[Parallel(n_jobs=-1)]: Done  90 tasks      | elapsed: 19.4min\n"
     ]
    },
    {
     "name": "stdout",
     "output_type": "stream",
     "text": [
      "[CV]  thresholdedRF__max_features=15, thresholdedRF__min_samples_leaf=100, thresholdedRF__positive_class_rate=0.014453333333333334, precision_score=0.04210301346441547, recall_score=0.9078341013824884, accuracy_score=0.6998866742217186, total=  29.6s\n",
      "[CV] thresholdedRF__max_features=15, thresholdedRF__min_samples_leaf=100, thresholdedRF__positive_class_rate=0.014453333333333334 \n",
      "[CV]  thresholdedRF__max_features=15, thresholdedRF__min_samples_leaf=100, thresholdedRF__positive_class_rate=0.014453333333333334, precision_score=0.04214720067100021, recall_score=0.9262672811059908, accuracy_score=0.6944, total=  29.5s\n",
      "[CV] thresholdedRF__max_features=15, thresholdedRF__min_samples_leaf=120, thresholdedRF__positive_class_rate=0.014453333333333334 \n",
      "[CV]  thresholdedRF__max_features=15, thresholdedRF__min_samples_leaf=100, thresholdedRF__positive_class_rate=0.014453333333333334, precision_score=0.038557732388495206, recall_score=0.8525345622119815, accuracy_score=0.6903333333333334, total=  33.0s\n",
      "[CV] thresholdedRF__max_features=15, thresholdedRF__min_samples_leaf=120, thresholdedRF__positive_class_rate=0.014453333333333334 \n",
      "[CV]  thresholdedRF__max_features=15, thresholdedRF__min_samples_leaf=100, thresholdedRF__positive_class_rate=0.014453333333333334, precision_score=0.0420899854862119, recall_score=0.9354838709677419, accuracy_score=0.6910666666666667, total=  34.4s\n",
      "[CV] thresholdedRF__max_features=15, thresholdedRF__min_samples_leaf=120, thresholdedRF__positive_class_rate=0.014453333333333334 \n",
      "[CV]  thresholdedRF__max_features=15, thresholdedRF__min_samples_leaf=100, thresholdedRF__positive_class_rate=0.014453333333333334, precision_score=0.04364406779661017, recall_score=0.9537037037037037, accuracy_score=0.6983798919927995, total=  33.6s\n",
      "[CV] thresholdedRF__max_features=15, thresholdedRF__min_samples_leaf=120, thresholdedRF__positive_class_rate=0.014453333333333334 \n",
      "[CV]  thresholdedRF__max_features=15, thresholdedRF__min_samples_leaf=120, thresholdedRF__positive_class_rate=0.014453333333333334, precision_score=0.04119377889869693, recall_score=0.9032258064516129, accuracy_score=0.6944870341977202, total=  33.4s\n",
      "[CV] thresholdedRF__max_features=15, thresholdedRF__min_samples_leaf=120, thresholdedRF__positive_class_rate=0.014453333333333334 \n",
      "[CV]  thresholdedRF__max_features=15, thresholdedRF__min_samples_leaf=120, thresholdedRF__positive_class_rate=0.014453333333333334, precision_score=0.04067321178120617, recall_score=0.9354838709677419, accuracy_score=0.6798666666666666, total=  32.7s\n",
      "[CV] thresholdedRF__max_features=15, thresholdedRF__min_samples_leaf=140, thresholdedRF__positive_class_rate=0.014453333333333334 \n",
      "[CV]  thresholdedRF__max_features=15, thresholdedRF__min_samples_leaf=120, thresholdedRF__positive_class_rate=0.014453333333333334, precision_score=0.0392156862745098, recall_score=0.8847926267281107, accuracy_score=0.6847333333333333, total=  32.9s\n",
      "[CV] thresholdedRF__max_features=15, thresholdedRF__min_samples_leaf=140, thresholdedRF__positive_class_rate=0.014453333333333334 \n",
      "[CV]  thresholdedRF__max_features=15, thresholdedRF__min_samples_leaf=120, thresholdedRF__positive_class_rate=0.014453333333333334, precision_score=0.041811136039159695, recall_score=0.9447004608294931, accuracy_score=0.686, total=  32.8s\n",
      "[CV] thresholdedRF__max_features=15, thresholdedRF__min_samples_leaf=140, thresholdedRF__positive_class_rate=0.014453333333333334 \n",
      "[CV]  thresholdedRF__max_features=15, thresholdedRF__min_samples_leaf=120, thresholdedRF__positive_class_rate=0.014453333333333334, precision_score=0.04198084369268392, recall_score=0.9537037037037037, accuracy_score=0.6859123941596107, total=  32.7s\n",
      "[CV] thresholdedRF__max_features=15, thresholdedRF__min_samples_leaf=140, thresholdedRF__positive_class_rate=0.014453333333333334 \n",
      "[CV]  thresholdedRF__max_features=15, thresholdedRF__min_samples_leaf=140, thresholdedRF__positive_class_rate=0.014453333333333334, precision_score=0.04059567523459812, recall_score=0.9170506912442397, accuracy_score=0.6852876474901674, total=  31.4s\n",
      "[CV] thresholdedRF__max_features=15, thresholdedRF__min_samples_leaf=140, thresholdedRF__positive_class_rate=0.014453333333333334 \n",
      "[CV]  thresholdedRF__max_features=15, thresholdedRF__min_samples_leaf=140, thresholdedRF__positive_class_rate=0.014453333333333334, precision_score=0.040763571286538076, recall_score=0.9447004608294931, accuracy_score=0.6776, total=  31.4s\n",
      "[CV] thresholdedRF__max_features=15, thresholdedRF__min_samples_leaf=160, thresholdedRF__positive_class_rate=0.014453333333333334 \n",
      "[CV]  thresholdedRF__max_features=15, thresholdedRF__min_samples_leaf=140, thresholdedRF__positive_class_rate=0.014453333333333334, precision_score=0.037912839554426425, recall_score=0.8940092165898618, accuracy_score=0.6702666666666667, total=  30.2s\n",
      "[CV] thresholdedRF__max_features=15, thresholdedRF__min_samples_leaf=160, thresholdedRF__positive_class_rate=0.014453333333333334 \n",
      "[CV]  thresholdedRF__max_features=15, thresholdedRF__min_samples_leaf=140, thresholdedRF__positive_class_rate=0.014453333333333334, precision_score=0.04106570512820513, recall_score=0.9447004608294931, accuracy_score=0.6800666666666667, total=  29.4s\n",
      "[CV] thresholdedRF__max_features=15, thresholdedRF__min_samples_leaf=160, thresholdedRF__positive_class_rate=0.014453333333333334 \n",
      "[CV]  thresholdedRF__max_features=15, thresholdedRF__min_samples_leaf=140, thresholdedRF__positive_class_rate=0.014453333333333334, precision_score=0.042179616548940466, recall_score=0.9675925925925926, accuracy_score=0.6831122074804987, total=  27.9s\n",
      "[CV] thresholdedRF__max_features=15, thresholdedRF__min_samples_leaf=160, thresholdedRF__positive_class_rate=0.014453333333333334 \n"
     ]
    },
    {
     "name": "stderr",
     "output_type": "stream",
     "text": [
      "[Parallel(n_jobs=-1)]: Done 105 tasks      | elapsed: 23.0min\n"
     ]
    },
    {
     "name": "stdout",
     "output_type": "stream",
     "text": [
      "[CV]  thresholdedRF__max_features=15, thresholdedRF__min_samples_leaf=160, thresholdedRF__positive_class_rate=0.014453333333333334, precision_score=0.04029376736800318, recall_score=0.9354838709677419, accuracy_score=0.6767548830077995, total=  27.5s\n",
      "[CV] thresholdedRF__max_features=15, thresholdedRF__min_samples_leaf=160, thresholdedRF__positive_class_rate=0.014453333333333334 \n",
      "[CV]  thresholdedRF__max_features=15, thresholdedRF__min_samples_leaf=160, thresholdedRF__positive_class_rate=0.014453333333333334, precision_score=0.03934740882917467, recall_score=0.9447004608294931, accuracy_score=0.6655333333333333, total=  26.6s\n",
      "[CV] thresholdedRF__max_features=15, thresholdedRF__min_samples_leaf=180, thresholdedRF__positive_class_rate=0.014453333333333334 \n",
      "[CV]  thresholdedRF__max_features=15, thresholdedRF__min_samples_leaf=160, thresholdedRF__positive_class_rate=0.014453333333333334, precision_score=0.03882538431217974, recall_score=0.9078341013824884, accuracy_score=0.6735333333333333, total=  26.6s\n",
      "[CV] thresholdedRF__max_features=15, thresholdedRF__min_samples_leaf=180, thresholdedRF__positive_class_rate=0.014453333333333334 \n",
      "[CV]  thresholdedRF__max_features=15, thresholdedRF__min_samples_leaf=160, thresholdedRF__positive_class_rate=0.014453333333333334, precision_score=0.03933231005372218, recall_score=0.9447004608294931, accuracy_score=0.6654, total=  27.0s\n",
      "[CV] thresholdedRF__max_features=15, thresholdedRF__min_samples_leaf=180, thresholdedRF__positive_class_rate=0.014453333333333334 \n",
      "[CV]  thresholdedRF__max_features=15, thresholdedRF__min_samples_leaf=160, thresholdedRF__positive_class_rate=0.014453333333333334, precision_score=0.040179442168909694, recall_score=0.9537037037037037, accuracy_score=0.6712447496499767, total=  26.9s\n",
      "[CV] thresholdedRF__max_features=15, thresholdedRF__min_samples_leaf=180, thresholdedRF__positive_class_rate=0.014453333333333334 \n",
      "[CV]  thresholdedRF__max_features=15, thresholdedRF__min_samples_leaf=180, thresholdedRF__positive_class_rate=0.014453333333333334, precision_score=0.039038461538461536, recall_score=0.9354838709677419, accuracy_score=0.6659556029598027, total=  26.3s\n",
      "[CV] thresholdedRF__max_features=15, thresholdedRF__min_samples_leaf=180, thresholdedRF__positive_class_rate=0.014453333333333334 \n",
      "[CV]  thresholdedRF__max_features=15, thresholdedRF__min_samples_leaf=180, thresholdedRF__positive_class_rate=0.014453333333333334, precision_score=0.03936858120958539, recall_score=0.9539170506912442, accuracy_score=0.6626, total=  25.9s\n",
      "[CV] thresholdedRF__max_features=15, thresholdedRF__min_samples_leaf=200, thresholdedRF__positive_class_rate=0.014453333333333334 \n",
      "[CV]  thresholdedRF__max_features=15, thresholdedRF__min_samples_leaf=180, thresholdedRF__positive_class_rate=0.014453333333333334, precision_score=0.03764886669227814, recall_score=0.9032258064516129, accuracy_score=0.6646, total=  26.0s\n",
      "[CV] thresholdedRF__max_features=15, thresholdedRF__min_samples_leaf=200, thresholdedRF__positive_class_rate=0.014453333333333334 \n",
      "[CV]  thresholdedRF__max_features=15, thresholdedRF__min_samples_leaf=180, thresholdedRF__positive_class_rate=0.014453333333333334, precision_score=0.03944583413507793, recall_score=0.9447004608294931, accuracy_score=0.6664, total=  26.3s\n",
      "[CV] thresholdedRF__max_features=15, thresholdedRF__min_samples_leaf=200, thresholdedRF__positive_class_rate=0.014453333333333334 \n",
      "[CV]  thresholdedRF__max_features=15, thresholdedRF__min_samples_leaf=180, thresholdedRF__positive_class_rate=0.014453333333333334, precision_score=0.03948121304596605, recall_score=0.9583333333333334, accuracy_score=0.66364424294953, total=  26.3s\n",
      "[CV] thresholdedRF__max_features=15, thresholdedRF__min_samples_leaf=200, thresholdedRF__positive_class_rate=0.014453333333333334 \n",
      "[CV]  thresholdedRF__max_features=15, thresholdedRF__min_samples_leaf=200, thresholdedRF__positive_class_rate=0.014453333333333334, precision_score=0.038454180218098336, recall_score=0.9262672811059908, accuracy_score=0.6638890740617293, total=  26.2s\n",
      "[CV] thresholdedRF__max_features=15, thresholdedRF__min_samples_leaf=200, thresholdedRF__positive_class_rate=0.014453333333333334 \n",
      "[CV]  thresholdedRF__max_features=15, thresholdedRF__min_samples_leaf=200, thresholdedRF__positive_class_rate=0.014453333333333334, precision_score=0.03876257920238539, recall_score=0.9585253456221198, accuracy_score=0.6555333333333333, total=  27.0s\n",
      "[CV] thresholdedRF__max_features=20, thresholdedRF__min_samples_leaf=100, thresholdedRF__positive_class_rate=0.014453333333333334 \n",
      "[CV]  thresholdedRF__max_features=15, thresholdedRF__min_samples_leaf=200, thresholdedRF__positive_class_rate=0.014453333333333334, precision_score=0.0368689733408962, recall_score=0.8986175115207373, accuracy_score=0.6589333333333334, total=  26.6s\n",
      "[CV] thresholdedRF__max_features=20, thresholdedRF__min_samples_leaf=100, thresholdedRF__positive_class_rate=0.014453333333333334 \n",
      "[CV]  thresholdedRF__max_features=15, thresholdedRF__min_samples_leaf=200, thresholdedRF__positive_class_rate=0.014453333333333334, precision_score=0.03871452734448412, recall_score=0.9493087557603687, accuracy_score=0.6582666666666667, total=  26.4s\n",
      "[CV] thresholdedRF__max_features=20, thresholdedRF__min_samples_leaf=100, thresholdedRF__positive_class_rate=0.014453333333333334 \n",
      "[CV]  thresholdedRF__max_features=15, thresholdedRF__min_samples_leaf=200, thresholdedRF__positive_class_rate=0.014453333333333334, precision_score=0.03922308127475014, recall_score=0.9629629629629629, accuracy_score=0.6597773184878992, total=  26.8s\n",
      "[CV] thresholdedRF__max_features=20, thresholdedRF__min_samples_leaf=100, thresholdedRF__positive_class_rate=0.014453333333333334 \n"
     ]
    },
    {
     "name": "stderr",
     "output_type": "stream",
     "text": [
      "[Parallel(n_jobs=-1)]: Done 120 tasks      | elapsed: 25.8min\n"
     ]
    },
    {
     "name": "stdout",
     "output_type": "stream",
     "text": [
      "[CV]  thresholdedRF__max_features=20, thresholdedRF__min_samples_leaf=100, thresholdedRF__positive_class_rate=0.014453333333333334, precision_score=0.04346846846846847, recall_score=0.8894009216589862, accuracy_score=0.7152856476234918, total=  32.1s\n",
      "[CV] thresholdedRF__max_features=20, thresholdedRF__min_samples_leaf=100, thresholdedRF__positive_class_rate=0.014453333333333334 \n",
      "[CV]  thresholdedRF__max_features=20, thresholdedRF__min_samples_leaf=100, thresholdedRF__positive_class_rate=0.014453333333333334, precision_score=0.04532130777903044, recall_score=0.9262672811059908, accuracy_score=0.7166666666666667, total=  31.9s\n",
      "[CV] thresholdedRF__max_features=20, thresholdedRF__min_samples_leaf=120, thresholdedRF__positive_class_rate=0.014453333333333334 \n",
      "[CV]  thresholdedRF__max_features=20, thresholdedRF__min_samples_leaf=100, thresholdedRF__positive_class_rate=0.014453333333333334, precision_score=0.041638683680322364, recall_score=0.8571428571428571, accuracy_score=0.7125333333333334, total=  30.8s\n",
      "[CV] thresholdedRF__max_features=20, thresholdedRF__min_samples_leaf=120, thresholdedRF__positive_class_rate=0.014453333333333334 \n",
      "[CV]  thresholdedRF__max_features=20, thresholdedRF__min_samples_leaf=100, thresholdedRF__positive_class_rate=0.014453333333333334, precision_score=0.04442985335959729, recall_score=0.9354838709677419, accuracy_score=0.708, total=  31.5s\n",
      "[CV] thresholdedRF__max_features=20, thresholdedRF__min_samples_leaf=120, thresholdedRF__positive_class_rate=0.014453333333333334 \n",
      "[CV]  thresholdedRF__max_features=20, thresholdedRF__min_samples_leaf=100, thresholdedRF__positive_class_rate=0.014453333333333334, precision_score=0.045484654449105766, recall_score=0.9537037037037037, accuracy_score=0.7111140742716181, total=  32.7s\n",
      "[CV] thresholdedRF__max_features=20, thresholdedRF__min_samples_leaf=120, thresholdedRF__positive_class_rate=0.014453333333333334 \n",
      "[CV]  thresholdedRF__max_features=20, thresholdedRF__min_samples_leaf=120, thresholdedRF__positive_class_rate=0.014453333333333334, precision_score=0.042778390297684675, recall_score=0.8940092165898618, accuracy_score=0.7090860609292714, total=  32.7s\n",
      "[CV] thresholdedRF__max_features=20, thresholdedRF__min_samples_leaf=120, thresholdedRF__positive_class_rate=0.014453333333333334 \n",
      "[CV]  thresholdedRF__max_features=20, thresholdedRF__min_samples_leaf=120, thresholdedRF__positive_class_rate=0.014453333333333334, precision_score=0.04333694474539545, recall_score=0.9216589861751152, accuracy_score=0.7045333333333333, total=  31.3s\n",
      "[CV] thresholdedRF__max_features=20, thresholdedRF__min_samples_leaf=140, thresholdedRF__positive_class_rate=0.014453333333333334 \n",
      "[CV]  thresholdedRF__max_features=20, thresholdedRF__min_samples_leaf=120, thresholdedRF__positive_class_rate=0.014453333333333334, precision_score=0.0411048281861679, recall_score=0.8709677419354839, accuracy_score=0.7042, total=  31.7s\n",
      "[CV] thresholdedRF__max_features=20, thresholdedRF__min_samples_leaf=140, thresholdedRF__positive_class_rate=0.014453333333333334 \n",
      "[CV]  thresholdedRF__max_features=20, thresholdedRF__min_samples_leaf=120, thresholdedRF__positive_class_rate=0.014453333333333334, precision_score=0.043758043758043756, recall_score=0.9400921658986175, accuracy_score=0.7019333333333333, total=  31.6s\n",
      "[CV] thresholdedRF__max_features=20, thresholdedRF__min_samples_leaf=140, thresholdedRF__positive_class_rate=0.014453333333333334 \n",
      "[CV]  thresholdedRF__max_features=20, thresholdedRF__min_samples_leaf=120, thresholdedRF__positive_class_rate=0.014453333333333334, precision_score=0.04463130659767141, recall_score=0.9583333333333334, accuracy_score=0.7039802653510234, total=  31.4s\n",
      "[CV] thresholdedRF__max_features=20, thresholdedRF__min_samples_leaf=140, thresholdedRF__positive_class_rate=0.014453333333333334 \n",
      "[CV]  thresholdedRF__max_features=20, thresholdedRF__min_samples_leaf=140, thresholdedRF__positive_class_rate=0.014453333333333334, precision_score=0.0423710678365076, recall_score=0.9124423963133641, accuracy_score=0.7004199720018666, total=  30.4s\n",
      "[CV] thresholdedRF__max_features=20, thresholdedRF__min_samples_leaf=140, thresholdedRF__positive_class_rate=0.014453333333333334 \n",
      "[CV]  thresholdedRF__max_features=20, thresholdedRF__min_samples_leaf=140, thresholdedRF__positive_class_rate=0.014453333333333334, precision_score=0.043254817987152035, recall_score=0.9308755760368663, accuracy_score=0.7011333333333334, total=  30.5s\n",
      "[CV] thresholdedRF__max_features=20, thresholdedRF__min_samples_leaf=160, thresholdedRF__positive_class_rate=0.014453333333333334 \n",
      "[CV]  thresholdedRF__max_features=20, thresholdedRF__min_samples_leaf=140, thresholdedRF__positive_class_rate=0.014453333333333334, precision_score=0.03992435385585207, recall_score=0.8755760368663594, accuracy_score=0.6936, total=  31.3s\n",
      "[CV] thresholdedRF__max_features=20, thresholdedRF__min_samples_leaf=160, thresholdedRF__positive_class_rate=0.014453333333333334 \n",
      "[CV]  thresholdedRF__max_features=20, thresholdedRF__min_samples_leaf=140, thresholdedRF__positive_class_rate=0.014453333333333334, precision_score=0.04319426885798567, recall_score=0.9447004608294931, accuracy_score=0.6964666666666667, total=  31.1s\n",
      "[CV] thresholdedRF__max_features=20, thresholdedRF__min_samples_leaf=160, thresholdedRF__positive_class_rate=0.014453333333333334 \n",
      "[CV]  thresholdedRF__max_features=20, thresholdedRF__min_samples_leaf=140, thresholdedRF__positive_class_rate=0.014453333333333334, precision_score=0.04349662162162162, recall_score=0.9537037037037037, accuracy_score=0.6973131542102807, total=  30.5s\n",
      "[CV] thresholdedRF__max_features=20, thresholdedRF__min_samples_leaf=160, thresholdedRF__positive_class_rate=0.014453333333333334 \n",
      "[CV]  thresholdedRF__max_features=20, thresholdedRF__min_samples_leaf=160, thresholdedRF__positive_class_rate=0.014453333333333334, precision_score=0.04092712466068073, recall_score=0.9032258064516129, accuracy_score=0.6924205052996467, total=  30.3s\n",
      "[CV] thresholdedRF__max_features=20, thresholdedRF__min_samples_leaf=160, thresholdedRF__positive_class_rate=0.014453333333333334 \n",
      "[CV]  thresholdedRF__max_features=20, thresholdedRF__min_samples_leaf=160, thresholdedRF__positive_class_rate=0.014453333333333334, precision_score=0.04185567010309278, recall_score=0.9354838709677419, accuracy_score=0.6892666666666667, total=  30.5s\n",
      "[CV] thresholdedRF__max_features=20, thresholdedRF__min_samples_leaf=180, thresholdedRF__positive_class_rate=0.014453333333333334 \n"
     ]
    },
    {
     "name": "stderr",
     "output_type": "stream",
     "text": [
      "[Parallel(n_jobs=-1)]: Done 137 tasks      | elapsed: 30.2min\n"
     ]
    },
    {
     "name": "stdout",
     "output_type": "stream",
     "text": [
      "[CV]  thresholdedRF__max_features=20, thresholdedRF__min_samples_leaf=160, thresholdedRF__positive_class_rate=0.014453333333333334, precision_score=0.04004127966976264, recall_score=0.8940092165898618, accuracy_score=0.6884, total=  30.2s\n",
      "[CV] thresholdedRF__max_features=20, thresholdedRF__min_samples_leaf=180, thresholdedRF__positive_class_rate=0.014453333333333334 \n",
      "[CV]  thresholdedRF__max_features=20, thresholdedRF__min_samples_leaf=160, thresholdedRF__positive_class_rate=0.014453333333333334, precision_score=0.04220183486238532, recall_score=0.9539170506912442, accuracy_score=0.6861333333333334, total=  30.3s\n",
      "[CV] thresholdedRF__max_features=20, thresholdedRF__min_samples_leaf=180, thresholdedRF__positive_class_rate=0.014453333333333334 \n",
      "[CV]  thresholdedRF__max_features=20, thresholdedRF__min_samples_leaf=160, thresholdedRF__positive_class_rate=0.014453333333333334, precision_score=0.042291110654896324, recall_score=0.9537037037037037, accuracy_score=0.688312554170278, total=  30.8s\n",
      "[CV] thresholdedRF__max_features=20, thresholdedRF__min_samples_leaf=180, thresholdedRF__positive_class_rate=0.014453333333333334 \n",
      "[CV]  thresholdedRF__max_features=20, thresholdedRF__min_samples_leaf=180, thresholdedRF__positive_class_rate=0.014453333333333334, precision_score=0.04151888170248279, recall_score=0.9170506912442397, accuracy_score=0.6925538297446837, total=  30.1s\n",
      "[CV] thresholdedRF__max_features=20, thresholdedRF__min_samples_leaf=180, thresholdedRF__positive_class_rate=0.014453333333333334 \n",
      "[CV]  thresholdedRF__max_features=20, thresholdedRF__min_samples_leaf=180, thresholdedRF__positive_class_rate=0.014453333333333334, precision_score=0.04149715215622457, recall_score=0.9400921658986175, accuracy_score=0.685, total=  29.8s\n",
      "[CV] thresholdedRF__max_features=20, thresholdedRF__min_samples_leaf=200, thresholdedRF__positive_class_rate=0.014453333333333334 \n",
      "[CV]  thresholdedRF__max_features=20, thresholdedRF__min_samples_leaf=180, thresholdedRF__positive_class_rate=0.014453333333333334, precision_score=0.03982666116384647, recall_score=0.8894009216589862, accuracy_score=0.6882, total=  30.0s\n",
      "[CV] thresholdedRF__max_features=20, thresholdedRF__min_samples_leaf=200, thresholdedRF__positive_class_rate=0.014453333333333334 \n",
      "[CV]  thresholdedRF__max_features=20, thresholdedRF__min_samples_leaf=180, thresholdedRF__positive_class_rate=0.014453333333333334, precision_score=0.0414811817078106, recall_score=0.9447004608294931, accuracy_score=0.6834, total=  29.6s\n",
      "[CV] thresholdedRF__max_features=20, thresholdedRF__min_samples_leaf=200, thresholdedRF__positive_class_rate=0.014453333333333334 \n",
      "[CV]  thresholdedRF__max_features=20, thresholdedRF__min_samples_leaf=180, thresholdedRF__positive_class_rate=0.014453333333333334, precision_score=0.04179346723473321, recall_score=0.9537037037037037, accuracy_score=0.6844456297086472, total=  30.6s\n",
      "[CV] thresholdedRF__max_features=20, thresholdedRF__min_samples_leaf=200, thresholdedRF__positive_class_rate=0.014453333333333334 \n",
      "[CV]  thresholdedRF__max_features=20, thresholdedRF__min_samples_leaf=200, thresholdedRF__positive_class_rate=0.014453333333333334, precision_score=0.04051863857374392, recall_score=0.9216589861751152, accuracy_score=0.6831544563695754, total=  30.1s\n",
      "[CV] thresholdedRF__max_features=20, thresholdedRF__min_samples_leaf=200, thresholdedRF__positive_class_rate=0.014453333333333334 \n",
      "[CV]  thresholdedRF__max_features=20, thresholdedRF__min_samples_leaf=200, thresholdedRF__positive_class_rate=0.014453333333333334, precision_score=0.041280708819975837, recall_score=0.9447004608294931, accuracy_score=0.6818, total=  29.7s\n",
      "[CV]  thresholdedRF__max_features=20, thresholdedRF__min_samples_leaf=200, thresholdedRF__positive_class_rate=0.014453333333333334, precision_score=0.03899497487437186, recall_score=0.8940092165898618, accuracy_score=0.6797333333333333, total=  29.2s\n",
      "[CV]  thresholdedRF__max_features=20, thresholdedRF__min_samples_leaf=200, thresholdedRF__positive_class_rate=0.014453333333333334, precision_score=0.040906356526970125, recall_score=0.9400921658986175, accuracy_score=0.6802666666666667, total=  24.6s\n",
      "[CV]  thresholdedRF__max_features=20, thresholdedRF__min_samples_leaf=200, thresholdedRF__positive_class_rate=0.014453333333333334, precision_score=0.04170844194906757, recall_score=0.9629629629629629, accuracy_score=0.6808453896926462, total=  23.8s\n"
     ]
    },
    {
     "name": "stderr",
     "output_type": "stream",
     "text": [
      "[Parallel(n_jobs=-1)]: Done 150 out of 150 | elapsed: 38.6min finished\n"
     ]
    },
    {
     "data": {
      "text/plain": [
       "GridSearchCV(cv=StratifiedKFold(n_splits=5, random_state=None, shuffle=False),\n",
       "       error_score='raise',\n",
       "       estimator=Pipeline(memory=None,\n",
       "     steps=[('subsetDataFrame', subsetDataFrame(target_columns=['account_amount_added_12_24m', 'account_days_in_dc_12_24m', 'account_days_in_rem_12_24m', 'account_days_in_term_12_24m', 'account_incoming_debt_vs_paid_0_24m', 'account_status', 'account_worst_status_0_3m', 'account_worst_status_12_24m', 'ac...res='auto', min_samples_leaf=1, n_estimators=100,\n",
       "       positive_class_rate=0.014453333333333334))]),\n",
       "       fit_params=None, iid=True, n_jobs=-1,\n",
       "       param_grid={'thresholdedRF__positive_class_rate': [0.014453333333333334], 'thresholdedRF__max_features': [4, 7, 10, 15, 20], 'thresholdedRF__min_samples_leaf': [100, 120, 140, 160, 180, 200]},\n",
       "       pre_dispatch='2*n_jobs', refit='recall_score',\n",
       "       return_train_score=True,\n",
       "       scoring={'precision_score': make_scorer(precision_score), 'recall_score': make_scorer(recall_score), 'accuracy_score': make_scorer(accuracy_score)},\n",
       "       verbose=10)"
      ]
     },
     "execution_count": 14,
     "metadata": {},
     "output_type": "execute_result"
    }
   ],
   "source": [
    "pars={'thresholdedRF__positive_class_rate': [DATA_TRAIN.default.sum()/DATA_TRAIN.shape[0]], \n",
    "      'thresholdedRF__max_features': [4,7,10,15,20],\n",
    "      'thresholdedRF__min_samples_leaf': [int(i) for i in np.linspace(100,200,6)]}\n",
    "#previously:\n",
    "#[\"log2\", \"sqrt\", 1/5, 1/2, None][:2] \n",
    "#[int(round(i+1)) for i in DATA_TRAIN.default.sum()*np.logspace(-3,0,11)][3:7]}\n",
    "# thresholdedRF__min_samples_leaf : coarse leaves, increasing fractions of positive class size\n",
    "\n",
    "scorers = {\n",
    "    'precision_score': make_scorer(precision_score),\n",
    "    'recall_score': make_scorer(recall_score),\n",
    "    'accuracy_score': make_scorer(accuracy_score)\n",
    "}\n",
    "\n",
    "# StratifiedKFold persists class (im)balance\n",
    "# which is needed since TRF is based on this\n",
    "TRF_GridSearch = GridSearchCV(estimator=rf_pipeline, param_grid=pars, \n",
    "                              scoring=scorers, refit='recall_score', \n",
    "                              cv=StratifiedKFold(n_splits=5), \n",
    "                              verbose=10, n_jobs=-1,                             \n",
    "                              return_train_score=True)\n",
    "TRF_GridSearch.fit(DATA_TRAIN, DATA_TRAIN.default)\n"
   ]
  },
  {
   "cell_type": "code",
   "execution_count": 15,
   "metadata": {},
   "outputs": [
    {
     "data": {
      "text/plain": [
       "7"
      ]
     },
     "execution_count": 15,
     "metadata": {},
     "output_type": "execute_result"
    }
   ],
   "source": [
    "TRF_GridSearch.best_index_"
   ]
  },
  {
   "cell_type": "code",
   "execution_count": 16,
   "metadata": {},
   "outputs": [
    {
     "data": {
      "text/plain": [
       "{'thresholdedRF__max_features': 7,\n",
       " 'thresholdedRF__min_samples_leaf': 120,\n",
       " 'thresholdedRF__positive_class_rate': 0.014453333333333334}"
      ]
     },
     "execution_count": 16,
     "metadata": {},
     "output_type": "execute_result"
    }
   ],
   "source": [
    "TRF_GridSearch.cv_results_['params'][TRF_GridSearch.best_index_]\n"
   ]
  },
  {
   "cell_type": "code",
   "execution_count": 17,
   "metadata": {},
   "outputs": [
    {
     "data": {
      "text/plain": [
       "(0.9607843137254902,\n",
       " 0.9550173010380623,\n",
       " 0.9665513264129181,\n",
       " 0.9561707035755479,\n",
       " 0.9550691244239631)"
      ]
     },
     "execution_count": 17,
     "metadata": {},
     "output_type": "execute_result"
    }
   ],
   "source": [
    "TRF_GridSearch.cv_results_['split0_train_recall_score'][TRF_GridSearch.best_index_],\\\n",
    "TRF_GridSearch.cv_results_['split1_train_recall_score'][TRF_GridSearch.best_index_],\\\n",
    "TRF_GridSearch.cv_results_['split2_train_recall_score'][TRF_GridSearch.best_index_],\\\n",
    "TRF_GridSearch.cv_results_['split3_train_recall_score'][TRF_GridSearch.best_index_],\\\n",
    "TRF_GridSearch.cv_results_['split4_train_recall_score'][TRF_GridSearch.best_index_],\\\n"
   ]
  },
  {
   "cell_type": "code",
   "execution_count": 19,
   "metadata": {},
   "outputs": [
    {
     "data": {
      "text/plain": [
       "(0.9587185538351963, 0.037183138633527416, 0.6405866699045324)"
      ]
     },
     "execution_count": 19,
     "metadata": {},
     "output_type": "execute_result"
    }
   ],
   "source": [
    "TRF_GridSearch.cv_results_['mean_train_recall_score'][TRF_GridSearch.best_index_],\\\n",
    "TRF_GridSearch.cv_results_['mean_train_precision_score'][TRF_GridSearch.best_index_],\\\n",
    "TRF_GridSearch.cv_results_['mean_train_accuracy_score'][TRF_GridSearch.best_index_],\n"
   ]
  },
  {
   "cell_type": "code",
   "execution_count": 20,
   "metadata": {},
   "outputs": [
    {
     "data": {
      "text/plain": [
       "(0.00445261357901434, 0.00029565672619163855, 0.00203454465796533)"
      ]
     },
     "execution_count": 20,
     "metadata": {},
     "output_type": "execute_result"
    }
   ],
   "source": [
    "TRF_GridSearch.cv_results_['std_train_recall_score'][TRF_GridSearch.best_index_],\\\n",
    "TRF_GridSearch.cv_results_['std_train_precision_score'][TRF_GridSearch.best_index_],\\\n",
    "TRF_GridSearch.cv_results_['std_train_accuracy_score'][TRF_GridSearch.best_index_],\\\n"
   ]
  },
  {
   "cell_type": "code",
   "execution_count": 21,
   "metadata": {},
   "outputs": [
    {
     "data": {
      "text/plain": [
       "(0.9455876179097684, 0.036598230499787374, 0.6394666666666666)"
      ]
     },
     "execution_count": 21,
     "metadata": {},
     "output_type": "execute_result"
    }
   ],
   "source": [
    "TRF_GridSearch.cv_results_['mean_test_recall_score'][TRF_GridSearch.best_index_],\\\n",
    "TRF_GridSearch.cv_results_['mean_test_precision_score'][TRF_GridSearch.best_index_],\\\n",
    "TRF_GridSearch.cv_results_['mean_test_accuracy_score'][TRF_GridSearch.best_index_],\\\n"
   ]
  },
  {
   "cell_type": "code",
   "execution_count": 22,
   "metadata": {},
   "outputs": [
    {
     "data": {
      "text/plain": [
       "(0.02003617411389023, 0.0006504771597483457, 0.002289328328791217)"
      ]
     },
     "execution_count": 22,
     "metadata": {},
     "output_type": "execute_result"
    }
   ],
   "source": [
    "TRF_GridSearch.cv_results_['std_test_recall_score'][TRF_GridSearch.best_index_],\\\n",
    "TRF_GridSearch.cv_results_['std_test_precision_score'][TRF_GridSearch.best_index_],\\\n",
    "TRF_GridSearch.cv_results_['std_test_accuracy_score'][TRF_GridSearch.best_index_],\\\n"
   ]
  },
  {
   "cell_type": "code",
   "execution_count": 164,
   "metadata": {},
   "outputs": [
    {
     "data": {
      "text/plain": [
       "(0.9215686274509803, 0.03466715839940992, 0.6493723290598291)"
      ]
     },
     "execution_count": 164,
     "metadata": {},
     "output_type": "execute_result"
    }
   ],
   "source": [
    "CM = confusion_matrix(DATA_TEST.default, TRF_GridSearch.best_estimator_.predict(DATA_TEST))\n",
    "\n",
    "CM[1,1]/CM[1,:].sum(), CM[1,1]/CM[:,1].sum(), CM.diagonal().sum()/CM.sum()"
   ]
  },
  {
   "cell_type": "markdown",
   "metadata": {},
   "source": [
    "# 5. Grid Search: Cost-Benefit Matrix\n",
    "\n",
    "- f: inaction: baseline\n",
    "- t: action: impact\n",
    "    - O: offended customer cost (-)\n",
    "    - D: default losses avoided (+)\n",
    "\n",
    "|   | f | t |\n",
    "|---|---|---|\n",
    "| F | 0 | O |\n",
    "| T | 0 | D |\n",
    "\n"
   ]
  },
  {
   "cell_type": "code",
   "execution_count": 139,
   "metadata": {},
   "outputs": [],
   "source": [
    "#account_amount_added_12_24m\n",
    "#plt.plot((sorted(DATA_TRAIN.num_unpaid_bills[kp_default].dropna().values)))"
   ]
  },
  {
   "cell_type": "code",
   "execution_count": 138,
   "metadata": {},
   "outputs": [
    {
     "name": "stdout",
     "output_type": "stream",
     "text": [
      "offended_customer_cost -3.9733761797175178\n",
      "default_losses_avoided 158.31564378892813\n"
     ]
    }
   ],
   "source": [
    "kp_default = (DATA_TRAIN.default==1)\n",
    "\n",
    "# O:\n",
    "# FOR THE PURPOSES OF THIS EXERCISE LET US ASSUME\n",
    "# (because I haven't noticed a better way to calculate this with the data I have)\n",
    "customer_12_month_ave_value = DATA_TRAIN.sum_paid_inv_0_12m[~kp_default].mean()\n",
    "# and that the reprocussion of wrongly calling 'default'\n",
    "# on a customer who won't default is that 1 in 100 leave\n",
    "# and that we take 1% commission on all sales\n",
    "offended_customer_cost = -(1/100)*0.01*customer_12_month_ave_value\n",
    "print('offended_customer_cost', offended_customer_cost)\n",
    "\n",
    "# C:\n",
    "# FOR THE PURPOSES OF THIS EXERCISE LET US ASSUME \n",
    "# (because I haven't noticed a better way to calculate this with the data I have)\n",
    "default_losses_avoided = DATA_TRAIN.num_unpaid_bills[kp_default].mean()\\\n",
    "                         * DATA_TRAIN.avg_payment_span_0_12m[kp_default].mean()#max_paid_inv_0_12m?\n",
    "print('default_losses_avoided', default_losses_avoided)\n"
   ]
  },
  {
   "cell_type": "code",
   "execution_count": 142,
   "metadata": {},
   "outputs": [
    {
     "data": {
      "text/plain": [
       "array([[  0.        ,  -3.97337618],\n",
       "       [  0.        , 158.31564379]])"
      ]
     },
     "execution_count": 142,
     "metadata": {},
     "output_type": "execute_result"
    }
   ],
   "source": [
    "CBM = np.array([[0,offended_customer_cost],[0,default_losses_avoided]])\n",
    "CBM"
   ]
  },
  {
   "cell_type": "code",
   "execution_count": 155,
   "metadata": {
    "scrolled": false
   },
   "outputs": [
    {
     "data": {
      "text/plain": [
       "0.023"
      ]
     },
     "execution_count": 155,
     "metadata": {},
     "output_type": "execute_result"
    },
    {
     "data": {
      "image/png": "[encoded data removed]",
      "text/plain": [
       "<Figure size 432x288 with 1 Axes>"
      ]
     },
     "metadata": {},
     "output_type": "display_data"
    }
   ],
   "source": [
    "yhat = TRF_GridSearch.best_estimator_.predict_proba(DATA_TEST)[:,1]\n",
    "\n",
    "grid_n = 1001\n",
    "cost = np.zeros(grid_n)\n",
    "grid = np.linspace(0,1,grid_n)\n",
    "for i,t in enumerate(grid):\n",
    "    cost[i] = (confusion_matrix(DATA_TEST.default, yhat>t)*CBM).sum()\n",
    "\n",
    "plt.plot(grid, cost)\n",
    "grid[cost.argmax()]"
   ]
  },
  {
   "cell_type": "code",
   "execution_count": 163,
   "metadata": {},
   "outputs": [
    {
     "data": {
      "text/plain": [
       "(0.7745098039215687, 0.05957767722473605, 0.8303952991452992)"
      ]
     },
     "execution_count": 163,
     "metadata": {},
     "output_type": "execute_result"
    }
   ],
   "source": [
    "CM = confusion_matrix(DATA_TEST.default, yhat > grid[cost.argmax()])\n",
    "\n",
    "CM[1,1]/CM[1,:].sum(), CM[1,1]/CM[:,1].sum(), CM.diagonal().sum()/CM.sum()"
   ]
  },
  {
   "cell_type": "code",
   "execution_count": 178,
   "metadata": {},
   "outputs": [
    {
     "data": {
      "text/plain": [
       "0.023"
      ]
     },
     "execution_count": 178,
     "metadata": {},
     "output_type": "execute_result"
    }
   ],
   "source": [
    "TRF_GridSearch.best_estimator_.get_params()['thresholdedRF'].positive_class_rate = grid[cost.argmax()]\n",
    "TRF_GridSearch.best_estimator_.get_params()['thresholdedRF__positive_class_rate']"
   ]
  },
  {
   "cell_type": "markdown",
   "metadata": {},
   "source": [
    "# 5. Grid Search: Productionalize"
   ]
  },
  {
   "cell_type": "code",
   "execution_count": 181,
   "metadata": {},
   "outputs": [],
   "source": [
    "pickle.dump(SDF.transform(DATA_TEST), open('/Users/schwarls37/TAKEHOMES/klarna/fraud/webserver/generate.pkl', 'wb'))\n",
    "pickle.dump(TRF_GridSearch.best_estimator_, open('/Users/schwarls37/TAKEHOMES/klarna/fraud/webserver/pred.pkl', 'wb'))\n"
   ]
  },
  {
   "cell_type": "markdown",
   "metadata": {},
   "source": [
    "# 6. Batch Predict"
   ]
  },
  {
   "cell_type": "code",
   "execution_count": 215,
   "metadata": {},
   "outputs": [
    {
     "data": {
      "text/html": [
       "<div>\n",
       "<style scoped>\n",
       "    .dataframe tbody tr th:only-of-type {\n",
       "        vertical-align: middle;\n",
       "    }\n",
       "\n",
       "    .dataframe tbody tr th {\n",
       "        vertical-align: top;\n",
       "    }\n",
       "\n",
       "    .dataframe thead th {\n",
       "        text-align: right;\n",
       "    }\n",
       "</style>\n",
       "<table border=\"1\" class=\"dataframe\">\n",
       "  <thead>\n",
       "    <tr style=\"text-align: right;\">\n",
       "      <th></th>\n",
       "      <th>uuid</th>\n",
       "      <th>pd</th>\n",
       "    </tr>\n",
       "  </thead>\n",
       "  <tbody>\n",
       "    <tr>\n",
       "      <th>89976</th>\n",
       "      <td>6f6e6c6a-2081-4e6b-8eb3-4fd89b54b2d7</td>\n",
       "      <td>0.004266</td>\n",
       "    </tr>\n",
       "    <tr>\n",
       "      <th>89977</th>\n",
       "      <td>f6f6d9f3-ef2b-4329-a388-c6a687f27e70</td>\n",
       "      <td>0.023530</td>\n",
       "    </tr>\n",
       "    <tr>\n",
       "      <th>89978</th>\n",
       "      <td>e9c39869-1bc5-4375-b627-a2df70b445ea</td>\n",
       "      <td>0.025881</td>\n",
       "    </tr>\n",
       "    <tr>\n",
       "      <th>89979</th>\n",
       "      <td>6beb88a3-9641-4381-beb6-c9a208664dd0</td>\n",
       "      <td>0.030191</td>\n",
       "    </tr>\n",
       "    <tr>\n",
       "      <th>89980</th>\n",
       "      <td>bb89b735-72fe-42a4-ba06-d63be0f4ca36</td>\n",
       "      <td>0.070996</td>\n",
       "    </tr>\n",
       "  </tbody>\n",
       "</table>\n",
       "</div>"
      ],
      "text/plain": [
       "                                       uuid        pd\n",
       "89976  6f6e6c6a-2081-4e6b-8eb3-4fd89b54b2d7  0.004266\n",
       "89977  f6f6d9f3-ef2b-4329-a388-c6a687f27e70  0.023530\n",
       "89978  e9c39869-1bc5-4375-b627-a2df70b445ea  0.025881\n",
       "89979  6beb88a3-9641-4381-beb6-c9a208664dd0  0.030191\n",
       "89980  bb89b735-72fe-42a4-ba06-d63be0f4ca36  0.070996"
      ]
     },
     "execution_count": 215,
     "metadata": {},
     "output_type": "execute_result"
    }
   ],
   "source": [
    "output = DATA[~kp_labeled].iloc[:,:2]\n",
    "output.default = TRF_GridSearch.best_estimator_.predict_proba(DATA[~kp_labeled])[:,1]\n",
    "output.columns = ['uuid','pd']\n",
    "output.to_csv('/Users/schwarls37/TAKEHOMES/klarna/default_preds.csv', index=False)\n",
    "output.head()"
   ]
  },
  {
   "cell_type": "markdown",
   "metadata": {},
   "source": [
    "# 7. Extrapolaton (QC): Multicollinearity"
   ]
  },
  {
   "cell_type": "code",
   "execution_count": 382,
   "metadata": {
    "scrolled": true
   },
   "outputs": [
    {
     "name": "stdout",
     "output_type": "stream",
     "text": [
      "Referrent-based removal\n",
      "del account_status:nan\n",
      "del account_worst_status_0_3m:nan\n",
      "del account_worst_status_12_24m:nan\n",
      "del account_worst_status_3_6m:nan\n",
      "del account_worst_status_6_12m:nan\n",
      "del merchant_category:Diversified entertainment\n",
      "del merchant_group:Entertainment\n",
      "del name_in_email:F+L\n",
      "del status_last_archived_0_24m:1.0\n",
      "del status_2nd_last_archived_0_24m:1.0\n",
      "del status_3rd_last_archived_0_24m:1.0\n",
      "del status_max_archived_0_6_months:1.0\n",
      "del status_max_archived_0_12_months:1.0\n",
      "del status_max_archived_0_24_months:1.0\n",
      "del worst_status_active_inv:nan\n",
      "VIF-based removal\n"
     ]
    },
    {
     "name": "stderr",
     "output_type": "stream",
     "text": [
      "/anaconda3/lib/python3.6/site-packages/statsmodels/stats/outliers_influence.py:167: RuntimeWarning: divide by zero encountered in double_scalars\n",
      "  vif = 1. / (1. - r_squared_i)\n"
     ]
    },
    {
     "name": "stdout",
     "output_type": "stream",
     "text": [
      "del inf account_status:1.0\n",
      "account_status:2.0 1.4020054449228423\n",
      "account_status:3.0 1.0201021721600583\n",
      "account_status:4.0 1.4350811339294816\n",
      "del account_worst_status_0_3m:1.0 14.16734236659353\n",
      "account_worst_status_0_3m:2.0 1.9662512247368813\n",
      "account_worst_status_0_3m:3.0 1.1652464529391986\n",
      "account_worst_status_0_3m:4.0 1.317303749035385\n",
      "del account_worst_status_12_24m:1.0 5.113398689180979\n",
      "account_worst_status_12_24m:2.0 2.11246952929674\n",
      "account_worst_status_12_24m:3.0 2.757875866831219\n",
      "account_worst_status_12_24m:4.0 3.608604433635258\n",
      "del account_worst_status_3_6m:1.0 19.758682945691806\n",
      "account_worst_status_3_6m:2.0 1.777877718106523\n",
      "account_worst_status_3_6m:3.0 1.191079523479431\n",
      "account_worst_status_3_6m:4.0 1.4951431548222416\n",
      "account_worst_status_6_12m:1.0 4.819890693205651\n",
      "account_worst_status_6_12m:2.0 2.894868244569362\n",
      "account_worst_status_6_12m:3.0 1.2838916361656136\n",
      "account_worst_status_6_12m:4.0 1.412680591548248\n",
      "del inf merchant_category:Adult Shoes & Clothing\n",
      "del inf merchant_category:Automotive Parts & Accessories\n",
      "del inf merchant_category:Bags & Wallets\n",
      "del inf merchant_category:Body & Hair Care\n",
      "merchant_category:Books & Magazines 1.279569167632981\n",
      "del inf merchant_category:Car electronics\n",
      "del inf merchant_category:Children Clothes & Nurturing products\n",
      "merchant_category:Children toys 1.418884098062778\n",
      "del inf merchant_category:Cleaning & Sanitary\n",
      "del inf merchant_category:Collectibles\n",
      "del merchant_category:Concept stores & Miscellaneous 42.256276853937656\n",
      "merchant_category:Cosmetics 1.748510935198673\n",
      "merchant_category:Costumes & Party supplies 1.034710113095663\n",
      "del inf merchant_category:Dating services\n",
      "del merchant_category:Decoration & Art 48.527402436453144\n",
      "merchant_category:Dietary supplements 4.627323223854919\n",
      "merchant_category:Digital services 1.4817348392012335\n",
      "merchant_category:Diversified Health & Beauty products 1.930518461077488\n",
      "merchant_category:Diversified Home & Garden products 2.044184528867492\n",
      "merchant_category:Diversified Jewelry & Accessories 3.1687006358826917\n",
      "merchant_category:Diversified children products 3.00721736212486\n",
      "del merchant_category:Diversified electronics 41.11051937728845\n",
      "del inf merchant_category:Diversified erotic material\n",
      "merchant_category:Education 1.0048666522259675\n",
      "merchant_category:Electronic equipment & Related accessories 1.550152604693011\n",
      "merchant_category:Erotic Clothing & Accessories 1.134328486653346\n",
      "merchant_category:Event tickets 1.021280053324271\n",
      "del inf merchant_category:Food & Beverage\n",
      "merchant_category:Fragrances 1.3806487910866185\n",
      "merchant_category:Furniture 1.5465321250255326\n",
      "del merchant_category:General Shoes & Clothing 16.760770428964058\n",
      "merchant_category:Hobby articles 1.211859970703009\n",
      "merchant_category:Household electronics (whitegoods/appliances) 1.0484791384316645\n",
      "del merchant_category:Jewelry & Watches 38.9813009886366\n",
      "merchant_category:Kitchenware 1.1439851698262746\n",
      "merchant_category:Music & Movies 1.0050030614366865\n",
      "merchant_category:Musical Instruments & Equipment 1.0165228372266943\n",
      "merchant_category:Non 1.0769118907673334\n",
      "merchant_category:Office machines & Related accessories (excl. computers) 1.0093232110016743\n",
      "merchant_category:Personal care & Body improvement 1.438557101551281\n",
      "merchant_category:Pet supplies 2.9452546360271183\n",
      "merchant_category:Pharmaceutical products 1.432513527699296\n",
      "merchant_category:Plants & Flowers 1.0551199994955813\n",
      "merchant_category:Prescription optics 2.0571051230838364\n",
      "merchant_category:Prints & Photos 1.3789722987578574\n",
      "merchant_category:Safety products 1.0847158251362146\n",
      "merchant_category:Sex toys 1.0671906623935732\n",
      "merchant_category:Sports gear & Outdoor 1.8550906734565378\n",
      "merchant_category:Tobacco 1.236708478120114\n",
      "merchant_category:Tools & Home improvement 1.6738755909001852\n",
      "merchant_category:Travel services 1.287266656590839\n",
      "merchant_category:Underwear 1.018086656611014\n",
      "merchant_category:Video Games & Related accessories 1.022373554957037\n",
      "merchant_category:Wheels & Tires 1.1326609615664938\n",
      "merchant_category:Wine, Beer & Liquor 1.0315909793632798\n",
      "merchant_category:Youthful Shoes & Clothing 3.4540748123669713\n"
     ]
    },
    {
     "name": "stderr",
     "output_type": "stream",
     "text": [
      "/anaconda3/lib/python3.6/site-packages/statsmodels/regression/linear_model.py:1388: RuntimeWarning: invalid value encountered in double_scalars\n",
      "  return 1 - self.ssr/self.uncentered_tss\n"
     ]
    },
    {
     "name": "stdout",
     "output_type": "stream",
     "text": [
      "del nan merchant_category:nan\n",
      "merchant_group:Automotive Products 1.168362484094076\n",
      "merchant_group:Children Products 3.596525724975083\n",
      "merchant_group:Clothing & Shoes 3.999057910948621\n",
      "merchant_group:Electronics 1.711978972326237\n",
      "merchant_group:Erotic Materials 1.2266778048325773\n",
      "merchant_group:Food & Beverage 1.2772344201657346\n",
      "del merchant_group:Health & Beauty 8.846670330788168\n",
      "del merchant_group:Home & Garden 5.606787505060269\n",
      "merchant_group:Intangible products 1.8426458327421307\n",
      "merchant_group:Jewelry & Accessories 1.165009425249561\n",
      "merchant_group:Leisure, Sport & Hobby 2.8709045440588135\n",
      "del nan merchant_group:nan\n",
      "name_in_email:F 1.2849880966937477\n",
      "name_in_email:F1+L 1.1814595470509934\n",
      "name_in_email:Initials 1.0021163183199362\n",
      "name_in_email:L 1.0362899352537045\n",
      "name_in_email:L1+F 1.39022173827306\n",
      "name_in_email:Nick 1.2069912151239683\n",
      "name_in_email:no_match 1.4231996927951538\n",
      "del nan name_in_email:nan\n",
      "del inf status_last_archived_0_24m:0.0\n",
      "status_last_archived_0_24m:2.0 1.8282448699350422\n",
      "status_last_archived_0_24m:3.0 1.7724926246783803\n",
      "status_last_archived_0_24m:5.0 2.953208544809987\n",
      "del nan status_last_archived_0_24m:nan\n",
      "del status_2nd_last_archived_0_24m:0.0 7.314928156930421\n",
      "status_2nd_last_archived_0_24m:2.0 1.511696774731104\n",
      "status_2nd_last_archived_0_24m:3.0 1.4841657197175884\n",
      "status_2nd_last_archived_0_24m:5.0 1.787496531252609\n",
      "del nan status_2nd_last_archived_0_24m:nan\n",
      "status_3rd_last_archived_0_24m:0.0 3.835693426858246\n",
      "status_3rd_last_archived_0_24m:2.0 1.4288644671154365\n",
      "status_3rd_last_archived_0_24m:3.0 1.364310636640191\n",
      "status_3rd_last_archived_0_24m:5.0 1.6464256012155882\n",
      "del nan status_3rd_last_archived_0_24m:nan\n",
      "del status_max_archived_0_6_months:0.0 5.921824006225263\n",
      "status_max_archived_0_6_months:2.0 2.763099746664766\n",
      "status_max_archived_0_6_months:3.0 1.912300808463415\n",
      "del nan status_max_archived_0_6_months:nan\n",
      "del status_max_archived_0_12_months:0.0 70.78364030645662\n",
      "del status_max_archived_0_12_months:2.0 5.435726089966038\n",
      "del status_max_archived_0_12_months:3.0 5.936325006154788\n",
      "del inf status_max_archived_0_12_months:5.0\n",
      "del nan status_max_archived_0_12_months:nan\n",
      "del status_max_archived_0_24_months:0.0 32.656463350061074\n",
      "status_max_archived_0_24_months:2.0 2.719218585899575\n",
      "status_max_archived_0_24_months:3.0 3.252496267234308\n",
      "del status_max_archived_0_24_months:5.0 29.9055844729534\n",
      "del nan status_max_archived_0_24_months:nan\n",
      "worst_status_active_inv:1.0 2.6431051386201827\n",
      "worst_status_active_inv:2.0 1.4230453319104126\n",
      "worst_status_active_inv:3.0 1.3219308276531687\n",
      "account_amount_added_12_24m 2.871811469288\n",
      "account_days_in_dc_12_24m 2.08033351288021\n",
      "account_days_in_rem_12_24m 1.9831455154796729\n",
      "account_days_in_term_12_24m 3.688365719315382\n",
      "account_incoming_debt_vs_paid_0_24m 1.003858134000555\n",
      "del age 8.993246822544386\n",
      "del avg_payment_span_0_12m 8.703119370005796\n",
      "del avg_payment_span_0_3m 6.176810282430183\n",
      "del has_paid 13.824808429737532\n",
      "del max_paid_inv_0_12m 7.793481685526974\n",
      "max_paid_inv_0_24m 2.4029799810500223\n",
      "num_active_div_by_paid_inv_0_12m 1.871246722098602\n",
      "num_active_inv 3.5756951628544864\n",
      "num_arch_dc_0_12m 2.1716934604683917\n",
      "num_arch_dc_12_24m 1.6804648117879728\n",
      "del num_arch_ok_0_12m 6.887345323755665\n",
      "num_arch_ok_12_24m 2.4495146261656813\n",
      "num_arch_rem_0_12m 2.639864648274224\n",
      "num_arch_written_off_0_12m 1.3555851716662985\n",
      "num_arch_written_off_12_24m 2.07592764525517\n",
      "num_unpaid_bills 1.8458492089754566\n",
      "recovery_debt 2.2921860850276556\n",
      "sum_capital_paid_account_0_12m 2.397289932557157\n",
      "sum_capital_paid_account_12_24m 2.491135465104694\n",
      "sum_paid_inv_0_12m 3.3646960426438928\n",
      "del time_hours 7.464039133802241\n",
      "del nan account_amount_added_12_24m:nan\n",
      "del inf account_days_in_dc_12_24m:nan\n",
      "del inf account_days_in_rem_12_24m:nan\n",
      "account_days_in_term_12_24m:nan 1.2939579817523452\n",
      "account_incoming_debt_vs_paid_0_24m:nan 4.008480616450578\n",
      "del nan age:nan\n",
      "del avg_payment_span_0_12m:nan 28.02799678158668\n",
      "avg_payment_span_0_3m:nan 3.3120252482055372\n",
      "del nan has_paid:nan\n",
      "del nan max_paid_inv_0_12m:nan\n",
      "del nan max_paid_inv_0_24m:nan\n",
      "del num_active_div_by_paid_inv_0_12m:nan 5.9671407368335085\n",
      "del nan num_active_inv:nan\n",
      "del nan num_arch_dc_0_12m:nan\n",
      "del nan num_arch_dc_12_24m:nan\n",
      "del nan num_arch_ok_0_12m:nan\n",
      "del nan num_arch_ok_12_24m:nan\n",
      "del nan num_arch_rem_0_12m:nan\n",
      "del inf num_arch_written_off_0_12m:nan\n",
      "num_arch_written_off_12_24m:nan 2.458457986411989\n",
      "del nan num_unpaid_bills:nan\n",
      "del nan recovery_debt:nan\n",
      "del nan sum_capital_paid_account_0_12m:nan\n",
      "del nan sum_capital_paid_account_12_24m:nan\n",
      "del nan sum_paid_inv_0_12m:nan\n",
      "del nan time_hours:nan\n"
     ]
    }
   ],
   "source": [
    "# 1. remove referrent\n",
    "print('Referrent-based removal')\n",
    "X = DATA_SDF_OHE_AMI_MMM.copy()\n",
    "for c in CATEGORICALS:\n",
    "    kp = X[[g for g in DATA_SDF_OHE_AMI_MMM.columns if c in g]].sum()\n",
    "    rm = kp.index[kp.max()==kp].values[0]\n",
    "    del X[rm]\n",
    "    print('del',rm)\n",
    "\n",
    "# 2. greedily remove VIF=INF and VIF>10\n",
    "print('VIF-based removal')\n",
    "#X['test'] = DATA.default.isna()\n",
    "X_columns = X.columns\n",
    "i = 0\n",
    "VIFlist = {}\n",
    "for c in X_columns:\n",
    "    VIF = variance_inflation_factor(X.values.astype(float), i)\n",
    "    if np.isinf(VIF):\n",
    "        del X[c]\n",
    "        print('del inf',c)\n",
    "    elif np.isnan(VIF):\n",
    "        del X[c]\n",
    "        print('del nan',c)\n",
    "    elif VIF > 5:\n",
    "        del X[c]\n",
    "        print('del',c, VIF)        \n",
    "    else:\n",
    "        VIFlist[X.columns[i]] = VIF\n",
    "        print(X.columns[i], VIF)\n",
    "        i += 1\n"
   ]
  },
  {
   "cell_type": "code",
   "execution_count": 383,
   "metadata": {},
   "outputs": [
    {
     "data": {
      "text/plain": [
       "112"
      ]
     },
     "execution_count": 383,
     "metadata": {},
     "output_type": "execute_result"
    },
    {
     "data": {
      "image/png": "[encoded data removed]",
      "text/plain": [
       "<Figure size 720x360 with 1 Axes>"
      ]
     },
     "metadata": {},
     "output_type": "display_data"
    }
   ],
   "source": [
    "plt.hist(VIFlist.values())\n",
    "len(VIFlist)"
   ]
  },
  {
   "cell_type": "markdown",
   "metadata": {},
   "source": [
    "# 7. Extrapolaton (QC): Propensity Scores"
   ]
  },
  {
   "cell_type": "code",
   "execution_count": 584,
   "metadata": {},
   "outputs": [
    {
     "name": "stderr",
     "output_type": "stream",
     "text": [
      "/anaconda3/lib/python3.6/site-packages/ipykernel_launcher.py:8: SettingWithCopyWarning: \n",
      "A value is trying to be set on a copy of a slice from a DataFrame.\n",
      "Try using .loc[row_indexer,col_indexer] = value instead\n",
      "\n",
      "See the caveats in the documentation: http://pandas.pydata.org/pandas-docs/stable/indexing.html#indexing-view-versus-copy\n",
      "  \n",
      "/anaconda3/lib/python3.6/site-packages/ipykernel_launcher.py:9: SettingWithCopyWarning: \n",
      "A value is trying to be set on a copy of a slice from a DataFrame.\n",
      "Try using .loc[row_indexer,col_indexer] = value instead\n",
      "\n",
      "See the caveats in the documentation: http://pandas.pydata.org/pandas-docs/stable/indexing.html#indexing-view-versus-copy\n",
      "  if __name__ == '__main__':\n"
     ]
    }
   ],
   "source": [
    "X = DATA_SDF_OHE_AMI_MMM[list(VIFlist.keys())].astype(float)\n",
    "X_columns = X.columns\n",
    "X.columns = ['X'+str(i) for i in range(X.shape[1])]\n",
    "\n",
    "kp_test = DATA.default.isna()\n",
    "test = X[kp_test] \n",
    "control = X[~kp_test] \n",
    "test['test'] = 1\n",
    "control['test'] = 0\n",
    "\n",
    "for c in X.columns:\n",
    "    if control[c].sum()==0 or test[c].sum()==0:\n",
    "        del X[c]\n",
    "        del test[c]\n",
    "        del control[c]\n",
    "        "
   ]
  },
  {
   "cell_type": "code",
   "execution_count": 585,
   "metadata": {},
   "outputs": [
    {
     "name": "stdout",
     "output_type": "stream",
     "text": [
      "Formula:\n",
      "test ~ X0+X3+X4+X5+X6+X7+X8+X9+X10+X11+X12+X13+X14+X15+X16+X17+X18+X19+X20+X21+X22+X23+X24+X25+X27+X28+X29+X30+X31+X32+X33+X34+X35+X36+X37+X38+X39+X40+X41+X42+X43+X44+X45+X46+X47+X48+X49+X50+X51+X52+X53+X55+X56+X57+X58+X59+X60+X61+X62+X63+X64+X65+X66+X67+X68+X69+X70+X71+X72+X73+X75+X76+X77+X78+X79+X80+X81+X82+X83+X84+X85+X86+X87+X88+X89+X90+X91+X92+X93+X94+X95+X96+X97+X98+X99+X100+X101+X102+X103+X104+X105+X106+X107+X108+X109+X110+X111\n",
      "n majority: 89976\n",
      "n minority: 10000\n",
      "Fitting 1 (Unbalanced) Model...\n",
      "\n",
      "Accuracy 90.0\n"
     ]
    },
    {
     "name": "stderr",
     "output_type": "stream",
     "text": [
      "/anaconda3/lib/python3.6/site-packages/seaborn/distributions.py:218: MatplotlibDeprecationWarning: \n",
      "The 'normed' kwarg was deprecated in Matplotlib 2.1 and will be removed in 3.1. Use 'density' instead.\n",
      "  color=hist_color, **hist_kws)\n"
     ]
    },
    {
     "data": {
      "image/png": "[encoded data removed]",
      "text/plain": [
       "<Figure size 720x360 with 1 Axes>"
      ]
     },
     "metadata": {},
     "output_type": "display_data"
    }
   ],
   "source": [
    "m = Matcher(test.copy(), control.copy(), yvar=\"test\", exclude=[]) #'X'+str(i) for i in range(102)\n",
    "m.fit_scores(balance=False)#balance=True, nmodels=10)\n",
    "m.predict_scores()\n",
    "m.plot_scores()\n",
    "#dir(m)\n",
    "#m.models[0].summary()"
   ]
  },
  {
   "cell_type": "markdown",
   "metadata": {},
   "source": [
    "# 7. Extrapolaton: Covariate Balance"
   ]
  },
  {
   "cell_type": "code",
   "execution_count": 568,
   "metadata": {},
   "outputs": [],
   "source": [
    "ks_stats = {}\n",
    "#https://en.wikipedia.org/wiki/Kolmogorov%E2%80%93Smirnov_test#Two-sample_Kolmogorov%E2%80%93Smirnov_test\n",
    "ks_pointOfive_threshold = 1.358 * np.sqrt((test.shape[0]+control.shape[0])/(test.shape[0]*control.shape[0]))\n",
    "\n",
    "for i,c in enumerate(X):    \n",
    "    ks_stats[X_columns[i]] = stats.ks_2samp(test[c],control[c]).statistic/ks_pointOfive_threshold\n",
    "\n",
    "ks_stats = pd.DataFrame(ks_stats, index=[0]).T\n",
    "ks_stats.columns=['KS_Stat']\n",
    "ks_stats = ks_stats.sort_values(by='KS_Stat')#, ascending=False)"
   ]
  },
  {
   "cell_type": "code",
   "execution_count": 583,
   "metadata": {},
   "outputs": [
    {
     "data": {
      "image/png": "[encoded data removed]",
      "text/plain": [
       "<Figure size 360x1440 with 1 Axes>"
      ]
     },
     "metadata": {},
     "output_type": "display_data"
    }
   ],
   "source": [
    "plt.figure(figsize=(5,20))\n",
    "plt.plot(ks_stats, range(ks_stats.shape[0]), '*')\n",
    "plt.plot([1]*2, [0,ks_stats.shape[0]],'r', label='KS Test Statistic 0.05 Threshold:\\nexceeding this threshold would\\nresult in a p-value less than 0.05')\n",
    "plt.legend()\n",
    "plt.ylim([-1,ks_stats.shape[0]])\n",
    "plt.title('KS Test Statistic')\n",
    "_=plt.yticks(range(ks_stats.shape[0]),ks_stats.index)"
   ]
  },
  {
   "cell_type": "markdown",
   "metadata": {},
   "source": [
    "# 8. Scratch Work"
   ]
  },
  {
   "cell_type": "code",
   "execution_count": 588,
   "metadata": {},
   "outputs": [
    {
     "name": "stderr",
     "output_type": "stream",
     "text": [
      "/anaconda3/lib/python3.6/site-packages/causalinference/core/summary.py:110: RuntimeWarning: invalid value encountered in true_divide\n",
      "  return (mean_t-mean_c) / np.sqrt((sd_c**2+sd_t**2)/2)\n"
     ]
    },
    {
     "ename": "KeyboardInterrupt",
     "evalue": "",
     "output_type": "error",
     "traceback": [
      "\u001b[0;31m---------------------------------------------------------------------------\u001b[0m",
      "\u001b[0;31mKeyboardInterrupt\u001b[0m                         Traceback (most recent call last)",
      "\u001b[0;32m<ipython-input-588-6a098d69a6ab>\u001b[0m in \u001b[0;36m<module>\u001b[0;34m()\u001b[0m\n\u001b[1;32m      1\u001b[0m \u001b[0mcausal\u001b[0m \u001b[0;34m=\u001b[0m \u001b[0mCausalModel\u001b[0m\u001b[0;34m(\u001b[0m\u001b[0mDATA\u001b[0m\u001b[0;34m[\u001b[0m\u001b[0;34m'default'\u001b[0m\u001b[0;34m]\u001b[0m\u001b[0;34m.\u001b[0m\u001b[0misna\u001b[0m\u001b[0;34m(\u001b[0m\u001b[0;34m)\u001b[0m\u001b[0;34m.\u001b[0m\u001b[0mastype\u001b[0m\u001b[0;34m(\u001b[0m\u001b[0mint\u001b[0m\u001b[0;34m)\u001b[0m\u001b[0;34m,\u001b[0m \u001b[0mDATA\u001b[0m\u001b[0;34m[\u001b[0m\u001b[0;34m'default'\u001b[0m\u001b[0;34m]\u001b[0m\u001b[0;34m.\u001b[0m\u001b[0misna\u001b[0m\u001b[0;34m(\u001b[0m\u001b[0;34m)\u001b[0m\u001b[0;34m.\u001b[0m\u001b[0mastype\u001b[0m\u001b[0;34m(\u001b[0m\u001b[0mint\u001b[0m\u001b[0;34m)\u001b[0m\u001b[0;34m,\u001b[0m \u001b[0mXX\u001b[0m\u001b[0;34m.\u001b[0m\u001b[0mvalues\u001b[0m\u001b[0;34m)\u001b[0m\u001b[0;34m\u001b[0m\u001b[0m\n\u001b[0;32m----> 2\u001b[0;31m \u001b[0mcausal\u001b[0m\u001b[0;34m.\u001b[0m\u001b[0mest_propensity_s\u001b[0m\u001b[0;34m(\u001b[0m\u001b[0;34m)\u001b[0m\u001b[0;34m\u001b[0m\u001b[0m\n\u001b[0m\u001b[1;32m      3\u001b[0m \u001b[0;34m\u001b[0m\u001b[0m\n\u001b[1;32m      4\u001b[0m \u001b[0mprint\u001b[0m\u001b[0;34m(\u001b[0m\u001b[0mcausal\u001b[0m\u001b[0;34m.\u001b[0m\u001b[0mpropensity\u001b[0m\u001b[0;34m)\u001b[0m\u001b[0;34m\u001b[0m\u001b[0m\n",
      "\u001b[0;32m/anaconda3/lib/python3.6/site-packages/causalinference/causal.py\u001b[0m in \u001b[0;36mest_propensity_s\u001b[0;34m(self, lin_B, C_lin, C_qua)\u001b[0m\n\u001b[1;32m    111\u001b[0m \u001b[0;34m\u001b[0m\u001b[0m\n\u001b[1;32m    112\u001b[0m \t\tself.propensity = PropensitySelect(self.raw_data, lin_basic,\n\u001b[0;32m--> 113\u001b[0;31m \t\t                                   C_lin, C_qua)\n\u001b[0m\u001b[1;32m    114\u001b[0m                 \u001b[0mself\u001b[0m\u001b[0;34m.\u001b[0m\u001b[0mraw_data\u001b[0m\u001b[0;34m.\u001b[0m\u001b[0m_dict\u001b[0m\u001b[0;34m[\u001b[0m\u001b[0;34m'pscore'\u001b[0m\u001b[0;34m]\u001b[0m \u001b[0;34m=\u001b[0m \u001b[0mself\u001b[0m\u001b[0;34m.\u001b[0m\u001b[0mpropensity\u001b[0m\u001b[0;34m[\u001b[0m\u001b[0;34m'fitted'\u001b[0m\u001b[0;34m]\u001b[0m\u001b[0;34m\u001b[0m\u001b[0m\n\u001b[1;32m    115\u001b[0m                 \u001b[0mself\u001b[0m\u001b[0;34m.\u001b[0m\u001b[0m_post_pscore_init\u001b[0m\u001b[0;34m(\u001b[0m\u001b[0;34m)\u001b[0m\u001b[0;34m\u001b[0m\u001b[0m\n",
      "\u001b[0;32m/anaconda3/lib/python3.6/site-packages/causalinference/core/propensity.py\u001b[0m in \u001b[0;36m__init__\u001b[0;34m(self, data, lin_B, C_lin, C_qua)\u001b[0m\n\u001b[1;32m     91\u001b[0m \u001b[0;34m\u001b[0m\u001b[0m\n\u001b[1;32m     92\u001b[0m                 \u001b[0mX_c\u001b[0m\u001b[0;34m,\u001b[0m \u001b[0mX_t\u001b[0m \u001b[0;34m=\u001b[0m \u001b[0mdata\u001b[0m\u001b[0;34m[\u001b[0m\u001b[0;34m'X_c'\u001b[0m\u001b[0;34m]\u001b[0m\u001b[0;34m,\u001b[0m \u001b[0mdata\u001b[0m\u001b[0;34m[\u001b[0m\u001b[0;34m'X_t'\u001b[0m\u001b[0;34m]\u001b[0m\u001b[0;34m\u001b[0m\u001b[0m\n\u001b[0;32m---> 93\u001b[0;31m                 \u001b[0mlin\u001b[0m \u001b[0;34m=\u001b[0m \u001b[0mselect_lin_terms\u001b[0m\u001b[0;34m(\u001b[0m\u001b[0mX_c\u001b[0m\u001b[0;34m,\u001b[0m \u001b[0mX_t\u001b[0m\u001b[0;34m,\u001b[0m \u001b[0mlin_B\u001b[0m\u001b[0;34m,\u001b[0m \u001b[0mC_lin\u001b[0m\u001b[0;34m)\u001b[0m\u001b[0;34m\u001b[0m\u001b[0m\n\u001b[0m\u001b[1;32m     94\u001b[0m                 \u001b[0mqua\u001b[0m \u001b[0;34m=\u001b[0m \u001b[0mselect_qua_terms\u001b[0m\u001b[0;34m(\u001b[0m\u001b[0mX_c\u001b[0m\u001b[0;34m,\u001b[0m \u001b[0mX_t\u001b[0m\u001b[0;34m,\u001b[0m \u001b[0mlin\u001b[0m\u001b[0;34m,\u001b[0m \u001b[0mC_qua\u001b[0m\u001b[0;34m)\u001b[0m\u001b[0;34m\u001b[0m\u001b[0m\n\u001b[1;32m     95\u001b[0m \u001b[0;34m\u001b[0m\u001b[0m\n",
      "\u001b[0;32m/anaconda3/lib/python3.6/site-packages/causalinference/core/propensity.py\u001b[0m in \u001b[0;36mselect_lin_terms\u001b[0;34m(X_c, X_t, lin_B, C_lin)\u001b[0m\n\u001b[1;32m    236\u001b[0m                 \u001b[0;32mreturn\u001b[0m \u001b[0mlin_B\u001b[0m\u001b[0;34m\u001b[0m\u001b[0m\n\u001b[1;32m    237\u001b[0m         \u001b[0;32melse\u001b[0m\u001b[0;34m:\u001b[0m\u001b[0;34m\u001b[0m\u001b[0m\n\u001b[0;32m--> 238\u001b[0;31m                 \u001b[0;32mreturn\u001b[0m \u001b[0mselect_lin\u001b[0m\u001b[0;34m(\u001b[0m\u001b[0mX_c\u001b[0m\u001b[0;34m,\u001b[0m \u001b[0mX_t\u001b[0m\u001b[0;34m,\u001b[0m \u001b[0mlin_B\u001b[0m\u001b[0;34m,\u001b[0m \u001b[0mC_lin\u001b[0m\u001b[0;34m)\u001b[0m\u001b[0;34m\u001b[0m\u001b[0m\n\u001b[0m\u001b[1;32m    239\u001b[0m \u001b[0;34m\u001b[0m\u001b[0m\n\u001b[1;32m    240\u001b[0m \u001b[0;34m\u001b[0m\u001b[0m\n",
      "\u001b[0;32m/anaconda3/lib/python3.6/site-packages/causalinference/core/propensity.py\u001b[0m in \u001b[0;36mselect_lin\u001b[0;34m(X_c, X_t, lin_B, C_lin)\u001b[0m\n\u001b[1;32m    222\u001b[0m         \u001b[0;32melse\u001b[0m\u001b[0;34m:\u001b[0m\u001b[0;34m\u001b[0m\u001b[0m\n\u001b[1;32m    223\u001b[0m                 \u001b[0mnew_term\u001b[0m \u001b[0;34m=\u001b[0m \u001b[0;34m[\u001b[0m\u001b[0mexcluded\u001b[0m\u001b[0;34m[\u001b[0m\u001b[0margmax_lr\u001b[0m\u001b[0;34m]\u001b[0m\u001b[0;34m]\u001b[0m\u001b[0;34m\u001b[0m\u001b[0m\n\u001b[0;32m--> 224\u001b[0;31m                 \u001b[0;32mreturn\u001b[0m \u001b[0mselect_lin\u001b[0m\u001b[0;34m(\u001b[0m\u001b[0mX_c\u001b[0m\u001b[0;34m,\u001b[0m \u001b[0mX_t\u001b[0m\u001b[0;34m,\u001b[0m \u001b[0mlin_B\u001b[0m\u001b[0;34m+\u001b[0m\u001b[0mnew_term\u001b[0m\u001b[0;34m,\u001b[0m \u001b[0mC_lin\u001b[0m\u001b[0;34m)\u001b[0m\u001b[0;34m\u001b[0m\u001b[0m\n\u001b[0m\u001b[1;32m    225\u001b[0m \u001b[0;34m\u001b[0m\u001b[0m\n\u001b[1;32m    226\u001b[0m \u001b[0;34m\u001b[0m\u001b[0m\n",
      "\u001b[0;32m/anaconda3/lib/python3.6/site-packages/causalinference/core/propensity.py\u001b[0m in \u001b[0;36mselect_lin\u001b[0;34m(X_c, X_t, lin_B, C_lin)\u001b[0m\n\u001b[1;32m    222\u001b[0m         \u001b[0;32melse\u001b[0m\u001b[0;34m:\u001b[0m\u001b[0;34m\u001b[0m\u001b[0m\n\u001b[1;32m    223\u001b[0m                 \u001b[0mnew_term\u001b[0m \u001b[0;34m=\u001b[0m \u001b[0;34m[\u001b[0m\u001b[0mexcluded\u001b[0m\u001b[0;34m[\u001b[0m\u001b[0margmax_lr\u001b[0m\u001b[0;34m]\u001b[0m\u001b[0;34m]\u001b[0m\u001b[0;34m\u001b[0m\u001b[0m\n\u001b[0;32m--> 224\u001b[0;31m                 \u001b[0;32mreturn\u001b[0m \u001b[0mselect_lin\u001b[0m\u001b[0;34m(\u001b[0m\u001b[0mX_c\u001b[0m\u001b[0;34m,\u001b[0m \u001b[0mX_t\u001b[0m\u001b[0;34m,\u001b[0m \u001b[0mlin_B\u001b[0m\u001b[0;34m+\u001b[0m\u001b[0mnew_term\u001b[0m\u001b[0;34m,\u001b[0m \u001b[0mC_lin\u001b[0m\u001b[0;34m)\u001b[0m\u001b[0;34m\u001b[0m\u001b[0m\n\u001b[0m\u001b[1;32m    225\u001b[0m \u001b[0;34m\u001b[0m\u001b[0m\n\u001b[1;32m    226\u001b[0m \u001b[0;34m\u001b[0m\u001b[0m\n",
      "\u001b[0;32m/anaconda3/lib/python3.6/site-packages/causalinference/core/propensity.py\u001b[0m in \u001b[0;36mselect_lin\u001b[0;34m(X_c, X_t, lin_B, C_lin)\u001b[0m\n\u001b[1;32m    222\u001b[0m         \u001b[0;32melse\u001b[0m\u001b[0;34m:\u001b[0m\u001b[0;34m\u001b[0m\u001b[0m\n\u001b[1;32m    223\u001b[0m                 \u001b[0mnew_term\u001b[0m \u001b[0;34m=\u001b[0m \u001b[0;34m[\u001b[0m\u001b[0mexcluded\u001b[0m\u001b[0;34m[\u001b[0m\u001b[0margmax_lr\u001b[0m\u001b[0;34m]\u001b[0m\u001b[0;34m]\u001b[0m\u001b[0;34m\u001b[0m\u001b[0m\n\u001b[0;32m--> 224\u001b[0;31m                 \u001b[0;32mreturn\u001b[0m \u001b[0mselect_lin\u001b[0m\u001b[0;34m(\u001b[0m\u001b[0mX_c\u001b[0m\u001b[0;34m,\u001b[0m \u001b[0mX_t\u001b[0m\u001b[0;34m,\u001b[0m \u001b[0mlin_B\u001b[0m\u001b[0;34m+\u001b[0m\u001b[0mnew_term\u001b[0m\u001b[0;34m,\u001b[0m \u001b[0mC_lin\u001b[0m\u001b[0;34m)\u001b[0m\u001b[0;34m\u001b[0m\u001b[0m\n\u001b[0m\u001b[1;32m    225\u001b[0m \u001b[0;34m\u001b[0m\u001b[0m\n\u001b[1;32m    226\u001b[0m \u001b[0;34m\u001b[0m\u001b[0m\n",
      "\u001b[0;32m/anaconda3/lib/python3.6/site-packages/causalinference/core/propensity.py\u001b[0m in \u001b[0;36mselect_lin\u001b[0;34m(X_c, X_t, lin_B, C_lin)\u001b[0m\n\u001b[1;32m    222\u001b[0m         \u001b[0;32melse\u001b[0m\u001b[0;34m:\u001b[0m\u001b[0;34m\u001b[0m\u001b[0m\n\u001b[1;32m    223\u001b[0m                 \u001b[0mnew_term\u001b[0m \u001b[0;34m=\u001b[0m \u001b[0;34m[\u001b[0m\u001b[0mexcluded\u001b[0m\u001b[0;34m[\u001b[0m\u001b[0margmax_lr\u001b[0m\u001b[0;34m]\u001b[0m\u001b[0;34m]\u001b[0m\u001b[0;34m\u001b[0m\u001b[0m\n\u001b[0;32m--> 224\u001b[0;31m                 \u001b[0;32mreturn\u001b[0m \u001b[0mselect_lin\u001b[0m\u001b[0;34m(\u001b[0m\u001b[0mX_c\u001b[0m\u001b[0;34m,\u001b[0m \u001b[0mX_t\u001b[0m\u001b[0;34m,\u001b[0m \u001b[0mlin_B\u001b[0m\u001b[0;34m+\u001b[0m\u001b[0mnew_term\u001b[0m\u001b[0;34m,\u001b[0m \u001b[0mC_lin\u001b[0m\u001b[0;34m)\u001b[0m\u001b[0;34m\u001b[0m\u001b[0m\n\u001b[0m\u001b[1;32m    225\u001b[0m \u001b[0;34m\u001b[0m\u001b[0m\n\u001b[1;32m    226\u001b[0m \u001b[0;34m\u001b[0m\u001b[0m\n",
      "\u001b[0;32m/anaconda3/lib/python3.6/site-packages/causalinference/core/propensity.py\u001b[0m in \u001b[0;36mselect_lin\u001b[0;34m(X_c, X_t, lin_B, C_lin)\u001b[0m\n\u001b[1;32m    222\u001b[0m         \u001b[0;32melse\u001b[0m\u001b[0;34m:\u001b[0m\u001b[0;34m\u001b[0m\u001b[0m\n\u001b[1;32m    223\u001b[0m                 \u001b[0mnew_term\u001b[0m \u001b[0;34m=\u001b[0m \u001b[0;34m[\u001b[0m\u001b[0mexcluded\u001b[0m\u001b[0;34m[\u001b[0m\u001b[0margmax_lr\u001b[0m\u001b[0;34m]\u001b[0m\u001b[0;34m]\u001b[0m\u001b[0;34m\u001b[0m\u001b[0m\n\u001b[0;32m--> 224\u001b[0;31m                 \u001b[0;32mreturn\u001b[0m \u001b[0mselect_lin\u001b[0m\u001b[0;34m(\u001b[0m\u001b[0mX_c\u001b[0m\u001b[0;34m,\u001b[0m \u001b[0mX_t\u001b[0m\u001b[0;34m,\u001b[0m \u001b[0mlin_B\u001b[0m\u001b[0;34m+\u001b[0m\u001b[0mnew_term\u001b[0m\u001b[0;34m,\u001b[0m \u001b[0mC_lin\u001b[0m\u001b[0;34m)\u001b[0m\u001b[0;34m\u001b[0m\u001b[0m\n\u001b[0m\u001b[1;32m    225\u001b[0m \u001b[0;34m\u001b[0m\u001b[0m\n\u001b[1;32m    226\u001b[0m \u001b[0;34m\u001b[0m\u001b[0m\n",
      "\u001b[0;32m/anaconda3/lib/python3.6/site-packages/causalinference/core/propensity.py\u001b[0m in \u001b[0;36mselect_lin\u001b[0;34m(X_c, X_t, lin_B, C_lin)\u001b[0m\n\u001b[1;32m    222\u001b[0m         \u001b[0;32melse\u001b[0m\u001b[0;34m:\u001b[0m\u001b[0;34m\u001b[0m\u001b[0m\n\u001b[1;32m    223\u001b[0m                 \u001b[0mnew_term\u001b[0m \u001b[0;34m=\u001b[0m \u001b[0;34m[\u001b[0m\u001b[0mexcluded\u001b[0m\u001b[0;34m[\u001b[0m\u001b[0margmax_lr\u001b[0m\u001b[0;34m]\u001b[0m\u001b[0;34m]\u001b[0m\u001b[0;34m\u001b[0m\u001b[0m\n\u001b[0;32m--> 224\u001b[0;31m                 \u001b[0;32mreturn\u001b[0m \u001b[0mselect_lin\u001b[0m\u001b[0;34m(\u001b[0m\u001b[0mX_c\u001b[0m\u001b[0;34m,\u001b[0m \u001b[0mX_t\u001b[0m\u001b[0;34m,\u001b[0m \u001b[0mlin_B\u001b[0m\u001b[0;34m+\u001b[0m\u001b[0mnew_term\u001b[0m\u001b[0;34m,\u001b[0m \u001b[0mC_lin\u001b[0m\u001b[0;34m)\u001b[0m\u001b[0;34m\u001b[0m\u001b[0m\n\u001b[0m\u001b[1;32m    225\u001b[0m \u001b[0;34m\u001b[0m\u001b[0m\n\u001b[1;32m    226\u001b[0m \u001b[0;34m\u001b[0m\u001b[0m\n",
      "\u001b[0;32m/anaconda3/lib/python3.6/site-packages/causalinference/core/propensity.py\u001b[0m in \u001b[0;36mselect_lin\u001b[0;34m(X_c, X_t, lin_B, C_lin)\u001b[0m\n\u001b[1;32m    222\u001b[0m         \u001b[0;32melse\u001b[0m\u001b[0;34m:\u001b[0m\u001b[0;34m\u001b[0m\u001b[0m\n\u001b[1;32m    223\u001b[0m                 \u001b[0mnew_term\u001b[0m \u001b[0;34m=\u001b[0m \u001b[0;34m[\u001b[0m\u001b[0mexcluded\u001b[0m\u001b[0;34m[\u001b[0m\u001b[0margmax_lr\u001b[0m\u001b[0;34m]\u001b[0m\u001b[0;34m]\u001b[0m\u001b[0;34m\u001b[0m\u001b[0m\n\u001b[0;32m--> 224\u001b[0;31m                 \u001b[0;32mreturn\u001b[0m \u001b[0mselect_lin\u001b[0m\u001b[0;34m(\u001b[0m\u001b[0mX_c\u001b[0m\u001b[0;34m,\u001b[0m \u001b[0mX_t\u001b[0m\u001b[0;34m,\u001b[0m \u001b[0mlin_B\u001b[0m\u001b[0;34m+\u001b[0m\u001b[0mnew_term\u001b[0m\u001b[0;34m,\u001b[0m \u001b[0mC_lin\u001b[0m\u001b[0;34m)\u001b[0m\u001b[0;34m\u001b[0m\u001b[0m\n\u001b[0m\u001b[1;32m    225\u001b[0m \u001b[0;34m\u001b[0m\u001b[0m\n\u001b[1;32m    226\u001b[0m \u001b[0;34m\u001b[0m\u001b[0m\n",
      "\u001b[0;32m/anaconda3/lib/python3.6/site-packages/causalinference/core/propensity.py\u001b[0m in \u001b[0;36mselect_lin\u001b[0;34m(X_c, X_t, lin_B, C_lin)\u001b[0m\n\u001b[1;32m    222\u001b[0m         \u001b[0;32melse\u001b[0m\u001b[0;34m:\u001b[0m\u001b[0;34m\u001b[0m\u001b[0m\n\u001b[1;32m    223\u001b[0m                 \u001b[0mnew_term\u001b[0m \u001b[0;34m=\u001b[0m \u001b[0;34m[\u001b[0m\u001b[0mexcluded\u001b[0m\u001b[0;34m[\u001b[0m\u001b[0margmax_lr\u001b[0m\u001b[0;34m]\u001b[0m\u001b[0;34m]\u001b[0m\u001b[0;34m\u001b[0m\u001b[0m\n\u001b[0;32m--> 224\u001b[0;31m                 \u001b[0;32mreturn\u001b[0m \u001b[0mselect_lin\u001b[0m\u001b[0;34m(\u001b[0m\u001b[0mX_c\u001b[0m\u001b[0;34m,\u001b[0m \u001b[0mX_t\u001b[0m\u001b[0;34m,\u001b[0m \u001b[0mlin_B\u001b[0m\u001b[0;34m+\u001b[0m\u001b[0mnew_term\u001b[0m\u001b[0;34m,\u001b[0m \u001b[0mC_lin\u001b[0m\u001b[0;34m)\u001b[0m\u001b[0;34m\u001b[0m\u001b[0m\n\u001b[0m\u001b[1;32m    225\u001b[0m \u001b[0;34m\u001b[0m\u001b[0m\n\u001b[1;32m    226\u001b[0m \u001b[0;34m\u001b[0m\u001b[0m\n",
      "\u001b[0;32m/anaconda3/lib/python3.6/site-packages/causalinference/core/propensity.py\u001b[0m in \u001b[0;36mselect_lin\u001b[0;34m(X_c, X_t, lin_B, C_lin)\u001b[0m\n\u001b[1;32m    222\u001b[0m         \u001b[0;32melse\u001b[0m\u001b[0;34m:\u001b[0m\u001b[0;34m\u001b[0m\u001b[0m\n\u001b[1;32m    223\u001b[0m                 \u001b[0mnew_term\u001b[0m \u001b[0;34m=\u001b[0m \u001b[0;34m[\u001b[0m\u001b[0mexcluded\u001b[0m\u001b[0;34m[\u001b[0m\u001b[0margmax_lr\u001b[0m\u001b[0;34m]\u001b[0m\u001b[0;34m]\u001b[0m\u001b[0;34m\u001b[0m\u001b[0m\n\u001b[0;32m--> 224\u001b[0;31m                 \u001b[0;32mreturn\u001b[0m \u001b[0mselect_lin\u001b[0m\u001b[0;34m(\u001b[0m\u001b[0mX_c\u001b[0m\u001b[0;34m,\u001b[0m \u001b[0mX_t\u001b[0m\u001b[0;34m,\u001b[0m \u001b[0mlin_B\u001b[0m\u001b[0;34m+\u001b[0m\u001b[0mnew_term\u001b[0m\u001b[0;34m,\u001b[0m \u001b[0mC_lin\u001b[0m\u001b[0;34m)\u001b[0m\u001b[0;34m\u001b[0m\u001b[0m\n\u001b[0m\u001b[1;32m    225\u001b[0m \u001b[0;34m\u001b[0m\u001b[0m\n\u001b[1;32m    226\u001b[0m \u001b[0;34m\u001b[0m\u001b[0m\n",
      "\u001b[0;32m/anaconda3/lib/python3.6/site-packages/causalinference/core/propensity.py\u001b[0m in \u001b[0;36mselect_lin\u001b[0;34m(X_c, X_t, lin_B, C_lin)\u001b[0m\n\u001b[1;32m    222\u001b[0m         \u001b[0;32melse\u001b[0m\u001b[0;34m:\u001b[0m\u001b[0;34m\u001b[0m\u001b[0m\n\u001b[1;32m    223\u001b[0m                 \u001b[0mnew_term\u001b[0m \u001b[0;34m=\u001b[0m \u001b[0;34m[\u001b[0m\u001b[0mexcluded\u001b[0m\u001b[0;34m[\u001b[0m\u001b[0margmax_lr\u001b[0m\u001b[0;34m]\u001b[0m\u001b[0;34m]\u001b[0m\u001b[0;34m\u001b[0m\u001b[0m\n\u001b[0;32m--> 224\u001b[0;31m                 \u001b[0;32mreturn\u001b[0m \u001b[0mselect_lin\u001b[0m\u001b[0;34m(\u001b[0m\u001b[0mX_c\u001b[0m\u001b[0;34m,\u001b[0m \u001b[0mX_t\u001b[0m\u001b[0;34m,\u001b[0m \u001b[0mlin_B\u001b[0m\u001b[0;34m+\u001b[0m\u001b[0mnew_term\u001b[0m\u001b[0;34m,\u001b[0m \u001b[0mC_lin\u001b[0m\u001b[0;34m)\u001b[0m\u001b[0;34m\u001b[0m\u001b[0m\n\u001b[0m\u001b[1;32m    225\u001b[0m \u001b[0;34m\u001b[0m\u001b[0m\n\u001b[1;32m    226\u001b[0m \u001b[0;34m\u001b[0m\u001b[0m\n",
      "\u001b[0;32m/anaconda3/lib/python3.6/site-packages/causalinference/core/propensity.py\u001b[0m in \u001b[0;36mselect_lin\u001b[0;34m(X_c, X_t, lin_B, C_lin)\u001b[0m\n\u001b[1;32m    222\u001b[0m         \u001b[0;32melse\u001b[0m\u001b[0;34m:\u001b[0m\u001b[0;34m\u001b[0m\u001b[0m\n\u001b[1;32m    223\u001b[0m                 \u001b[0mnew_term\u001b[0m \u001b[0;34m=\u001b[0m \u001b[0;34m[\u001b[0m\u001b[0mexcluded\u001b[0m\u001b[0;34m[\u001b[0m\u001b[0margmax_lr\u001b[0m\u001b[0;34m]\u001b[0m\u001b[0;34m]\u001b[0m\u001b[0;34m\u001b[0m\u001b[0m\n\u001b[0;32m--> 224\u001b[0;31m                 \u001b[0;32mreturn\u001b[0m \u001b[0mselect_lin\u001b[0m\u001b[0;34m(\u001b[0m\u001b[0mX_c\u001b[0m\u001b[0;34m,\u001b[0m \u001b[0mX_t\u001b[0m\u001b[0;34m,\u001b[0m \u001b[0mlin_B\u001b[0m\u001b[0;34m+\u001b[0m\u001b[0mnew_term\u001b[0m\u001b[0;34m,\u001b[0m \u001b[0mC_lin\u001b[0m\u001b[0;34m)\u001b[0m\u001b[0;34m\u001b[0m\u001b[0m\n\u001b[0m\u001b[1;32m    225\u001b[0m \u001b[0;34m\u001b[0m\u001b[0m\n\u001b[1;32m    226\u001b[0m \u001b[0;34m\u001b[0m\u001b[0m\n",
      "\u001b[0;32m/anaconda3/lib/python3.6/site-packages/causalinference/core/propensity.py\u001b[0m in \u001b[0;36mselect_lin\u001b[0;34m(X_c, X_t, lin_B, C_lin)\u001b[0m\n\u001b[1;32m    222\u001b[0m         \u001b[0;32melse\u001b[0m\u001b[0;34m:\u001b[0m\u001b[0;34m\u001b[0m\u001b[0m\n\u001b[1;32m    223\u001b[0m                 \u001b[0mnew_term\u001b[0m \u001b[0;34m=\u001b[0m \u001b[0;34m[\u001b[0m\u001b[0mexcluded\u001b[0m\u001b[0;34m[\u001b[0m\u001b[0margmax_lr\u001b[0m\u001b[0;34m]\u001b[0m\u001b[0;34m]\u001b[0m\u001b[0;34m\u001b[0m\u001b[0m\n\u001b[0;32m--> 224\u001b[0;31m                 \u001b[0;32mreturn\u001b[0m \u001b[0mselect_lin\u001b[0m\u001b[0;34m(\u001b[0m\u001b[0mX_c\u001b[0m\u001b[0;34m,\u001b[0m \u001b[0mX_t\u001b[0m\u001b[0;34m,\u001b[0m \u001b[0mlin_B\u001b[0m\u001b[0;34m+\u001b[0m\u001b[0mnew_term\u001b[0m\u001b[0;34m,\u001b[0m \u001b[0mC_lin\u001b[0m\u001b[0;34m)\u001b[0m\u001b[0;34m\u001b[0m\u001b[0m\n\u001b[0m\u001b[1;32m    225\u001b[0m \u001b[0;34m\u001b[0m\u001b[0m\n\u001b[1;32m    226\u001b[0m \u001b[0;34m\u001b[0m\u001b[0m\n",
      "\u001b[0;32m/anaconda3/lib/python3.6/site-packages/causalinference/core/propensity.py\u001b[0m in \u001b[0;36mselect_lin\u001b[0;34m(X_c, X_t, lin_B, C_lin)\u001b[0m\n\u001b[1;32m    222\u001b[0m         \u001b[0;32melse\u001b[0m\u001b[0;34m:\u001b[0m\u001b[0;34m\u001b[0m\u001b[0m\n\u001b[1;32m    223\u001b[0m                 \u001b[0mnew_term\u001b[0m \u001b[0;34m=\u001b[0m \u001b[0;34m[\u001b[0m\u001b[0mexcluded\u001b[0m\u001b[0;34m[\u001b[0m\u001b[0margmax_lr\u001b[0m\u001b[0;34m]\u001b[0m\u001b[0;34m]\u001b[0m\u001b[0;34m\u001b[0m\u001b[0m\n\u001b[0;32m--> 224\u001b[0;31m                 \u001b[0;32mreturn\u001b[0m \u001b[0mselect_lin\u001b[0m\u001b[0;34m(\u001b[0m\u001b[0mX_c\u001b[0m\u001b[0;34m,\u001b[0m \u001b[0mX_t\u001b[0m\u001b[0;34m,\u001b[0m \u001b[0mlin_B\u001b[0m\u001b[0;34m+\u001b[0m\u001b[0mnew_term\u001b[0m\u001b[0;34m,\u001b[0m \u001b[0mC_lin\u001b[0m\u001b[0;34m)\u001b[0m\u001b[0;34m\u001b[0m\u001b[0m\n\u001b[0m\u001b[1;32m    225\u001b[0m \u001b[0;34m\u001b[0m\u001b[0m\n\u001b[1;32m    226\u001b[0m \u001b[0;34m\u001b[0m\u001b[0m\n",
      "\u001b[0;32m/anaconda3/lib/python3.6/site-packages/causalinference/core/propensity.py\u001b[0m in \u001b[0;36mselect_lin\u001b[0;34m(X_c, X_t, lin_B, C_lin)\u001b[0m\n\u001b[1;32m    222\u001b[0m         \u001b[0;32melse\u001b[0m\u001b[0;34m:\u001b[0m\u001b[0;34m\u001b[0m\u001b[0m\n\u001b[1;32m    223\u001b[0m                 \u001b[0mnew_term\u001b[0m \u001b[0;34m=\u001b[0m \u001b[0;34m[\u001b[0m\u001b[0mexcluded\u001b[0m\u001b[0;34m[\u001b[0m\u001b[0margmax_lr\u001b[0m\u001b[0;34m]\u001b[0m\u001b[0;34m]\u001b[0m\u001b[0;34m\u001b[0m\u001b[0m\n\u001b[0;32m--> 224\u001b[0;31m                 \u001b[0;32mreturn\u001b[0m \u001b[0mselect_lin\u001b[0m\u001b[0;34m(\u001b[0m\u001b[0mX_c\u001b[0m\u001b[0;34m,\u001b[0m \u001b[0mX_t\u001b[0m\u001b[0;34m,\u001b[0m \u001b[0mlin_B\u001b[0m\u001b[0;34m+\u001b[0m\u001b[0mnew_term\u001b[0m\u001b[0;34m,\u001b[0m \u001b[0mC_lin\u001b[0m\u001b[0;34m)\u001b[0m\u001b[0;34m\u001b[0m\u001b[0m\n\u001b[0m\u001b[1;32m    225\u001b[0m \u001b[0;34m\u001b[0m\u001b[0m\n\u001b[1;32m    226\u001b[0m \u001b[0;34m\u001b[0m\u001b[0m\n",
      "\u001b[0;32m/anaconda3/lib/python3.6/site-packages/causalinference/core/propensity.py\u001b[0m in \u001b[0;36mselect_lin\u001b[0;34m(X_c, X_t, lin_B, C_lin)\u001b[0m\n\u001b[1;32m    222\u001b[0m         \u001b[0;32melse\u001b[0m\u001b[0;34m:\u001b[0m\u001b[0;34m\u001b[0m\u001b[0m\n\u001b[1;32m    223\u001b[0m                 \u001b[0mnew_term\u001b[0m \u001b[0;34m=\u001b[0m \u001b[0;34m[\u001b[0m\u001b[0mexcluded\u001b[0m\u001b[0;34m[\u001b[0m\u001b[0margmax_lr\u001b[0m\u001b[0;34m]\u001b[0m\u001b[0;34m]\u001b[0m\u001b[0;34m\u001b[0m\u001b[0m\n\u001b[0;32m--> 224\u001b[0;31m                 \u001b[0;32mreturn\u001b[0m \u001b[0mselect_lin\u001b[0m\u001b[0;34m(\u001b[0m\u001b[0mX_c\u001b[0m\u001b[0;34m,\u001b[0m \u001b[0mX_t\u001b[0m\u001b[0;34m,\u001b[0m \u001b[0mlin_B\u001b[0m\u001b[0;34m+\u001b[0m\u001b[0mnew_term\u001b[0m\u001b[0;34m,\u001b[0m \u001b[0mC_lin\u001b[0m\u001b[0;34m)\u001b[0m\u001b[0;34m\u001b[0m\u001b[0m\n\u001b[0m\u001b[1;32m    225\u001b[0m \u001b[0;34m\u001b[0m\u001b[0m\n\u001b[1;32m    226\u001b[0m \u001b[0;34m\u001b[0m\u001b[0m\n",
      "\u001b[0;32m/anaconda3/lib/python3.6/site-packages/causalinference/core/propensity.py\u001b[0m in \u001b[0;36mselect_lin\u001b[0;34m(X_c, X_t, lin_B, C_lin)\u001b[0m\n\u001b[1;32m    215\u001b[0m                 \u001b[0;32mreturn\u001b[0m \u001b[0;36m2\u001b[0m \u001b[0;34m*\u001b[0m \u001b[0;34m(\u001b[0m\u001b[0mll_alt\u001b[0m \u001b[0;34m-\u001b[0m \u001b[0mll_null\u001b[0m\u001b[0;34m)\u001b[0m\u001b[0;34m\u001b[0m\u001b[0m\n\u001b[1;32m    216\u001b[0m \u001b[0;34m\u001b[0m\u001b[0m\n\u001b[0;32m--> 217\u001b[0;31m         \u001b[0mlr_stats\u001b[0m \u001b[0;34m=\u001b[0m \u001b[0mnp\u001b[0m\u001b[0;34m.\u001b[0m\u001b[0marray\u001b[0m\u001b[0;34m(\u001b[0m\u001b[0;34m[\u001b[0m\u001b[0mlr_stat_lin\u001b[0m\u001b[0;34m(\u001b[0m\u001b[0mterm\u001b[0m\u001b[0;34m)\u001b[0m \u001b[0;32mfor\u001b[0m \u001b[0mterm\u001b[0m \u001b[0;32min\u001b[0m \u001b[0mexcluded\u001b[0m\u001b[0;34m]\u001b[0m\u001b[0;34m)\u001b[0m\u001b[0;34m\u001b[0m\u001b[0m\n\u001b[0m\u001b[1;32m    218\u001b[0m         \u001b[0margmax_lr\u001b[0m \u001b[0;34m=\u001b[0m \u001b[0mlr_stats\u001b[0m\u001b[0;34m.\u001b[0m\u001b[0margmax\u001b[0m\u001b[0;34m(\u001b[0m\u001b[0;34m)\u001b[0m\u001b[0;34m\u001b[0m\u001b[0m\n\u001b[1;32m    219\u001b[0m \u001b[0;34m\u001b[0m\u001b[0m\n",
      "\u001b[0;32m/anaconda3/lib/python3.6/site-packages/causalinference/core/propensity.py\u001b[0m in \u001b[0;36m<listcomp>\u001b[0;34m(.0)\u001b[0m\n\u001b[1;32m    215\u001b[0m                 \u001b[0;32mreturn\u001b[0m \u001b[0;36m2\u001b[0m \u001b[0;34m*\u001b[0m \u001b[0;34m(\u001b[0m\u001b[0mll_alt\u001b[0m \u001b[0;34m-\u001b[0m \u001b[0mll_null\u001b[0m\u001b[0;34m)\u001b[0m\u001b[0;34m\u001b[0m\u001b[0m\n\u001b[1;32m    216\u001b[0m \u001b[0;34m\u001b[0m\u001b[0m\n\u001b[0;32m--> 217\u001b[0;31m         \u001b[0mlr_stats\u001b[0m \u001b[0;34m=\u001b[0m \u001b[0mnp\u001b[0m\u001b[0;34m.\u001b[0m\u001b[0marray\u001b[0m\u001b[0;34m(\u001b[0m\u001b[0;34m[\u001b[0m\u001b[0mlr_stat_lin\u001b[0m\u001b[0;34m(\u001b[0m\u001b[0mterm\u001b[0m\u001b[0;34m)\u001b[0m \u001b[0;32mfor\u001b[0m \u001b[0mterm\u001b[0m \u001b[0;32min\u001b[0m \u001b[0mexcluded\u001b[0m\u001b[0;34m]\u001b[0m\u001b[0;34m)\u001b[0m\u001b[0;34m\u001b[0m\u001b[0m\n\u001b[0m\u001b[1;32m    218\u001b[0m         \u001b[0margmax_lr\u001b[0m \u001b[0;34m=\u001b[0m \u001b[0mlr_stats\u001b[0m\u001b[0;34m.\u001b[0m\u001b[0margmax\u001b[0m\u001b[0;34m(\u001b[0m\u001b[0;34m)\u001b[0m\u001b[0;34m\u001b[0m\u001b[0m\n\u001b[1;32m    219\u001b[0m \u001b[0;34m\u001b[0m\u001b[0m\n",
      "\u001b[0;32m/anaconda3/lib/python3.6/site-packages/causalinference/core/propensity.py\u001b[0m in \u001b[0;36mlr_stat_lin\u001b[0;34m(lin_term)\u001b[0m\n\u001b[1;32m    212\u001b[0m \u001b[0;34m\u001b[0m\u001b[0m\n\u001b[1;32m    213\u001b[0m         \u001b[0;32mdef\u001b[0m \u001b[0mlr_stat_lin\u001b[0m\u001b[0;34m(\u001b[0m\u001b[0mlin_term\u001b[0m\u001b[0;34m)\u001b[0m\u001b[0;34m:\u001b[0m\u001b[0;34m\u001b[0m\u001b[0m\n\u001b[0;32m--> 214\u001b[0;31m                 \u001b[0mll_alt\u001b[0m \u001b[0;34m=\u001b[0m \u001b[0mcalc_loglike\u001b[0m\u001b[0;34m(\u001b[0m\u001b[0mX_c\u001b[0m\u001b[0;34m,\u001b[0m \u001b[0mX_t\u001b[0m\u001b[0;34m,\u001b[0m \u001b[0mlin_B\u001b[0m\u001b[0;34m+\u001b[0m\u001b[0;34m[\u001b[0m\u001b[0mlin_term\u001b[0m\u001b[0;34m]\u001b[0m\u001b[0;34m,\u001b[0m \u001b[0;34m[\u001b[0m\u001b[0;34m]\u001b[0m\u001b[0;34m)\u001b[0m\u001b[0;34m\u001b[0m\u001b[0m\n\u001b[0m\u001b[1;32m    215\u001b[0m                 \u001b[0;32mreturn\u001b[0m \u001b[0;36m2\u001b[0m \u001b[0;34m*\u001b[0m \u001b[0;34m(\u001b[0m\u001b[0mll_alt\u001b[0m \u001b[0;34m-\u001b[0m \u001b[0mll_null\u001b[0m\u001b[0;34m)\u001b[0m\u001b[0;34m\u001b[0m\u001b[0m\n\u001b[1;32m    216\u001b[0m \u001b[0;34m\u001b[0m\u001b[0m\n",
      "\u001b[0;32m/anaconda3/lib/python3.6/site-packages/causalinference/core/propensity.py\u001b[0m in \u001b[0;36mcalc_loglike\u001b[0;34m(X_c, X_t, lin, qua)\u001b[0m\n\u001b[1;32m    193\u001b[0m         \u001b[0mZ_c\u001b[0m \u001b[0;34m=\u001b[0m \u001b[0mform_matrix\u001b[0m\u001b[0;34m(\u001b[0m\u001b[0mX_c\u001b[0m\u001b[0;34m,\u001b[0m \u001b[0mlin\u001b[0m\u001b[0;34m,\u001b[0m \u001b[0mqua\u001b[0m\u001b[0;34m)\u001b[0m\u001b[0;34m\u001b[0m\u001b[0m\n\u001b[1;32m    194\u001b[0m         \u001b[0mZ_t\u001b[0m \u001b[0;34m=\u001b[0m \u001b[0mform_matrix\u001b[0m\u001b[0;34m(\u001b[0m\u001b[0mX_t\u001b[0m\u001b[0;34m,\u001b[0m \u001b[0mlin\u001b[0m\u001b[0;34m,\u001b[0m \u001b[0mqua\u001b[0m\u001b[0;34m)\u001b[0m\u001b[0;34m\u001b[0m\u001b[0m\n\u001b[0;32m--> 195\u001b[0;31m         \u001b[0mbeta\u001b[0m \u001b[0;34m=\u001b[0m \u001b[0mcalc_coef\u001b[0m\u001b[0;34m(\u001b[0m\u001b[0mZ_c\u001b[0m\u001b[0;34m,\u001b[0m \u001b[0mZ_t\u001b[0m\u001b[0;34m)\u001b[0m\u001b[0;34m\u001b[0m\u001b[0m\n\u001b[0m\u001b[1;32m    196\u001b[0m \u001b[0;34m\u001b[0m\u001b[0m\n\u001b[1;32m    197\u001b[0m         \u001b[0;32mreturn\u001b[0m \u001b[0;34m-\u001b[0m\u001b[0mneg_loglike\u001b[0m\u001b[0;34m(\u001b[0m\u001b[0mbeta\u001b[0m\u001b[0;34m,\u001b[0m \u001b[0mZ_c\u001b[0m\u001b[0;34m,\u001b[0m \u001b[0mZ_t\u001b[0m\u001b[0;34m)\u001b[0m\u001b[0;34m\u001b[0m\u001b[0m\n",
      "\u001b[0;32m/anaconda3/lib/python3.6/site-packages/causalinference/core/propensity.py\u001b[0m in \u001b[0;36mcalc_coef\u001b[0;34m(X_c, X_t)\u001b[0m\n\u001b[1;32m    162\u001b[0m \u001b[0;34m\u001b[0m\u001b[0m\n\u001b[1;32m    163\u001b[0m \tlogit = fmin_bfgs(neg_ll, np.zeros(K), neg_grad,\n\u001b[0;32m--> 164\u001b[0;31m \t\t\t  full_output=True, disp=False)\n\u001b[0m\u001b[1;32m    165\u001b[0m \u001b[0;34m\u001b[0m\u001b[0m\n\u001b[1;32m    166\u001b[0m         \u001b[0;32mreturn\u001b[0m \u001b[0mlogit\u001b[0m\u001b[0;34m[\u001b[0m\u001b[0;36m0\u001b[0m\u001b[0;34m]\u001b[0m\u001b[0;34m\u001b[0m\u001b[0m\n",
      "\u001b[0;32m/anaconda3/lib/python3.6/site-packages/scipy/optimize/optimize.py\u001b[0m in \u001b[0;36mfmin_bfgs\u001b[0;34m(f, x0, fprime, args, gtol, norm, epsilon, maxiter, full_output, disp, retall, callback)\u001b[0m\n\u001b[1;32m    887\u001b[0m             'return_all': retall}\n\u001b[1;32m    888\u001b[0m \u001b[0;34m\u001b[0m\u001b[0m\n\u001b[0;32m--> 889\u001b[0;31m     \u001b[0mres\u001b[0m \u001b[0;34m=\u001b[0m \u001b[0m_minimize_bfgs\u001b[0m\u001b[0;34m(\u001b[0m\u001b[0mf\u001b[0m\u001b[0;34m,\u001b[0m \u001b[0mx0\u001b[0m\u001b[0;34m,\u001b[0m \u001b[0margs\u001b[0m\u001b[0;34m,\u001b[0m \u001b[0mfprime\u001b[0m\u001b[0;34m,\u001b[0m \u001b[0mcallback\u001b[0m\u001b[0;34m=\u001b[0m\u001b[0mcallback\u001b[0m\u001b[0;34m,\u001b[0m \u001b[0;34m**\u001b[0m\u001b[0mopts\u001b[0m\u001b[0;34m)\u001b[0m\u001b[0;34m\u001b[0m\u001b[0m\n\u001b[0m\u001b[1;32m    890\u001b[0m \u001b[0;34m\u001b[0m\u001b[0m\n\u001b[1;32m    891\u001b[0m     \u001b[0;32mif\u001b[0m \u001b[0mfull_output\u001b[0m\u001b[0;34m:\u001b[0m\u001b[0;34m\u001b[0m\u001b[0m\n",
      "\u001b[0;32m/anaconda3/lib/python3.6/site-packages/scipy/optimize/optimize.py\u001b[0m in \u001b[0;36m_minimize_bfgs\u001b[0;34m(fun, x0, args, jac, callback, gtol, norm, eps, maxiter, disp, return_all, **unknown_options)\u001b[0m\n\u001b[1;32m    962\u001b[0m             \u001b[0malpha_k\u001b[0m\u001b[0;34m,\u001b[0m \u001b[0mfc\u001b[0m\u001b[0;34m,\u001b[0m \u001b[0mgc\u001b[0m\u001b[0;34m,\u001b[0m \u001b[0mold_fval\u001b[0m\u001b[0;34m,\u001b[0m \u001b[0mold_old_fval\u001b[0m\u001b[0;34m,\u001b[0m \u001b[0mgfkp1\u001b[0m \u001b[0;34m=\u001b[0m\u001b[0;31m \u001b[0m\u001b[0;31m\\\u001b[0m\u001b[0;34m\u001b[0m\u001b[0m\n\u001b[1;32m    963\u001b[0m                      _line_search_wolfe12(f, myfprime, xk, pk, gfk,\n\u001b[0;32m--> 964\u001b[0;31m                                           old_fval, old_old_fval, amin=1e-100, amax=1e100)\n\u001b[0m\u001b[1;32m    965\u001b[0m         \u001b[0;32mexcept\u001b[0m \u001b[0m_LineSearchError\u001b[0m\u001b[0;34m:\u001b[0m\u001b[0;34m\u001b[0m\u001b[0m\n\u001b[1;32m    966\u001b[0m             \u001b[0;31m# Line search failed to find a better solution.\u001b[0m\u001b[0;34m\u001b[0m\u001b[0;34m\u001b[0m\u001b[0m\n",
      "\u001b[0;32m/anaconda3/lib/python3.6/site-packages/scipy/optimize/optimize.py\u001b[0m in \u001b[0;36m_line_search_wolfe12\u001b[0;34m(f, fprime, xk, pk, gfk, old_fval, old_old_fval, **kwargs)\u001b[0m\n\u001b[1;32m    781\u001b[0m     ret = line_search_wolfe1(f, fprime, xk, pk, gfk,\n\u001b[1;32m    782\u001b[0m                              \u001b[0mold_fval\u001b[0m\u001b[0;34m,\u001b[0m \u001b[0mold_old_fval\u001b[0m\u001b[0;34m,\u001b[0m\u001b[0;34m\u001b[0m\u001b[0m\n\u001b[0;32m--> 783\u001b[0;31m                              **kwargs)\n\u001b[0m\u001b[1;32m    784\u001b[0m \u001b[0;34m\u001b[0m\u001b[0m\n\u001b[1;32m    785\u001b[0m     \u001b[0;32mif\u001b[0m \u001b[0mret\u001b[0m\u001b[0;34m[\u001b[0m\u001b[0;36m0\u001b[0m\u001b[0;34m]\u001b[0m \u001b[0;32mis\u001b[0m \u001b[0;32mnot\u001b[0m \u001b[0;32mNone\u001b[0m \u001b[0;32mand\u001b[0m \u001b[0mextra_condition\u001b[0m \u001b[0;32mis\u001b[0m \u001b[0;32mnot\u001b[0m \u001b[0;32mNone\u001b[0m\u001b[0;34m:\u001b[0m\u001b[0;34m\u001b[0m\u001b[0m\n",
      "\u001b[0;32m/anaconda3/lib/python3.6/site-packages/scipy/optimize/linesearch.py\u001b[0m in \u001b[0;36mline_search_wolfe1\u001b[0;34m(f, fprime, xk, pk, gfk, old_fval, old_old_fval, args, c1, c2, amax, amin, xtol)\u001b[0m\n\u001b[1;32m     99\u001b[0m     stp, fval, old_fval = scalar_search_wolfe1(\n\u001b[1;32m    100\u001b[0m             \u001b[0mphi\u001b[0m\u001b[0;34m,\u001b[0m \u001b[0mderphi\u001b[0m\u001b[0;34m,\u001b[0m \u001b[0mold_fval\u001b[0m\u001b[0;34m,\u001b[0m \u001b[0mold_old_fval\u001b[0m\u001b[0;34m,\u001b[0m \u001b[0mderphi0\u001b[0m\u001b[0;34m,\u001b[0m\u001b[0;34m\u001b[0m\u001b[0m\n\u001b[0;32m--> 101\u001b[0;31m             c1=c1, c2=c2, amax=amax, amin=amin, xtol=xtol)\n\u001b[0m\u001b[1;32m    102\u001b[0m \u001b[0;34m\u001b[0m\u001b[0m\n\u001b[1;32m    103\u001b[0m     \u001b[0;32mreturn\u001b[0m \u001b[0mstp\u001b[0m\u001b[0;34m,\u001b[0m \u001b[0mfc\u001b[0m\u001b[0;34m[\u001b[0m\u001b[0;36m0\u001b[0m\u001b[0;34m]\u001b[0m\u001b[0;34m,\u001b[0m \u001b[0mgc\u001b[0m\u001b[0;34m[\u001b[0m\u001b[0;36m0\u001b[0m\u001b[0;34m]\u001b[0m\u001b[0;34m,\u001b[0m \u001b[0mfval\u001b[0m\u001b[0;34m,\u001b[0m \u001b[0mold_fval\u001b[0m\u001b[0;34m,\u001b[0m \u001b[0mgval\u001b[0m\u001b[0;34m[\u001b[0m\u001b[0;36m0\u001b[0m\u001b[0;34m]\u001b[0m\u001b[0;34m\u001b[0m\u001b[0m\n",
      "\u001b[0;32m/anaconda3/lib/python3.6/site-packages/scipy/optimize/linesearch.py\u001b[0m in \u001b[0;36mscalar_search_wolfe1\u001b[0;34m(phi, derphi, phi0, old_phi0, derphi0, c1, c2, amax, amin, xtol)\u001b[0m\n\u001b[1;32m    173\u001b[0m             \u001b[0malpha1\u001b[0m \u001b[0;34m=\u001b[0m \u001b[0mstp\u001b[0m\u001b[0;34m\u001b[0m\u001b[0m\n\u001b[1;32m    174\u001b[0m             \u001b[0mphi1\u001b[0m \u001b[0;34m=\u001b[0m \u001b[0mphi\u001b[0m\u001b[0;34m(\u001b[0m\u001b[0mstp\u001b[0m\u001b[0;34m)\u001b[0m\u001b[0;34m\u001b[0m\u001b[0m\n\u001b[0;32m--> 175\u001b[0;31m             \u001b[0mderphi1\u001b[0m \u001b[0;34m=\u001b[0m \u001b[0mderphi\u001b[0m\u001b[0;34m(\u001b[0m\u001b[0mstp\u001b[0m\u001b[0;34m)\u001b[0m\u001b[0;34m\u001b[0m\u001b[0m\n\u001b[0m\u001b[1;32m    176\u001b[0m         \u001b[0;32melse\u001b[0m\u001b[0;34m:\u001b[0m\u001b[0;34m\u001b[0m\u001b[0m\n\u001b[1;32m    177\u001b[0m             \u001b[0;32mbreak\u001b[0m\u001b[0;34m\u001b[0m\u001b[0m\n",
      "\u001b[0;32m/anaconda3/lib/python3.6/site-packages/scipy/optimize/linesearch.py\u001b[0m in \u001b[0;36mderphi\u001b[0;34m(s)\u001b[0m\n\u001b[1;32m     88\u001b[0m \u001b[0;34m\u001b[0m\u001b[0m\n\u001b[1;32m     89\u001b[0m     \u001b[0;32mdef\u001b[0m \u001b[0mderphi\u001b[0m\u001b[0;34m(\u001b[0m\u001b[0ms\u001b[0m\u001b[0;34m)\u001b[0m\u001b[0;34m:\u001b[0m\u001b[0;34m\u001b[0m\u001b[0m\n\u001b[0;32m---> 90\u001b[0;31m         \u001b[0mgval\u001b[0m\u001b[0;34m[\u001b[0m\u001b[0;36m0\u001b[0m\u001b[0;34m]\u001b[0m \u001b[0;34m=\u001b[0m \u001b[0mfprime\u001b[0m\u001b[0;34m(\u001b[0m\u001b[0mxk\u001b[0m \u001b[0;34m+\u001b[0m \u001b[0ms\u001b[0m\u001b[0;34m*\u001b[0m\u001b[0mpk\u001b[0m\u001b[0;34m,\u001b[0m \u001b[0;34m*\u001b[0m\u001b[0mnewargs\u001b[0m\u001b[0;34m)\u001b[0m\u001b[0;34m\u001b[0m\u001b[0m\n\u001b[0m\u001b[1;32m     91\u001b[0m         \u001b[0;32mif\u001b[0m \u001b[0mgradient\u001b[0m\u001b[0;34m:\u001b[0m\u001b[0;34m\u001b[0m\u001b[0m\n\u001b[1;32m     92\u001b[0m             \u001b[0mgc\u001b[0m\u001b[0;34m[\u001b[0m\u001b[0;36m0\u001b[0m\u001b[0;34m]\u001b[0m \u001b[0;34m+=\u001b[0m \u001b[0;36m1\u001b[0m\u001b[0;34m\u001b[0m\u001b[0m\n",
      "\u001b[0;32m/anaconda3/lib/python3.6/site-packages/scipy/optimize/optimize.py\u001b[0m in \u001b[0;36mfunction_wrapper\u001b[0;34m(*wrapper_args)\u001b[0m\n\u001b[1;32m    290\u001b[0m     \u001b[0;32mdef\u001b[0m \u001b[0mfunction_wrapper\u001b[0m\u001b[0;34m(\u001b[0m\u001b[0;34m*\u001b[0m\u001b[0mwrapper_args\u001b[0m\u001b[0;34m)\u001b[0m\u001b[0;34m:\u001b[0m\u001b[0;34m\u001b[0m\u001b[0m\n\u001b[1;32m    291\u001b[0m         \u001b[0mncalls\u001b[0m\u001b[0;34m[\u001b[0m\u001b[0;36m0\u001b[0m\u001b[0;34m]\u001b[0m \u001b[0;34m+=\u001b[0m \u001b[0;36m1\u001b[0m\u001b[0;34m\u001b[0m\u001b[0m\n\u001b[0;32m--> 292\u001b[0;31m         \u001b[0;32mreturn\u001b[0m \u001b[0mfunction\u001b[0m\u001b[0;34m(\u001b[0m\u001b[0;34m*\u001b[0m\u001b[0;34m(\u001b[0m\u001b[0mwrapper_args\u001b[0m \u001b[0;34m+\u001b[0m \u001b[0margs\u001b[0m\u001b[0;34m)\u001b[0m\u001b[0;34m)\u001b[0m\u001b[0;34m\u001b[0m\u001b[0m\n\u001b[0m\u001b[1;32m    293\u001b[0m \u001b[0;34m\u001b[0m\u001b[0m\n\u001b[1;32m    294\u001b[0m     \u001b[0;32mreturn\u001b[0m \u001b[0mncalls\u001b[0m\u001b[0;34m,\u001b[0m \u001b[0mfunction_wrapper\u001b[0m\u001b[0;34m\u001b[0m\u001b[0m\n",
      "\u001b[0;32m/anaconda3/lib/python3.6/site-packages/causalinference/core/propensity.py\u001b[0m in \u001b[0;36m<lambda>\u001b[0;34m(b)\u001b[0m\n\u001b[1;32m    159\u001b[0m \u001b[0;34m\u001b[0m\u001b[0m\n\u001b[1;32m    160\u001b[0m         \u001b[0mneg_ll\u001b[0m \u001b[0;34m=\u001b[0m \u001b[0;32mlambda\u001b[0m \u001b[0mb\u001b[0m\u001b[0;34m:\u001b[0m \u001b[0mneg_loglike\u001b[0m\u001b[0;34m(\u001b[0m\u001b[0mb\u001b[0m\u001b[0;34m,\u001b[0m \u001b[0mX_c\u001b[0m\u001b[0;34m,\u001b[0m \u001b[0mX_t\u001b[0m\u001b[0;34m)\u001b[0m\u001b[0;34m\u001b[0m\u001b[0m\n\u001b[0;32m--> 161\u001b[0;31m         \u001b[0mneg_grad\u001b[0m \u001b[0;34m=\u001b[0m \u001b[0;32mlambda\u001b[0m \u001b[0mb\u001b[0m\u001b[0;34m:\u001b[0m \u001b[0mneg_gradient\u001b[0m\u001b[0;34m(\u001b[0m\u001b[0mb\u001b[0m\u001b[0;34m,\u001b[0m \u001b[0mX_c\u001b[0m\u001b[0;34m,\u001b[0m \u001b[0mX_t\u001b[0m\u001b[0;34m)\u001b[0m\u001b[0;34m\u001b[0m\u001b[0m\n\u001b[0m\u001b[1;32m    162\u001b[0m \u001b[0;34m\u001b[0m\u001b[0m\n\u001b[1;32m    163\u001b[0m \tlogit = fmin_bfgs(neg_ll, np.zeros(K), neg_grad,\n",
      "\u001b[0;32m/anaconda3/lib/python3.6/site-packages/causalinference/core/propensity.py\u001b[0m in \u001b[0;36mneg_gradient\u001b[0;34m(beta, X_c, X_t)\u001b[0m\n\u001b[1;32m    150\u001b[0m \u001b[0;32mdef\u001b[0m \u001b[0mneg_gradient\u001b[0m\u001b[0;34m(\u001b[0m\u001b[0mbeta\u001b[0m\u001b[0;34m,\u001b[0m \u001b[0mX_c\u001b[0m\u001b[0;34m,\u001b[0m \u001b[0mX_t\u001b[0m\u001b[0;34m)\u001b[0m\u001b[0;34m:\u001b[0m\u001b[0;34m\u001b[0m\u001b[0m\n\u001b[1;32m    151\u001b[0m \u001b[0;34m\u001b[0m\u001b[0m\n\u001b[0;32m--> 152\u001b[0;31m         \u001b[0;32mreturn\u001b[0m \u001b[0;34m(\u001b[0m\u001b[0msigmoid\u001b[0m\u001b[0;34m(\u001b[0m\u001b[0mX_c\u001b[0m\u001b[0;34m.\u001b[0m\u001b[0mdot\u001b[0m\u001b[0;34m(\u001b[0m\u001b[0mbeta\u001b[0m\u001b[0;34m)\u001b[0m\u001b[0;34m)\u001b[0m\u001b[0;34m*\u001b[0m\u001b[0mX_c\u001b[0m\u001b[0;34m.\u001b[0m\u001b[0mT\u001b[0m\u001b[0;34m)\u001b[0m\u001b[0;34m.\u001b[0m\u001b[0msum\u001b[0m\u001b[0;34m(\u001b[0m\u001b[0;36m1\u001b[0m\u001b[0;34m)\u001b[0m \u001b[0;34m-\u001b[0m\u001b[0;31m \u001b[0m\u001b[0;31m\\\u001b[0m\u001b[0;34m\u001b[0m\u001b[0m\n\u001b[0m\u001b[1;32m    153\u001b[0m                \u001b[0;34m(\u001b[0m\u001b[0msigmoid\u001b[0m\u001b[0;34m(\u001b[0m\u001b[0;34m-\u001b[0m\u001b[0mX_t\u001b[0m\u001b[0;34m.\u001b[0m\u001b[0mdot\u001b[0m\u001b[0;34m(\u001b[0m\u001b[0mbeta\u001b[0m\u001b[0;34m)\u001b[0m\u001b[0;34m)\u001b[0m\u001b[0;34m*\u001b[0m\u001b[0mX_t\u001b[0m\u001b[0;34m.\u001b[0m\u001b[0mT\u001b[0m\u001b[0;34m)\u001b[0m\u001b[0;34m.\u001b[0m\u001b[0msum\u001b[0m\u001b[0;34m(\u001b[0m\u001b[0;36m1\u001b[0m\u001b[0;34m)\u001b[0m\u001b[0;34m\u001b[0m\u001b[0m\n\u001b[1;32m    154\u001b[0m \u001b[0;34m\u001b[0m\u001b[0m\n",
      "\u001b[0;31mKeyboardInterrupt\u001b[0m: "
     ]
    }
   ],
   "source": [
    "causal = CausalModel(DATA['default'].isna().astype(int), DATA['default'].isna().astype(int), XX.values)\n",
    "causal.est_propensity_s()\n",
    "\n",
    "print(causal.propensity)"
   ]
  },
  {
   "cell_type": "code",
   "execution_count": 586,
   "metadata": {
    "scrolled": true
   },
   "outputs": [
    {
     "name": "stdout",
     "output_type": "stream",
     "text": [
      "Optimization terminated successfully.\n",
      "         Current function value: 0.324667\n",
      "         Iterations 7\n"
     ]
    },
    {
     "data": {
      "text/html": [
       "<table class=\"simpletable\">\n",
       "<caption>Logit Regression Results</caption>\n",
       "<tr>\n",
       "  <th>Dep. Variable:</th>      <td>default</td>     <th>  No. Observations:  </th>  <td> 99976</td> \n",
       "</tr>\n",
       "<tr>\n",
       "  <th>Model:</th>               <td>Logit</td>      <th>  Df Residuals:      </th>  <td> 99868</td> \n",
       "</tr>\n",
       "<tr>\n",
       "  <th>Method:</th>               <td>MLE</td>       <th>  Df Model:          </th>  <td>   107</td> \n",
       "</tr>\n",
       "<tr>\n",
       "  <th>Date:</th>          <td>Tue, 10 Mar 2020</td> <th>  Pseudo R-squ.:     </th> <td>0.001441</td>\n",
       "</tr>\n",
       "<tr>\n",
       "  <th>Time:</th>              <td>22:14:34</td>     <th>  Log-Likelihood:    </th> <td> -32459.</td>\n",
       "</tr>\n",
       "<tr>\n",
       "  <th>converged:</th>           <td>True</td>       <th>  LL-Null:           </th> <td> -32506.</td>\n",
       "</tr>\n",
       "<tr>\n",
       "  <th> </th>                      <td> </td>        <th>  LLR p-value:       </th>  <td>0.8167</td> \n",
       "</tr>\n",
       "</table>\n",
       "<table class=\"simpletable\">\n",
       "<tr>\n",
       "    <td></td>       <th>coef</th>     <th>std err</th>      <th>z</th>      <th>P>|z|</th>  <th>[0.025</th>    <th>0.975]</th>  \n",
       "</tr>\n",
       "<tr>\n",
       "  <th>const</th> <td>   -2.2168</td> <td>    0.053</td> <td>  -42.127</td> <td> 0.000</td> <td>   -2.320</td> <td>   -2.114</td>\n",
       "</tr>\n",
       "<tr>\n",
       "  <th>X0</th>    <td>    0.2021</td> <td>    0.088</td> <td>    2.292</td> <td> 0.022</td> <td>    0.029</td> <td>    0.375</td>\n",
       "</tr>\n",
       "<tr>\n",
       "  <th>X3</th>    <td>   -0.0547</td> <td>    0.058</td> <td>   -0.937</td> <td> 0.349</td> <td>   -0.169</td> <td>    0.060</td>\n",
       "</tr>\n",
       "<tr>\n",
       "  <th>X4</th>    <td>   -0.0048</td> <td>    0.169</td> <td>   -0.029</td> <td> 0.977</td> <td>   -0.337</td> <td>    0.327</td>\n",
       "</tr>\n",
       "<tr>\n",
       "  <th>X5</th>    <td>   -0.4060</td> <td>    0.390</td> <td>   -1.041</td> <td> 0.298</td> <td>   -1.170</td> <td>    0.358</td>\n",
       "</tr>\n",
       "<tr>\n",
       "  <th>X6</th>    <td>   -0.0946</td> <td>    0.054</td> <td>   -1.759</td> <td> 0.079</td> <td>   -0.200</td> <td>    0.011</td>\n",
       "</tr>\n",
       "<tr>\n",
       "  <th>X7</th>    <td>   -0.2214</td> <td>    0.184</td> <td>   -1.206</td> <td> 0.228</td> <td>   -0.581</td> <td>    0.138</td>\n",
       "</tr>\n",
       "<tr>\n",
       "  <th>X8</th>    <td>   -0.1188</td> <td>    0.388</td> <td>   -0.306</td> <td> 0.759</td> <td>   -0.879</td> <td>    0.641</td>\n",
       "</tr>\n",
       "<tr>\n",
       "  <th>X9</th>    <td>   -0.0183</td> <td>    0.056</td> <td>   -0.325</td> <td> 0.745</td> <td>   -0.129</td> <td>    0.092</td>\n",
       "</tr>\n",
       "<tr>\n",
       "  <th>X10</th>   <td>    0.0895</td> <td>    0.156</td> <td>    0.573</td> <td> 0.567</td> <td>   -0.217</td> <td>    0.396</td>\n",
       "</tr>\n",
       "<tr>\n",
       "  <th>X11</th>   <td>    0.4531</td> <td>    0.315</td> <td>    1.438</td> <td> 0.150</td> <td>   -0.164</td> <td>    1.071</td>\n",
       "</tr>\n",
       "<tr>\n",
       "  <th>X12</th>   <td>    0.0534</td> <td>    0.044</td> <td>    1.206</td> <td> 0.228</td> <td>   -0.033</td> <td>    0.140</td>\n",
       "</tr>\n",
       "<tr>\n",
       "  <th>X13</th>   <td>    0.0387</td> <td>    0.065</td> <td>    0.593</td> <td> 0.553</td> <td>   -0.089</td> <td>    0.166</td>\n",
       "</tr>\n",
       "<tr>\n",
       "  <th>X14</th>   <td>    0.0192</td> <td>    0.147</td> <td>    0.131</td> <td> 0.896</td> <td>   -0.269</td> <td>    0.307</td>\n",
       "</tr>\n",
       "<tr>\n",
       "  <th>X15</th>   <td>   -0.3895</td> <td>    0.302</td> <td>   -1.291</td> <td> 0.197</td> <td>   -0.981</td> <td>    0.202</td>\n",
       "</tr>\n",
       "<tr>\n",
       "  <th>X16</th>   <td>   -0.0222</td> <td>    0.039</td> <td>   -0.571</td> <td> 0.568</td> <td>   -0.099</td> <td>    0.054</td>\n",
       "</tr>\n",
       "<tr>\n",
       "  <th>X17</th>   <td>   -0.2190</td> <td>    0.175</td> <td>   -1.254</td> <td> 0.210</td> <td>   -0.561</td> <td>    0.123</td>\n",
       "</tr>\n",
       "<tr>\n",
       "  <th>X18</th>   <td>   -0.0663</td> <td>    0.137</td> <td>   -0.484</td> <td> 0.628</td> <td>   -0.335</td> <td>    0.202</td>\n",
       "</tr>\n",
       "<tr>\n",
       "  <th>X19</th>   <td>   -0.4236</td> <td>    0.332</td> <td>   -1.278</td> <td> 0.201</td> <td>   -1.073</td> <td>    0.226</td>\n",
       "</tr>\n",
       "<tr>\n",
       "  <th>X20</th>   <td>    0.0550</td> <td>    0.062</td> <td>    0.894</td> <td> 0.371</td> <td>   -0.066</td> <td>    0.176</td>\n",
       "</tr>\n",
       "<tr>\n",
       "  <th>X21</th>   <td>    0.0226</td> <td>    0.238</td> <td>    0.095</td> <td> 0.924</td> <td>   -0.444</td> <td>    0.489</td>\n",
       "</tr>\n",
       "<tr>\n",
       "  <th>X22</th>   <td>    0.0852</td> <td>    0.116</td> <td>    0.732</td> <td> 0.464</td> <td>   -0.143</td> <td>    0.313</td>\n",
       "</tr>\n",
       "<tr>\n",
       "  <th>X23</th>   <td>   -0.0750</td> <td>    0.131</td> <td>   -0.573</td> <td> 0.567</td> <td>   -0.331</td> <td>    0.181</td>\n",
       "</tr>\n",
       "<tr>\n",
       "  <th>X24</th>   <td>    0.1040</td> <td>    0.447</td> <td>    0.233</td> <td> 0.816</td> <td>   -0.772</td> <td>    0.980</td>\n",
       "</tr>\n",
       "<tr>\n",
       "  <th>X25</th>   <td>    0.0612</td> <td>    0.107</td> <td>    0.572</td> <td> 0.567</td> <td>   -0.149</td> <td>    0.271</td>\n",
       "</tr>\n",
       "<tr>\n",
       "  <th>X27</th>   <td>   -0.3249</td> <td>    0.131</td> <td>   -2.480</td> <td> 0.013</td> <td>   -0.582</td> <td>   -0.068</td>\n",
       "</tr>\n",
       "<tr>\n",
       "  <th>X28</th>   <td>    0.0861</td> <td>    0.377</td> <td>    0.228</td> <td> 0.820</td> <td>   -0.654</td> <td>    0.826</td>\n",
       "</tr>\n",
       "<tr>\n",
       "  <th>X29</th>   <td>    0.5475</td> <td>    0.781</td> <td>    0.701</td> <td> 0.483</td> <td>   -0.983</td> <td>    2.078</td>\n",
       "</tr>\n",
       "<tr>\n",
       "  <th>X30</th>   <td>    0.1156</td> <td>    0.178</td> <td>    0.650</td> <td> 0.516</td> <td>   -0.233</td> <td>    0.464</td>\n",
       "</tr>\n",
       "<tr>\n",
       "  <th>X31</th>   <td>   -0.2233</td> <td>    0.192</td> <td>   -1.166</td> <td> 0.244</td> <td>   -0.599</td> <td>    0.152</td>\n",
       "</tr>\n",
       "<tr>\n",
       "  <th>X32</th>   <td>    0.0280</td> <td>    0.120</td> <td>    0.232</td> <td> 0.816</td> <td>   -0.208</td> <td>    0.264</td>\n",
       "</tr>\n",
       "<tr>\n",
       "  <th>X33</th>   <td>    0.4089</td> <td>    0.292</td> <td>    1.401</td> <td> 0.161</td> <td>   -0.163</td> <td>    0.981</td>\n",
       "</tr>\n",
       "<tr>\n",
       "  <th>X34</th>   <td>    0.5320</td> <td>    0.282</td> <td>    1.887</td> <td> 0.059</td> <td>   -0.020</td> <td>    1.084</td>\n",
       "</tr>\n",
       "<tr>\n",
       "  <th>X35</th>   <td>    0.1698</td> <td>    0.275</td> <td>    0.616</td> <td> 0.538</td> <td>   -0.370</td> <td>    0.710</td>\n",
       "</tr>\n",
       "<tr>\n",
       "  <th>X36</th>   <td>   -0.1351</td> <td>    0.431</td> <td>   -0.314</td> <td> 0.754</td> <td>   -0.979</td> <td>    0.709</td>\n",
       "</tr>\n",
       "<tr>\n",
       "  <th>X37</th>   <td>   -0.0786</td> <td>    0.412</td> <td>   -0.191</td> <td> 0.849</td> <td>   -0.887</td> <td>    0.730</td>\n",
       "</tr>\n",
       "<tr>\n",
       "  <th>X38</th>   <td>   -0.0089</td> <td>    0.756</td> <td>   -0.012</td> <td> 0.991</td> <td>   -1.491</td> <td>    1.474</td>\n",
       "</tr>\n",
       "<tr>\n",
       "  <th>X39</th>   <td>    0.0914</td> <td>    0.169</td> <td>    0.542</td> <td> 0.588</td> <td>   -0.239</td> <td>    0.422</td>\n",
       "</tr>\n",
       "<tr>\n",
       "  <th>X40</th>   <td>   -0.0061</td> <td>    0.094</td> <td>   -0.065</td> <td> 0.948</td> <td>   -0.191</td> <td>    0.179</td>\n",
       "</tr>\n",
       "<tr>\n",
       "  <th>X41</th>   <td>   -0.0523</td> <td>    0.179</td> <td>   -0.293</td> <td> 0.770</td> <td>   -0.403</td> <td>    0.298</td>\n",
       "</tr>\n",
       "<tr>\n",
       "  <th>X42</th>   <td>    0.3386</td> <td>    0.482</td> <td>    0.703</td> <td> 0.482</td> <td>   -0.605</td> <td>    1.282</td>\n",
       "</tr>\n",
       "<tr>\n",
       "  <th>X43</th>   <td>    0.0685</td> <td>    0.110</td> <td>    0.624</td> <td> 0.532</td> <td>   -0.147</td> <td>    0.284</td>\n",
       "</tr>\n",
       "<tr>\n",
       "  <th>X44</th>   <td>    0.0336</td> <td>    0.095</td> <td>    0.355</td> <td> 0.722</td> <td>   -0.152</td> <td>    0.219</td>\n",
       "</tr>\n",
       "<tr>\n",
       "  <th>X45</th>   <td>    0.2289</td> <td>    0.404</td> <td>    0.566</td> <td> 0.571</td> <td>   -0.563</td> <td>    1.021</td>\n",
       "</tr>\n",
       "<tr>\n",
       "  <th>X46</th>   <td>    0.2179</td> <td>    0.496</td> <td>    0.440</td> <td> 0.660</td> <td>   -0.754</td> <td>    1.190</td>\n",
       "</tr>\n",
       "<tr>\n",
       "  <th>X47</th>   <td>   -0.0475</td> <td>    0.075</td> <td>   -0.634</td> <td> 0.526</td> <td>   -0.194</td> <td>    0.099</td>\n",
       "</tr>\n",
       "<tr>\n",
       "  <th>X48</th>   <td>    0.3439</td> <td>    0.433</td> <td>    0.795</td> <td> 0.427</td> <td>   -0.504</td> <td>    1.192</td>\n",
       "</tr>\n",
       "<tr>\n",
       "  <th>X49</th>   <td>    0.0454</td> <td>    0.155</td> <td>    0.292</td> <td> 0.770</td> <td>   -0.259</td> <td>    0.350</td>\n",
       "</tr>\n",
       "<tr>\n",
       "  <th>X50</th>   <td>   -0.2049</td> <td>    0.310</td> <td>   -0.661</td> <td> 0.508</td> <td>   -0.812</td> <td>    0.402</td>\n",
       "</tr>\n",
       "<tr>\n",
       "  <th>X51</th>   <td>    0.1547</td> <td>    0.356</td> <td>    0.434</td> <td> 0.664</td> <td>   -0.544</td> <td>    0.853</td>\n",
       "</tr>\n",
       "<tr>\n",
       "  <th>X52</th>   <td>    0.1209</td> <td>    0.124</td> <td>    0.976</td> <td> 0.329</td> <td>   -0.122</td> <td>    0.364</td>\n",
       "</tr>\n",
       "<tr>\n",
       "  <th>X53</th>   <td>   -0.0393</td> <td>    0.352</td> <td>   -0.112</td> <td> 0.911</td> <td>   -0.730</td> <td>    0.651</td>\n",
       "</tr>\n",
       "<tr>\n",
       "  <th>X55</th>   <td>    0.1234</td> <td>    0.058</td> <td>    2.132</td> <td> 0.033</td> <td>    0.010</td> <td>    0.237</td>\n",
       "</tr>\n",
       "<tr>\n",
       "  <th>X56</th>   <td>   -0.0433</td> <td>    0.120</td> <td>   -0.360</td> <td> 0.719</td> <td>   -0.279</td> <td>    0.192</td>\n",
       "</tr>\n",
       "<tr>\n",
       "  <th>X57</th>   <td>   -0.0433</td> <td>    0.090</td> <td>   -0.480</td> <td> 0.631</td> <td>   -0.220</td> <td>    0.133</td>\n",
       "</tr>\n",
       "<tr>\n",
       "  <th>X58</th>   <td>   -0.0747</td> <td>    0.053</td> <td>   -1.414</td> <td> 0.157</td> <td>   -0.178</td> <td>    0.029</td>\n",
       "</tr>\n",
       "<tr>\n",
       "  <th>X59</th>   <td>    0.1894</td> <td>    0.074</td> <td>    2.558</td> <td> 0.011</td> <td>    0.044</td> <td>    0.335</td>\n",
       "</tr>\n",
       "<tr>\n",
       "  <th>X60</th>   <td>    0.0203</td> <td>    0.134</td> <td>    0.151</td> <td> 0.880</td> <td>   -0.243</td> <td>    0.284</td>\n",
       "</tr>\n",
       "<tr>\n",
       "  <th>X61</th>   <td>   -0.1439</td> <td>    0.206</td> <td>   -0.697</td> <td> 0.486</td> <td>   -0.549</td> <td>    0.261</td>\n",
       "</tr>\n",
       "<tr>\n",
       "  <th>X62</th>   <td>   -0.0547</td> <td>    0.137</td> <td>   -0.398</td> <td> 0.690</td> <td>   -0.324</td> <td>    0.215</td>\n",
       "</tr>\n",
       "<tr>\n",
       "  <th>X63</th>   <td>    0.0705</td> <td>    0.108</td> <td>    0.653</td> <td> 0.514</td> <td>   -0.141</td> <td>    0.282</td>\n",
       "</tr>\n",
       "<tr>\n",
       "  <th>X64</th>   <td>    0.0051</td> <td>    0.053</td> <td>    0.095</td> <td> 0.924</td> <td>   -0.100</td> <td>    0.110</td>\n",
       "</tr>\n",
       "<tr>\n",
       "  <th>X65</th>   <td>   -0.0196</td> <td>    0.039</td> <td>   -0.506</td> <td> 0.613</td> <td>   -0.096</td> <td>    0.056</td>\n",
       "</tr>\n",
       "<tr>\n",
       "  <th>X66</th>   <td>    0.0119</td> <td>    0.042</td> <td>    0.280</td> <td> 0.779</td> <td>   -0.071</td> <td>    0.095</td>\n",
       "</tr>\n",
       "<tr>\n",
       "  <th>X67</th>   <td>   -0.9819</td> <td>    1.021</td> <td>   -0.962</td> <td> 0.336</td> <td>   -2.983</td> <td>    1.019</td>\n",
       "</tr>\n",
       "<tr>\n",
       "  <th>X68</th>   <td>    0.0894</td> <td>    0.090</td> <td>    0.994</td> <td> 0.320</td> <td>   -0.087</td> <td>    0.266</td>\n",
       "</tr>\n",
       "<tr>\n",
       "  <th>X69</th>   <td>   -0.0094</td> <td>    0.031</td> <td>   -0.300</td> <td> 0.764</td> <td>   -0.071</td> <td>    0.052</td>\n",
       "</tr>\n",
       "<tr>\n",
       "  <th>X70</th>   <td>   -0.0216</td> <td>    0.041</td> <td>   -0.533</td> <td> 0.594</td> <td>   -0.101</td> <td>    0.058</td>\n",
       "</tr>\n",
       "<tr>\n",
       "  <th>X71</th>   <td>    0.0314</td> <td>    0.031</td> <td>    1.027</td> <td> 0.305</td> <td>   -0.029</td> <td>    0.091</td>\n",
       "</tr>\n",
       "<tr>\n",
       "  <th>X72</th>   <td>   -0.0046</td> <td>    0.047</td> <td>   -0.098</td> <td> 0.922</td> <td>   -0.098</td> <td>    0.088</td>\n",
       "</tr>\n",
       "<tr>\n",
       "  <th>X73</th>   <td>    0.0175</td> <td>    0.103</td> <td>    0.169</td> <td> 0.865</td> <td>   -0.185</td> <td>    0.220</td>\n",
       "</tr>\n",
       "<tr>\n",
       "  <th>X75</th>   <td>   -0.0741</td> <td>    0.046</td> <td>   -1.603</td> <td> 0.109</td> <td>   -0.165</td> <td>    0.016</td>\n",
       "</tr>\n",
       "<tr>\n",
       "  <th>X76</th>   <td>    0.0215</td> <td>    0.103</td> <td>    0.208</td> <td> 0.835</td> <td>   -0.181</td> <td>    0.224</td>\n",
       "</tr>\n",
       "<tr>\n",
       "  <th>X77</th>   <td>    0.6580</td> <td>    1.710</td> <td>    0.385</td> <td> 0.700</td> <td>   -2.694</td> <td>    4.010</td>\n",
       "</tr>\n",
       "<tr>\n",
       "  <th>X78</th>   <td>    0.0574</td> <td>    0.033</td> <td>    1.759</td> <td> 0.079</td> <td>   -0.007</td> <td>    0.121</td>\n",
       "</tr>\n",
       "<tr>\n",
       "  <th>X79</th>   <td>    0.0516</td> <td>    0.048</td> <td>    1.086</td> <td> 0.277</td> <td>   -0.042</td> <td>    0.145</td>\n",
       "</tr>\n",
       "<tr>\n",
       "  <th>X80</th>   <td>    0.1046</td> <td>    0.108</td> <td>    0.966</td> <td> 0.334</td> <td>   -0.108</td> <td>    0.317</td>\n",
       "</tr>\n",
       "<tr>\n",
       "  <th>X81</th>   <td>    0.4787</td> <td>    1.457</td> <td>    0.328</td> <td> 0.743</td> <td>   -2.378</td> <td>    3.335</td>\n",
       "</tr>\n",
       "<tr>\n",
       "  <th>X82</th>   <td>    0.0298</td> <td>    0.044</td> <td>    0.677</td> <td> 0.498</td> <td>   -0.056</td> <td>    0.116</td>\n",
       "</tr>\n",
       "<tr>\n",
       "  <th>X83</th>   <td>   -0.0059</td> <td>    0.105</td> <td>   -0.057</td> <td> 0.955</td> <td>   -0.212</td> <td>    0.200</td>\n",
       "</tr>\n",
       "<tr>\n",
       "  <th>X84</th>   <td>    0.0081</td> <td>    0.033</td> <td>    0.244</td> <td> 0.808</td> <td>   -0.057</td> <td>    0.073</td>\n",
       "</tr>\n",
       "<tr>\n",
       "  <th>X85</th>   <td>    0.0138</td> <td>    0.072</td> <td>    0.192</td> <td> 0.848</td> <td>   -0.127</td> <td>    0.155</td>\n",
       "</tr>\n",
       "<tr>\n",
       "  <th>X86</th>   <td>   -0.0221</td> <td>    0.033</td> <td>   -0.674</td> <td> 0.501</td> <td>   -0.086</td> <td>    0.042</td>\n",
       "</tr>\n",
       "<tr>\n",
       "  <th>X87</th>   <td>   -0.1197</td> <td>    0.070</td> <td>   -1.722</td> <td> 0.085</td> <td>   -0.256</td> <td>    0.017</td>\n",
       "</tr>\n",
       "<tr>\n",
       "  <th>X88</th>   <td>   -0.0852</td> <td>    0.314</td> <td>   -0.271</td> <td> 0.786</td> <td>   -0.701</td> <td>    0.530</td>\n",
       "</tr>\n",
       "<tr>\n",
       "  <th>X89</th>   <td> 5.028e-07</td> <td> 4.67e-07</td> <td>    1.078</td> <td> 0.281</td> <td>-4.12e-07</td> <td> 1.42e-06</td>\n",
       "</tr>\n",
       "<tr>\n",
       "  <th>X90</th>   <td>    0.0021</td> <td>    0.002</td> <td>    0.844</td> <td> 0.399</td> <td>   -0.003</td> <td>    0.007</td>\n",
       "</tr>\n",
       "<tr>\n",
       "  <th>X91</th>   <td>    0.0003</td> <td>    0.001</td> <td>    0.406</td> <td> 0.685</td> <td>   -0.001</td> <td>    0.002</td>\n",
       "</tr>\n",
       "<tr>\n",
       "  <th>X92</th>   <td>    0.0034</td> <td>    0.007</td> <td>    0.457</td> <td> 0.647</td> <td>   -0.011</td> <td>    0.018</td>\n",
       "</tr>\n",
       "<tr>\n",
       "  <th>X93</th>   <td>-2.755e-05</td> <td>    0.001</td> <td>   -0.043</td> <td> 0.965</td> <td>   -0.001</td> <td>    0.001</td>\n",
       "</tr>\n",
       "<tr>\n",
       "  <th>X94</th>   <td>-1.993e-06</td> <td> 9.19e-07</td> <td>   -2.168</td> <td> 0.030</td> <td>-3.79e-06</td> <td>-1.91e-07</td>\n",
       "</tr>\n",
       "<tr>\n",
       "  <th>X95</th>   <td>    0.0290</td> <td>    0.049</td> <td>    0.593</td> <td> 0.553</td> <td>   -0.067</td> <td>    0.125</td>\n",
       "</tr>\n",
       "<tr>\n",
       "  <th>X96</th>   <td>    0.0097</td> <td>    0.011</td> <td>    0.861</td> <td> 0.389</td> <td>   -0.012</td> <td>    0.032</td>\n",
       "</tr>\n",
       "<tr>\n",
       "  <th>X97</th>   <td>   -0.0157</td> <td>    0.041</td> <td>   -0.379</td> <td> 0.705</td> <td>   -0.097</td> <td>    0.065</td>\n",
       "</tr>\n",
       "<tr>\n",
       "  <th>X98</th>   <td>   -0.0400</td> <td>    0.039</td> <td>   -1.033</td> <td> 0.302</td> <td>   -0.116</td> <td>    0.036</td>\n",
       "</tr>\n",
       "<tr>\n",
       "  <th>X99</th>   <td>   -0.0011</td> <td>    0.001</td> <td>   -1.123</td> <td> 0.261</td> <td>   -0.003</td> <td>    0.001</td>\n",
       "</tr>\n",
       "<tr>\n",
       "  <th>X100</th>  <td>    0.0188</td> <td>    0.011</td> <td>    1.698</td> <td> 0.090</td> <td>   -0.003</td> <td>    0.040</td>\n",
       "</tr>\n",
       "<tr>\n",
       "  <th>X101</th>  <td>    1.0685</td> <td>    0.942</td> <td>    1.134</td> <td> 0.257</td> <td>   -0.778</td> <td>    2.915</td>\n",
       "</tr>\n",
       "<tr>\n",
       "  <th>X102</th>  <td>    0.7425</td> <td>    0.945</td> <td>    0.786</td> <td> 0.432</td> <td>   -1.109</td> <td>    2.594</td>\n",
       "</tr>\n",
       "<tr>\n",
       "  <th>X103</th>  <td>   -0.0005</td> <td>    0.002</td> <td>   -0.245</td> <td> 0.807</td> <td>   -0.005</td> <td>    0.004</td>\n",
       "</tr>\n",
       "<tr>\n",
       "  <th>X104</th>  <td>-7.408e-05</td> <td>    0.000</td> <td>   -0.642</td> <td> 0.521</td> <td>   -0.000</td> <td>    0.000</td>\n",
       "</tr>\n",
       "<tr>\n",
       "  <th>X105</th>  <td>  1.72e-07</td> <td> 5.75e-07</td> <td>    0.299</td> <td> 0.765</td> <td>-9.55e-07</td> <td>  1.3e-06</td>\n",
       "</tr>\n",
       "<tr>\n",
       "  <th>X106</th>  <td>-1.497e-06</td> <td> 8.53e-07</td> <td>   -1.755</td> <td> 0.079</td> <td>-3.17e-06</td> <td> 1.75e-07</td>\n",
       "</tr>\n",
       "<tr>\n",
       "  <th>X107</th>  <td> 1.103e-07</td> <td> 1.87e-07</td> <td>    0.590</td> <td> 0.555</td> <td>-2.56e-07</td> <td> 4.77e-07</td>\n",
       "</tr>\n",
       "<tr>\n",
       "  <th>X108</th>  <td>   -0.0517</td> <td>    0.035</td> <td>   -1.471</td> <td> 0.141</td> <td>   -0.121</td> <td>    0.017</td>\n",
       "</tr>\n",
       "<tr>\n",
       "  <th>X109</th>  <td>    0.0442</td> <td>    0.045</td> <td>    0.992</td> <td> 0.321</td> <td>   -0.043</td> <td>    0.131</td>\n",
       "</tr>\n",
       "<tr>\n",
       "  <th>X110</th>  <td>   -0.0104</td> <td>    0.027</td> <td>   -0.385</td> <td> 0.700</td> <td>   -0.063</td> <td>    0.042</td>\n",
       "</tr>\n",
       "<tr>\n",
       "  <th>X111</th>  <td>   -0.0910</td> <td>    0.039</td> <td>   -2.353</td> <td> 0.019</td> <td>   -0.167</td> <td>   -0.015</td>\n",
       "</tr>\n",
       "</table>"
      ],
      "text/plain": [
       "<class 'statsmodels.iolib.summary.Summary'>\n",
       "\"\"\"\n",
       "                           Logit Regression Results                           \n",
       "==============================================================================\n",
       "Dep. Variable:                default   No. Observations:                99976\n",
       "Model:                          Logit   Df Residuals:                    99868\n",
       "Method:                           MLE   Df Model:                          107\n",
       "Date:                Tue, 10 Mar 2020   Pseudo R-squ.:                0.001441\n",
       "Time:                        22:14:34   Log-Likelihood:                -32459.\n",
       "converged:                       True   LL-Null:                       -32506.\n",
       "                                        LLR p-value:                    0.8167\n",
       "==============================================================================\n",
       "                 coef    std err          z      P>|z|      [0.025      0.975]\n",
       "------------------------------------------------------------------------------\n",
       "const         -2.2168      0.053    -42.127      0.000      -2.320      -2.114\n",
       "X0             0.2021      0.088      2.292      0.022       0.029       0.375\n",
       "X3            -0.0547      0.058     -0.937      0.349      -0.169       0.060\n",
       "X4            -0.0048      0.169     -0.029      0.977      -0.337       0.327\n",
       "X5            -0.4060      0.390     -1.041      0.298      -1.170       0.358\n",
       "X6            -0.0946      0.054     -1.759      0.079      -0.200       0.011\n",
       "X7            -0.2214      0.184     -1.206      0.228      -0.581       0.138\n",
       "X8            -0.1188      0.388     -0.306      0.759      -0.879       0.641\n",
       "X9            -0.0183      0.056     -0.325      0.745      -0.129       0.092\n",
       "X10            0.0895      0.156      0.573      0.567      -0.217       0.396\n",
       "X11            0.4531      0.315      1.438      0.150      -0.164       1.071\n",
       "X12            0.0534      0.044      1.206      0.228      -0.033       0.140\n",
       "X13            0.0387      0.065      0.593      0.553      -0.089       0.166\n",
       "X14            0.0192      0.147      0.131      0.896      -0.269       0.307\n",
       "X15           -0.3895      0.302     -1.291      0.197      -0.981       0.202\n",
       "X16           -0.0222      0.039     -0.571      0.568      -0.099       0.054\n",
       "X17           -0.2190      0.175     -1.254      0.210      -0.561       0.123\n",
       "X18           -0.0663      0.137     -0.484      0.628      -0.335       0.202\n",
       "X19           -0.4236      0.332     -1.278      0.201      -1.073       0.226\n",
       "X20            0.0550      0.062      0.894      0.371      -0.066       0.176\n",
       "X21            0.0226      0.238      0.095      0.924      -0.444       0.489\n",
       "X22            0.0852      0.116      0.732      0.464      -0.143       0.313\n",
       "X23           -0.0750      0.131     -0.573      0.567      -0.331       0.181\n",
       "X24            0.1040      0.447      0.233      0.816      -0.772       0.980\n",
       "X25            0.0612      0.107      0.572      0.567      -0.149       0.271\n",
       "X27           -0.3249      0.131     -2.480      0.013      -0.582      -0.068\n",
       "X28            0.0861      0.377      0.228      0.820      -0.654       0.826\n",
       "X29            0.5475      0.781      0.701      0.483      -0.983       2.078\n",
       "X30            0.1156      0.178      0.650      0.516      -0.233       0.464\n",
       "X31           -0.2233      0.192     -1.166      0.244      -0.599       0.152\n",
       "X32            0.0280      0.120      0.232      0.816      -0.208       0.264\n",
       "X33            0.4089      0.292      1.401      0.161      -0.163       0.981\n",
       "X34            0.5320      0.282      1.887      0.059      -0.020       1.084\n",
       "X35            0.1698      0.275      0.616      0.538      -0.370       0.710\n",
       "X36           -0.1351      0.431     -0.314      0.754      -0.979       0.709\n",
       "X37           -0.0786      0.412     -0.191      0.849      -0.887       0.730\n",
       "X38           -0.0089      0.756     -0.012      0.991      -1.491       1.474\n",
       "X39            0.0914      0.169      0.542      0.588      -0.239       0.422\n",
       "X40           -0.0061      0.094     -0.065      0.948      -0.191       0.179\n",
       "X41           -0.0523      0.179     -0.293      0.770      -0.403       0.298\n",
       "X42            0.3386      0.482      0.703      0.482      -0.605       1.282\n",
       "X43            0.0685      0.110      0.624      0.532      -0.147       0.284\n",
       "X44            0.0336      0.095      0.355      0.722      -0.152       0.219\n",
       "X45            0.2289      0.404      0.566      0.571      -0.563       1.021\n",
       "X46            0.2179      0.496      0.440      0.660      -0.754       1.190\n",
       "X47           -0.0475      0.075     -0.634      0.526      -0.194       0.099\n",
       "X48            0.3439      0.433      0.795      0.427      -0.504       1.192\n",
       "X49            0.0454      0.155      0.292      0.770      -0.259       0.350\n",
       "X50           -0.2049      0.310     -0.661      0.508      -0.812       0.402\n",
       "X51            0.1547      0.356      0.434      0.664      -0.544       0.853\n",
       "X52            0.1209      0.124      0.976      0.329      -0.122       0.364\n",
       "X53           -0.0393      0.352     -0.112      0.911      -0.730       0.651\n",
       "X55            0.1234      0.058      2.132      0.033       0.010       0.237\n",
       "X56           -0.0433      0.120     -0.360      0.719      -0.279       0.192\n",
       "X57           -0.0433      0.090     -0.480      0.631      -0.220       0.133\n",
       "X58           -0.0747      0.053     -1.414      0.157      -0.178       0.029\n",
       "X59            0.1894      0.074      2.558      0.011       0.044       0.335\n",
       "X60            0.0203      0.134      0.151      0.880      -0.243       0.284\n",
       "X61           -0.1439      0.206     -0.697      0.486      -0.549       0.261\n",
       "X62           -0.0547      0.137     -0.398      0.690      -0.324       0.215\n",
       "X63            0.0705      0.108      0.653      0.514      -0.141       0.282\n",
       "X64            0.0051      0.053      0.095      0.924      -0.100       0.110\n",
       "X65           -0.0196      0.039     -0.506      0.613      -0.096       0.056\n",
       "X66            0.0119      0.042      0.280      0.779      -0.071       0.095\n",
       "X67           -0.9819      1.021     -0.962      0.336      -2.983       1.019\n",
       "X68            0.0894      0.090      0.994      0.320      -0.087       0.266\n",
       "X69           -0.0094      0.031     -0.300      0.764      -0.071       0.052\n",
       "X70           -0.0216      0.041     -0.533      0.594      -0.101       0.058\n",
       "X71            0.0314      0.031      1.027      0.305      -0.029       0.091\n",
       "X72           -0.0046      0.047     -0.098      0.922      -0.098       0.088\n",
       "X73            0.0175      0.103      0.169      0.865      -0.185       0.220\n",
       "X75           -0.0741      0.046     -1.603      0.109      -0.165       0.016\n",
       "X76            0.0215      0.103      0.208      0.835      -0.181       0.224\n",
       "X77            0.6580      1.710      0.385      0.700      -2.694       4.010\n",
       "X78            0.0574      0.033      1.759      0.079      -0.007       0.121\n",
       "X79            0.0516      0.048      1.086      0.277      -0.042       0.145\n",
       "X80            0.1046      0.108      0.966      0.334      -0.108       0.317\n",
       "X81            0.4787      1.457      0.328      0.743      -2.378       3.335\n",
       "X82            0.0298      0.044      0.677      0.498      -0.056       0.116\n",
       "X83           -0.0059      0.105     -0.057      0.955      -0.212       0.200\n",
       "X84            0.0081      0.033      0.244      0.808      -0.057       0.073\n",
       "X85            0.0138      0.072      0.192      0.848      -0.127       0.155\n",
       "X86           -0.0221      0.033     -0.674      0.501      -0.086       0.042\n",
       "X87           -0.1197      0.070     -1.722      0.085      -0.256       0.017\n",
       "X88           -0.0852      0.314     -0.271      0.786      -0.701       0.530\n",
       "X89         5.028e-07   4.67e-07      1.078      0.281   -4.12e-07    1.42e-06\n",
       "X90            0.0021      0.002      0.844      0.399      -0.003       0.007\n",
       "X91            0.0003      0.001      0.406      0.685      -0.001       0.002\n",
       "X92            0.0034      0.007      0.457      0.647      -0.011       0.018\n",
       "X93        -2.755e-05      0.001     -0.043      0.965      -0.001       0.001\n",
       "X94        -1.993e-06   9.19e-07     -2.168      0.030   -3.79e-06   -1.91e-07\n",
       "X95            0.0290      0.049      0.593      0.553      -0.067       0.125\n",
       "X96            0.0097      0.011      0.861      0.389      -0.012       0.032\n",
       "X97           -0.0157      0.041     -0.379      0.705      -0.097       0.065\n",
       "X98           -0.0400      0.039     -1.033      0.302      -0.116       0.036\n",
       "X99           -0.0011      0.001     -1.123      0.261      -0.003       0.001\n",
       "X100           0.0188      0.011      1.698      0.090      -0.003       0.040\n",
       "X101           1.0685      0.942      1.134      0.257      -0.778       2.915\n",
       "X102           0.7425      0.945      0.786      0.432      -1.109       2.594\n",
       "X103          -0.0005      0.002     -0.245      0.807      -0.005       0.004\n",
       "X104       -7.408e-05      0.000     -0.642      0.521      -0.000       0.000\n",
       "X105         1.72e-07   5.75e-07      0.299      0.765   -9.55e-07     1.3e-06\n",
       "X106       -1.497e-06   8.53e-07     -1.755      0.079   -3.17e-06    1.75e-07\n",
       "X107        1.103e-07   1.87e-07      0.590      0.555   -2.56e-07    4.77e-07\n",
       "X108          -0.0517      0.035     -1.471      0.141      -0.121       0.017\n",
       "X109           0.0442      0.045      0.992      0.321      -0.043       0.131\n",
       "X110          -0.0104      0.027     -0.385      0.700      -0.063       0.042\n",
       "X111          -0.0910      0.039     -2.353      0.019      -0.167      -0.015\n",
       "==============================================================================\n",
       "\"\"\""
      ]
     },
     "execution_count": 586,
     "metadata": {},
     "output_type": "execute_result"
    }
   ],
   "source": [
    "XX = X\n",
    "XX = sm.add_constant(XX)    \n",
    "logistic = Logit(exog=XX, endog=DATA['default'].isna().astype(int))\n",
    "result = logistic.fit()\n",
    "result.summary()#result.summary2()\n"
   ]
  },
  {
   "cell_type": "code",
   "execution_count": null,
   "metadata": {},
   "outputs": [],
   "source": [
    "plt.plot(causal.propensity['fitted'],result.predict(), '.')"
   ]
  },
  {
   "cell_type": "code",
   "execution_count": null,
   "metadata": {},
   "outputs": [],
   "source": []
  }
 ],
 "metadata": {
  "kernelspec": {
   "display_name": "Python 3",
   "language": "python",
   "name": "python3"
  },
  "language_info": {
   "codemirror_mode": {
    "name": "ipython",
    "version": 3
   },
   "file_extension": ".py",
   "mimetype": "text/x-python",
   "name": "python",
   "nbconvert_exporter": "python",
   "pygments_lexer": "ipython3",
   "version": "3.6.4"
  }
 },
 "nbformat": 4,
 "nbformat_minor": 2
}
